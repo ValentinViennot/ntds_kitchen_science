{
 "cells": [
  {
   "cell_type": "markdown",
   "metadata": {},
   "source": [
    "# Combined Method: kNN and graph filtering\n",
    "We first experiment with different adjacency matrices to see which ones give feasible ingredient suggestions after graph filtering. Then, we combine ingredient suggestion (via graph filtering) and replacement (via kNN) to see how the suggestions change as you add and remove ingredients."
   ]
  },
  {
   "cell_type": "code",
   "execution_count": 1,
   "metadata": {
    "colab": {},
    "colab_type": "code",
    "id": "ZU0wfxR3cWfE"
   },
   "outputs": [],
   "source": [
    "%matplotlib inline\n",
    "import pandas as pd\n",
    "import numpy as np\n",
    "import matplotlib.pyplot as plt\n",
    "import json\n",
    "from pandas.io.json import json_normalize\n",
    "import itertools\n",
    "import networkx as nx"
   ]
  },
  {
   "cell_type": "code",
   "execution_count": 2,
   "metadata": {
    "colab": {
     "base_uri": "https://localhost:8080/",
     "height": 51
    },
    "colab_type": "code",
    "executionInfo": {
     "elapsed": 2312,
     "status": "ok",
     "timestamp": 1578506875387,
     "user": {
      "displayName": "Valentin Viennot",
      "photoUrl": "https://lh3.googleusercontent.com/a-/AAuE7mBFLJ79CAxyL_8r2U4xMZmocG_hr740b8sCBY5q_5Y=s64",
      "userId": "15345576953373911291"
     },
     "user_tz": -60
    },
    "id": "4BPY3ovMddHr",
    "outputId": "2910136b-6d92-4975-af1a-bcb2091662e8"
   },
   "outputs": [],
   "source": [
    "#Load lists of ingredients\n",
    "ingredient_list = np.load('../data/Ingredient_List_USDA_Nutrition_Info.npy')\n",
    "ingredient_list_full = np.load('../data/Ingredient_List.npy')"
   ]
  },
  {
   "cell_type": "code",
   "execution_count": 3,
   "metadata": {
    "colab": {
     "base_uri": "https://localhost:8080/",
     "height": 581
    },
    "colab_type": "code",
    "executionInfo": {
     "elapsed": 5619,
     "status": "ok",
     "timestamp": 1578506878702,
     "user": {
      "displayName": "Valentin Viennot",
      "photoUrl": "https://lh3.googleusercontent.com/a-/AAuE7mBFLJ79CAxyL_8r2U4xMZmocG_hr740b8sCBY5q_5Y=s64",
      "userId": "15345576953373911291"
     },
     "user_tz": -60
    },
    "id": "7Hz74VBjcz-L",
    "outputId": "0629b6f5-2fd0-46b8-8cc0-f02d88bd1956"
   },
   "outputs": [],
   "source": [
    "#Load recipe dataset\n",
    "with open('../data/recipes_with_nutritional_info_fixed_qty.json') as json_file:\n",
    "    data = json.load(json_file)\n",
    "df = pd.DataFrame(data)"
   ]
  },
  {
   "cell_type": "markdown",
   "metadata": {
    "colab_type": "text",
    "id": "WUrA6OTJrnaA"
   },
   "source": [
    "## Project recipe signal over ingredients graph"
   ]
  },
  {
   "cell_type": "code",
   "execution_count": 4,
   "metadata": {
    "colab": {
     "base_uri": "https://localhost:8080/",
     "height": 255
    },
    "colab_type": "code",
    "executionInfo": {
     "elapsed": 5609,
     "status": "ok",
     "timestamp": 1578506878703,
     "user": {
      "displayName": "Valentin Viennot",
      "photoUrl": "https://lh3.googleusercontent.com/a-/AAuE7mBFLJ79CAxyL_8r2U4xMZmocG_hr740b8sCBY5q_5Y=s64",
      "userId": "15345576953373911291"
     },
     "user_tz": -60
    },
    "id": "PU8W6qWRdn_p",
    "outputId": "7e009b01-5292-4762-9561-1a312d93dbae"
   },
   "outputs": [
    {
     "name": "stdout",
     "output_type": "stream",
     "text": [
      "[0. 0. 0. 0. 0. 0. 0. 0. 0. 0. 0. 0. 0. 0. 0. 0. 0. 0. 0. 0. 0. 0. 0. 0.\n",
      " 0. 0. 0. 0. 0. 0. 0. 0. 0. 0. 0. 0. 0. 0. 0. 0. 0. 0. 0. 0. 0. 0. 0. 0.\n",
      " 0. 0. 0. 0. 0. 0. 0. 0. 0. 0. 0. 0. 0. 0. 0. 0. 0. 0. 0. 0. 0. 0. 0. 0.\n",
      " 0. 0. 0. 0. 0. 0. 0. 0. 0. 0. 0. 0. 0. 0. 0. 0. 0. 0. 0. 0. 0. 0. 0. 0.\n",
      " 0. 0. 0. 0. 0. 1. 0. 0. 0. 0. 0. 0. 0. 0. 0. 0. 0. 0. 0. 0. 0. 0. 0. 0.\n",
      " 0. 0. 0. 0. 0. 0. 0. 1. 0. 0. 0. 0. 0. 0. 0. 0. 0. 0. 0. 0. 0. 0. 0. 0.\n",
      " 0. 0. 0. 0. 0. 0. 0. 0. 0. 0. 0. 0. 0. 0. 0. 0. 0. 0. 0. 0. 0. 0. 0. 0.\n",
      " 1. 0. 0. 0. 0. 0. 0. 0. 1. 0. 0. 0. 0. 0. 0. 0. 0. 0. 0. 0. 0. 0. 0. 0.\n",
      " 0. 0. 0. 0. 0. 0. 0. 0. 0. 0. 0. 0. 0. 0. 0. 0. 0. 0. 0. 0. 0. 0. 0. 0.\n",
      " 0. 0. 0. 0. 0. 0. 0. 0. 0. 0. 0. 0. 0. 0. 0. 0. 0. 0. 0. 0. 0. 0. 0. 0.\n",
      " 0. 0. 0. 0. 0. 0. 0. 0. 0. 0. 0. 0. 0. 0. 0. 0. 0. 0. 0. 0. 0. 0. 0. 0.\n",
      " 0. 0. 0. 0. 0. 0. 0. 0. 0. 0. 0. 0. 0. 0. 0. 0. 0. 0. 0. 1. 0. 0. 0. 0.\n",
      " 0. 0. 0. 0. 0. 0. 0. 0. 0. 0. 0. 0. 0. 0. 0. 0. 0. 0. 0. 0. 1. 0. 0. 0.\n",
      " 0.]\n"
     ]
    }
   ],
   "source": [
    "def createIngredientSignal(df,recipe_number,ingredient_list):\n",
    "    \"\"\"Generate a boolean signal from a recipe with 1's in the positions of the ingredients it contains and zeros elsewhere.\n",
    "    Use the full ingredient name\"\"\"\n",
    "    entry = df.iloc[recipe_number]\n",
    "    recipe = entry['ingredients']\n",
    "    ingredients = []\n",
    "    for ingredient in recipe:\n",
    "        ingredients += [ingredient['text']]\n",
    "    indices = np.in1d(ingredient_list,ingredients)\n",
    "    output = np.zeros(ingredient_list.shape)\n",
    "    output[indices] = 1;\n",
    "    return output\n",
    "\n",
    "# test to project a signal over the ingredients graph\n",
    "test_recipe = 1\n",
    "ingr_signal = createIngredientSignal(df,test_recipe,ingredient_list)\n",
    "print(ingr_signal)"
   ]
  },
  {
   "cell_type": "markdown",
   "metadata": {
    "colab_type": "text",
    "id": "qH57Cg7JrrjE"
   },
   "source": [
    "## Useful functions"
   ]
  },
  {
   "cell_type": "code",
   "execution_count": 5,
   "metadata": {
    "colab": {},
    "colab_type": "code",
    "id": "iGyravG4XAdY"
   },
   "outputs": [],
   "source": [
    "def compute_laplacian(adjacency: np.ndarray, normalize: bool):\n",
    "    \"\"\" Return:\n",
    "        L (n x n ndarray): combinatorial or symmetric normalized Laplacian.\n",
    "    \"\"\"\n",
    "    D = np.diag(np.sum(adjacency, 1)) # Degree matrix\n",
    "    combinatorial = D - adjacency\n",
    "    if normalize:\n",
    "        D_norm = np.diag(np.clip(np.sum(adjacency, 1), 1, None)**(-1/2))\n",
    "        return D_norm @ combinatorial @ D_norm\n",
    "    else:\n",
    "        return combinatorial\n",
    "\n",
    "def spectral_decomposition(laplacian: np.ndarray):\n",
    "    \"\"\" Return:\n",
    "        lamb (np.array): eigenvalues of the Laplacian\n",
    "        U (np.ndarray): corresponding eigenvectors.\n",
    "    \"\"\"\n",
    "    return np.linalg.eigh(laplacian)\n",
    "\n",
    "def GFT(signal, U):\n",
    "    return U.T @ signal\n",
    "\n",
    "def iGFT(fourier_coefficients, U):\n",
    "    return U @ fourier_coefficients\n",
    "\n",
    "def ideal_graph_filter(x: np.ndarray, spectral_response: np.ndarray, U):\n",
    "    \"\"\"Return a filtered signal.\"\"\"\n",
    "    x_gft = GFT(x,U)\n",
    "    filter_gft = x_gft * spectral_response\n",
    "    return iGFT(filter_gft,U)"
   ]
  },
  {
   "cell_type": "markdown",
   "metadata": {
    "colab_type": "text",
    "id": "ZS9Piu6ZsUGW"
   },
   "source": [
    "## Graph filter: Label Propagation\n",
    "Build a graph filter and smooth a recipe signal to get new ingredients recommendations (see further explanation in GraphFiltering.ipynb)."
   ]
  },
  {
   "cell_type": "code",
   "execution_count": 6,
   "metadata": {
    "colab": {},
    "colab_type": "code",
    "id": "vczoHhlIfdZn"
   },
   "outputs": [],
   "source": [
    "def filter_recipe(ingr_signal, adj_mat):\n",
    "    '''Return a bandpass filtered version of the ingreident signal'''\n",
    "    laplacian = compute_laplacian(adj_mat, normalize=True)\n",
    "    lam, U = spectral_decomposition(laplacian)\n",
    "    ideal_bp = np.ones(lam.shape)\n",
    "    ideal_bp[lam >= 1] = 0  \n",
    "    ideal_bp[lam <= 0.8] = 0\n",
    "    x_bp = ideal_graph_filter(ingr_signal,ideal_bp,U)\n",
    "    x_bp[ingr_signal > 0] = 0;    # prevent from outputing the same ingredients already in the recipe\n",
    "    return x_bp\n",
    "\n",
    "def predictNewIngredient(df, test_recipe, ingredient_list, adj_mat, remove=None, NB_RETURN=3):\n",
    "    '''Suggest a new ingredient using graph filtering with an ideal bandpass filter.\n",
    "    Ideally, the new ingredient should be the one that does not already exist in the recipe but has the highest weight after filtering\n",
    "    You can optionally input idices of ingredients to remove.\n",
    "    '''\n",
    "    ingr_signal = createIngredientSignal(df,test_recipe,ingredient_list)\n",
    "    if remove is not None:\n",
    "        ingr_signal[remove] = 0\n",
    "    x_bp = filter_recipe(ingr_signal, adj_mat)\n",
    "    # return the most likely ingredients only\n",
    "    new_ingr_ndx = x_bp.argsort()[-NB_RETURN:][::-1]\n",
    "    new_ingredient = ingredient_list[new_ingr_ndx]\n",
    "    recipe_name = df.iloc[test_recipe]['title']\n",
    "    original_ingredients = ingredient_list[ingr_signal > 0]\n",
    "    return new_ingredient, recipe_name, original_ingredients"
   ]
  },
  {
   "cell_type": "markdown",
   "metadata": {
    "colab_type": "text",
    "id": "jGaFOtiQsdsB"
   },
   "source": [
    "### Test graph filter over different adjacency matrices"
   ]
  },
  {
   "cell_type": "code",
   "execution_count": 7,
   "metadata": {
    "colab": {},
    "colab_type": "code",
    "id": "jnHTGdGvgNwK"
   },
   "outputs": [],
   "source": [
    "def first_word(w):\n",
    "    \"\"\"Return first word of a recipe\"\"\"\n",
    "    nb = 2\n",
    "    wd = ''\n",
    "    i = 0\n",
    "    w = w.split(',')\n",
    "    while i < nb and i < len(w):\n",
    "        wd += w[i]\n",
    "        i = i + 1\n",
    "    return wd\n",
    "def first_word_list(lis):\n",
    "    return ', '.join(np.vectorize(first_word)(lis))\n",
    "\n",
    "def test(adj_mat, ingredient_list = ingredient_list, remove = 2):\n",
    "    \"\"\"Generate ingredient suggestions after ingredient removal via graph filtering\"\"\"\n",
    "    test_recipes = [14, 19, 60, 82]\n",
    "    for tr in test_recipes:\n",
    "        suggested, recipe_name, original = predictNewIngredient(df, tr, ingredient_list, adj_mat)\n",
    "        print(\"Recipe name: {}\\nOriginal Ingredients: {}\\nSuggested Ingredient: {}\".format(\n",
    "            recipe_name,\n",
    "            original,\n",
    "            first_word_list(suggested)))\n",
    "        for i in range(remove):\n",
    "            suggested, _, _ = predictNewIngredient(df, tr, ingredient_list, adj_mat, ingredient_list == original[i])\n",
    "            print(\"After removing {}: {}\".format(first_word(original[i]), first_word_list(suggested)))\n",
    "        print()"
   ]
  },
  {
   "cell_type": "markdown",
   "metadata": {
    "colab_type": "text",
    "id": "KVho1Iadsl1r"
   },
   "source": [
    "#### Combined Normalized Adjacency Matrix (#7)"
   ]
  },
  {
   "cell_type": "code",
   "execution_count": 8,
   "metadata": {
    "colab": {
     "base_uri": "https://localhost:8080/",
     "height": 578
    },
    "colab_type": "code",
    "executionInfo": {
     "elapsed": 5879,
     "status": "ok",
     "timestamp": 1578506879001,
     "user": {
      "displayName": "Valentin Viennot",
      "photoUrl": "https://lh3.googleusercontent.com/a-/AAuE7mBFLJ79CAxyL_8r2U4xMZmocG_hr740b8sCBY5q_5Y=s64",
      "userId": "15345576953373911291"
     },
     "user_tz": -60
    },
    "id": "BQhj_MbI-pNq",
    "outputId": "9ba458cc-917e-42d9-dfe8-f8d20616751c"
   },
   "outputs": [
    {
     "name": "stdout",
     "output_type": "stream",
     "text": [
      "Recipe name: Broccoli Chicken Casserole Recipe\n",
      "Original Ingredients: ['broccoli, raw' 'cheese, cheddar'\n",
      " 'chicken, broiler or fryers, breast, skinless, boneless, meat only, raw'\n",
      " 'lemon juice, raw'\n",
      " 'rice, white, long-grain, regular, unenriched, cooked without salt'\n",
      " 'salad dressing, mayonnaise, regular'\n",
      " 'soup, cream of chicken, canned, condensed']\n",
      "Suggested Ingredient: spices onion powder, spices curry powder, sauce ready-to-serve\n",
      "After removing broccoli raw: broccoli raw, spices onion powder, spices curry powder\n",
      "After removing cheese cheddar: spices curry powder, sauce ready-to-serve, cheese blue\n",
      "\n",
      "Recipe name: Mango Lassi\n",
      "Original Ingredients: ['mango nectar, canned' 'spices, saffron' 'sugars, granulated'\n",
      " 'water, bottled, generic' 'yogurt, greek, plain, nonfat']\n",
      "Suggested Ingredient: grapes red or green (european type, pineapple raw, candies semisweet chocolate\n",
      "After removing mango nectar canned: soy sauce made from soy (tamari), raisins seeded, apples raw\n",
      "After removing spices saffron: grapes red or green (european type, pineapple raw, candies semisweet chocolate\n",
      "\n",
      "Recipe name: Cheesy POPcorn\n",
      "Original Ingredients: ['butter, without salt' 'cheese, parmesan, hard' 'corn, sweet, white, raw'\n",
      " 'oil, olive, salad or cooking']\n",
      "Suggested Ingredient: sauce barbecue, sauce worcestershire, spices cumin seed\n",
      "After removing butter without salt: sauce barbecue, sauce worcestershire, spices cumin seed\n",
      "After removing cheese parmesan: sauce barbecue, sauce worcestershire, spices cumin seed\n",
      "\n",
      "Recipe name: Chinese Pot Roast Recipe\n",
      "Original Ingredients: ['beef, grass-fed, ground, raw' 'cabbage, raw' 'lard'\n",
      " 'soy sauce made from soy (tamari)' 'spices, pepper, black'\n",
      " 'water, bottled, generic']\n",
      "Suggested Ingredient: oil sesame, cheese mozzarella, brussels sprouts raw\n",
      "After removing beef grass-fed: oil sesame, blueberries raw, sauce hoisin\n",
      "After removing cabbage raw: oil sesame, cheese mozzarella, marmalade orange\n",
      "\n"
     ]
    }
   ],
   "source": [
    "adj_mat_norm = np.load('../data/Adjacency_Matrix_7.npy')\n",
    "test(adj_mat_norm)"
   ]
  },
  {
   "cell_type": "markdown",
   "metadata": {
    "colab_type": "text",
    "id": "NN5EhyK_so31"
   },
   "source": [
    "#### Addition Mean Adjacency Matrix (#10)"
   ]
  },
  {
   "cell_type": "code",
   "execution_count": 9,
   "metadata": {
    "colab": {
     "base_uri": "https://localhost:8080/",
     "height": 578
    },
    "colab_type": "code",
    "executionInfo": {
     "elapsed": 6284,
     "status": "ok",
     "timestamp": 1578506879417,
     "user": {
      "displayName": "Valentin Viennot",
      "photoUrl": "https://lh3.googleusercontent.com/a-/AAuE7mBFLJ79CAxyL_8r2U4xMZmocG_hr740b8sCBY5q_5Y=s64",
      "userId": "15345576953373911291"
     },
     "user_tz": -60
    },
    "id": "AyLUAx9ASwqi",
    "outputId": "2d8fab46-6ab3-4160-edeb-3411c3dea1d1"
   },
   "outputs": [
    {
     "name": "stdout",
     "output_type": "stream",
     "text": [
      "Recipe name: Broccoli Chicken Casserole Recipe\n",
      "Original Ingredients: ['broccoli, raw' 'cheese, cheddar'\n",
      " 'chicken, broiler or fryers, breast, skinless, boneless, meat only, raw'\n",
      " 'lemon juice, raw'\n",
      " 'rice, white, long-grain, regular, unenriched, cooked without salt'\n",
      " 'salad dressing, mayonnaise, regular'\n",
      " 'soup, cream of chicken, canned, condensed']\n",
      "Suggested Ingredient: grapes red or green (european type, soup chicken broth or bouillon, cauliflower raw\n",
      "After removing broccoli raw: broccoli raw, grapes red or green (european type, shortening vegetable\n",
      "After removing cheese cheddar: grapes red or green (european type, soup chicken broth or bouillon, cheese cheddar\n",
      "\n",
      "Recipe name: Mango Lassi\n",
      "Original Ingredients: ['mango nectar, canned' 'spices, saffron' 'sugars, granulated'\n",
      " 'water, bottled, generic' 'yogurt, greek, plain, nonfat']\n",
      "Suggested Ingredient: strawberries raw, leavening agents yeast, spices cardamom\n",
      "After removing mango nectar canned: leavening agents yeast, strawberries raw, spices cardamom\n",
      "After removing spices saffron: strawberries raw, leavening agents yeast, pineapple raw\n",
      "\n",
      "Recipe name: Cheesy POPcorn\n",
      "Original Ingredients: ['butter, without salt' 'cheese, parmesan, hard' 'corn, sweet, white, raw'\n",
      " 'oil, olive, salad or cooking']\n",
      "Suggested Ingredient: pretzels soft, sugars powdered, cheese mozzarella\n",
      "After removing butter without salt: cheese mozzarella, cornmeal degermed, spices basil\n",
      "After removing cheese parmesan: pretzels soft, vinegar red wine, vinegar balsamic\n",
      "\n",
      "Recipe name: Chinese Pot Roast Recipe\n",
      "Original Ingredients: ['beef, grass-fed, ground, raw' 'cabbage, raw' 'lard'\n",
      " 'soy sauce made from soy (tamari)' 'spices, pepper, black'\n",
      " 'water, bottled, generic']\n",
      "Suggested Ingredient: oil sesame, carrots raw, soup beef broth or bouillon canned\n",
      "After removing beef grass-fed: oil sesame, carrots raw, leavening agents yeast\n",
      "After removing cabbage raw: oil sesame, fat goose, soup beef broth or bouillon canned\n",
      "\n"
     ]
    }
   ],
   "source": [
    "adj_mat_mean = np.load('../data/Adjacency_Matrix_10.npy')\n",
    "test(adj_mat_mean)"
   ]
  },
  {
   "cell_type": "markdown",
   "metadata": {
    "colab_type": "text",
    "id": "sQtApd2Est0r"
   },
   "source": [
    "#### Combined Multiplication Adjacency Matrix (#11)"
   ]
  },
  {
   "cell_type": "code",
   "execution_count": 10,
   "metadata": {
    "colab": {
     "base_uri": "https://localhost:8080/",
     "height": 578
    },
    "colab_type": "code",
    "executionInfo": {
     "elapsed": 6587,
     "status": "ok",
     "timestamp": 1578506879728,
     "user": {
      "displayName": "Valentin Viennot",
      "photoUrl": "https://lh3.googleusercontent.com/a-/AAuE7mBFLJ79CAxyL_8r2U4xMZmocG_hr740b8sCBY5q_5Y=s64",
      "userId": "15345576953373911291"
     },
     "user_tz": -60
    },
    "id": "R4_gJIN9fVev",
    "outputId": "eaf20a93-df60-4ebc-eb73-93a08d6eb0b0"
   },
   "outputs": [
    {
     "name": "stdout",
     "output_type": "stream",
     "text": [
      "Recipe name: Broccoli Chicken Casserole Recipe\n",
      "Original Ingredients: ['broccoli, raw' 'cheese, cheddar'\n",
      " 'chicken, broiler or fryers, breast, skinless, boneless, meat only, raw'\n",
      " 'lemon juice, raw'\n",
      " 'rice, white, long-grain, regular, unenriched, cooked without salt'\n",
      " 'salad dressing, mayonnaise, regular'\n",
      " 'soup, cream of chicken, canned, condensed']\n",
      "Suggested Ingredient: mustard prepared, onions raw, water bottled\n",
      "After removing broccoli raw: mustard prepared, onions raw, water bottled\n",
      "After removing cheese cheddar: mustard prepared, onions raw, water bottled\n",
      "\n",
      "Recipe name: Mango Lassi\n",
      "Original Ingredients: ['mango nectar, canned' 'spices, saffron' 'sugars, granulated'\n",
      " 'water, bottled, generic' 'yogurt, greek, plain, nonfat']\n",
      "Suggested Ingredient: leavening agents yeast, lemon juice raw, mustard prepared\n",
      "After removing mango nectar canned: leavening agents yeast, lemon juice raw, mustard prepared\n",
      "After removing spices saffron: leavening agents yeast, lemon juice raw, mustard prepared\n",
      "\n",
      "Recipe name: Cheesy POPcorn\n",
      "Original Ingredients: ['butter, without salt' 'cheese, parmesan, hard' 'corn, sweet, white, raw'\n",
      " 'oil, olive, salad or cooking']\n",
      "Suggested Ingredient: vanilla extract, milk fluid, wheat flour white\n",
      "After removing butter without salt: leavening agents yeast, water bottled, spices onion powder\n",
      "After removing cheese parmesan: vanilla extract, milk fluid, wheat flour white\n",
      "\n",
      "Recipe name: Chinese Pot Roast Recipe\n",
      "Original Ingredients: ['beef, grass-fed, ground, raw' 'cabbage, raw' 'lard'\n",
      " 'soy sauce made from soy (tamari)' 'spices, pepper, black'\n",
      " 'water, bottled, generic']\n",
      "Suggested Ingredient: spices pepper, spices garlic powder, mustard prepared\n",
      "After removing beef grass-fed: spices pepper, spices garlic powder, mustard prepared\n",
      "After removing cabbage raw: spices pepper, spices garlic powder, mustard prepared\n",
      "\n"
     ]
    }
   ],
   "source": [
    "adj_mat_combined = np.load('../data/Adjacency_Matrix_11.npy')\n",
    "test(adj_mat_combined)"
   ]
  },
  {
   "cell_type": "markdown",
   "metadata": {
    "colab_type": "text",
    "id": "aqmYQKEfsv2x"
   },
   "source": [
    "#### Sparsified Adjacency Matrix (#3)"
   ]
  },
  {
   "cell_type": "code",
   "execution_count": 11,
   "metadata": {
    "colab": {
     "base_uri": "https://localhost:8080/",
     "height": 510
    },
    "colab_type": "code",
    "executionInfo": {
     "elapsed": 6896,
     "status": "ok",
     "timestamp": 1578506880045,
     "user": {
      "displayName": "Valentin Viennot",
      "photoUrl": "https://lh3.googleusercontent.com/a-/AAuE7mBFLJ79CAxyL_8r2U4xMZmocG_hr740b8sCBY5q_5Y=s64",
      "userId": "15345576953373911291"
     },
     "user_tz": -60
    },
    "id": "uorpm37IfZww",
    "outputId": "fdd022af-f700-431f-e2ab-4f8dbf1fbc77"
   },
   "outputs": [
    {
     "name": "stdout",
     "output_type": "stream",
     "text": [
      "Recipe name: Broccoli Chicken Casserole Recipe\n",
      "Original Ingredients: ['broccoli, raw' 'cheese, cheddar'\n",
      " 'chicken, broiler or fryers, breast, skinless, boneless, meat only, raw'\n",
      " 'lemon juice, raw'\n",
      " 'rice, white, long-grain, regular, unenriched, cooked without salt'\n",
      " 'salad dressing, mayonnaise, regular'\n",
      " 'soup, cream of chicken, canned, condensed']\n",
      "Suggested Ingredient: onions spring or scallions (includes tops and bulb), peppers sweet, mushrooms white\n",
      "After removing broccoli raw: onions spring or scallions (includes tops and bulb), peppers sweet, mushrooms white\n",
      "\n",
      "Recipe name: Mango Lassi\n",
      "Original Ingredients: ['mango nectar, canned' 'spices, saffron' 'sugars, granulated'\n",
      " 'water, bottled, generic' 'yogurt, greek, plain, nonfat']\n",
      "Suggested Ingredient: beverages almond milk, peppers jalapeno, salad dressing ranch dressing\n",
      "After removing mango nectar canned: beverages almond milk, salad dressing ranch dressing, peppers jalapeno\n",
      "\n",
      "Recipe name: Cheesy POPcorn\n",
      "Original Ingredients: ['butter, without salt' 'cheese, parmesan, hard' 'corn, sweet, white, raw'\n",
      " 'oil, olive, salad or cooking']\n",
      "Suggested Ingredient: chicken broiler or fryers, shortening vegetable, tomatoes red\n",
      "After removing butter without salt: chicken broiler or fryers, shortening vegetable, tomatoes red\n",
      "\n",
      "Recipe name: Chinese Pot Roast Recipe\n",
      "Original Ingredients: ['beef, grass-fed, ground, raw' 'cabbage, raw' 'lard'\n",
      " 'soy sauce made from soy (tamari)' 'spices, pepper, black'\n",
      " 'water, bottled, generic']\n",
      "Suggested Ingredient: oil sesame, sauce barbecue, seeds sesame seeds\n",
      "After removing beef grass-fed: oil sesame, sauce barbecue, asparagus raw\n",
      "\n"
     ]
    }
   ],
   "source": [
    "adj_mat_sparsed = np.load('../data/Adjacency_Matrix_3.npy')\n",
    "ingredients_to_remove = np.setdiff1d(ingredient_list_full, ingredient_list)\n",
    "def find_ingredient_index(ingredient):\n",
    "    return np.argwhere(ingredient_list_full == ingredient)[0,0]\n",
    "ingredients_to_remove = np.vectorize(find_ingredient_index)(ingredients_to_remove)\n",
    "adj_mat_sparsed = np.delete(adj_mat_sparsed, ingredients_to_remove, 0)\n",
    "adj_mat_sparsed = np.delete(adj_mat_sparsed, ingredients_to_remove, 1)\n",
    "test(adj_mat_sparsed, remove=1)"
   ]
  },
  {
   "cell_type": "markdown",
   "metadata": {
    "colab_type": "text",
    "id": "gInRNMG6s0bc"
   },
   "source": [
    "#### Combined Addition Adjacency Matrix (#9)"
   ]
  },
  {
   "cell_type": "code",
   "execution_count": 12,
   "metadata": {
    "colab": {
     "base_uri": "https://localhost:8080/",
     "height": 578
    },
    "colab_type": "code",
    "executionInfo": {
     "elapsed": 7413,
     "status": "ok",
     "timestamp": 1578506880571,
     "user": {
      "displayName": "Valentin Viennot",
      "photoUrl": "https://lh3.googleusercontent.com/a-/AAuE7mBFLJ79CAxyL_8r2U4xMZmocG_hr740b8sCBY5q_5Y=s64",
      "userId": "15345576953373911291"
     },
     "user_tz": -60
    },
    "id": "vyNSF1gijREv",
    "outputId": "5df73923-242d-44b3-afd1-6084bd0a5788"
   },
   "outputs": [
    {
     "name": "stdout",
     "output_type": "stream",
     "text": [
      "Recipe name: Broccoli Chicken Casserole Recipe\n",
      "Original Ingredients: ['broccoli, raw' 'cheese, cheddar'\n",
      " 'chicken, broiler or fryers, breast, skinless, boneless, meat only, raw'\n",
      " 'lemon juice, raw'\n",
      " 'rice, white, long-grain, regular, unenriched, cooked without salt'\n",
      " 'salad dressing, mayonnaise, regular'\n",
      " 'soup, cream of chicken, canned, condensed']\n",
      "Suggested Ingredient: spices garlic powder, spices pepper, salt table\n",
      "After removing broccoli raw: spices garlic powder, spices pepper, salt table\n",
      "After removing cheese cheddar: spices garlic powder, spices pepper, water bottled\n",
      "\n",
      "Recipe name: Mango Lassi\n",
      "Original Ingredients: ['mango nectar, canned' 'spices, saffron' 'sugars, granulated'\n",
      " 'water, bottled, generic' 'yogurt, greek, plain, nonfat']\n",
      "Suggested Ingredient: salt table, leavening agents baking powder, spices pepper\n",
      "After removing mango nectar canned: salt table, spices pepper, leavening agents baking powder\n",
      "After removing spices saffron: salt table, leavening agents baking powder, spices pepper\n",
      "\n",
      "Recipe name: Cheesy POPcorn\n",
      "Original Ingredients: ['butter, without salt' 'cheese, parmesan, hard' 'corn, sweet, white, raw'\n",
      " 'oil, olive, salad or cooking']\n",
      "Suggested Ingredient: salt table, spices pepper, beverages protein powder whey based\n",
      "After removing butter without salt: spices pepper, salt table, cheese gruyere\n",
      "After removing cheese parmesan: salt table, spices pepper, water bottled\n",
      "\n",
      "Recipe name: Chinese Pot Roast Recipe\n",
      "Original Ingredients: ['beef, grass-fed, ground, raw' 'cabbage, raw' 'lard'\n",
      " 'soy sauce made from soy (tamari)' 'spices, pepper, black'\n",
      " 'water, bottled, generic']\n",
      "Suggested Ingredient: sauce fish, spices garlic powder, salt table\n",
      "After removing beef grass-fed: sauce fish, spices garlic powder, salt table\n",
      "After removing cabbage raw: sauce fish, spices garlic powder, salt table\n",
      "\n"
     ]
    }
   ],
   "source": [
    "adj_mat_added = np.load('../data/Adjacency_Matrix_9.npy')\n",
    "test(adj_mat_added)"
   ]
  },
  {
   "cell_type": "markdown",
   "metadata": {
    "colab_type": "text",
    "id": "PiUgIrvbuIA2"
   },
   "source": [
    "#### Conclusion\n",
    "\n",
    "Combined normalized matrix gives consistent results. The two additive matrices mostly suggest spices and the multiplicative one is stuck on ingredient hubs such as leavening powder, mustard, and vanilla."
   ]
  },
  {
   "cell_type": "markdown",
   "metadata": {
    "colab_type": "text",
    "id": "8CRGyvsru_hr"
   },
   "source": [
    "## Combining graph filter and kNN\n",
    "\n",
    "Removing an ingredient and suggesting replacement with a graph filter most of the time does not work as it suggests a new ingredient that might fit with the recipe but doesn't have the right nutritional properties.\n",
    "\n",
    "Here's a result obtained with the Combined Normalized adjacency matrix on the Broccoli Chicken Casserole Recipe:\n",
    "```\n",
    "Recipe name: Broccoli Chicken Casserole Recipe\n",
    "Original Ingredients: ['broccoli, raw' 'cheese, cheddar'\n",
    " 'chicken, broiler or fryers, breast, skinless, boneless, meat only, raw'\n",
    " 'lemon juice, raw'\n",
    " 'rice, white, long-grain, regular, unenriched, cooked without salt'\n",
    " 'salad dressing, mayonnaise, regular'\n",
    " 'soup, cream of chicken, canned, condensed']\n",
    "Suggested Ingredient: spices onion powder, spices curry powder, sauce ready-to-serve\n",
    "After removed broccoli raw: broccoli raw, spices onion powder, spices curry powder\n",
    "After removed cheese cheddar: spices curry powder, sauce ready-to-serve, cheese blue\n",
    "After removed chicken broiler or fryers: spices onion powder, chicken broiler or fryers, onions spring or scallions (includes tops and bulb)\n",
    "After removed lemon juice raw: spices onion powder, spices curry powder, sauce ready-to-serve\n",
    "```\n",
    "It's good news that the removed ingredient is often suggested as one of the replacements. However, looking at the other suggestions, replacing chicken with onion powder might be a bit light.... You get the idea! We want a replacement that is comparable to the removed ingredient in terms of nutritional value.\n",
    "\n",
    "In order to obtain best results we want to combine these results with those obtained using kNN on the nutrional graph (cf. kNN notebook):\n",
    "1. Using the graph filter, we keep a wide range of suggested ingredients\n",
    "2. From those ingredients, we build a new graph using the nutrional distance between ingredients\n",
    "3. Using kNN, we suggest the most likely ingredients to replace the removed one\n",
    "\n",
    "Indeed kNN was giving consistent results, however we were losing the recipe context while suggesting replacements. This solution aims to combine the benefits of both graph filtering and kNN techniques.\n"
   ]
  },
  {
   "cell_type": "code",
   "execution_count": 13,
   "metadata": {
    "colab": {},
    "colab_type": "code",
    "id": "5Hy9tn3xx9f2"
   },
   "outputs": [],
   "source": [
    "nutrition_adj_mat = np.load('../data/Adjacency_Matrix_5.npy')"
   ]
  },
  {
   "cell_type": "code",
   "execution_count": 14,
   "metadata": {
    "colab": {},
    "colab_type": "code",
    "id": "19nxnQdOmvYH"
   },
   "outputs": [],
   "source": [
    "def suggestKBestReplacements(nutrition_adj_mat,ingr_number,k):\n",
    "    \"\"\" Find the indices of the k nearest neighbors of a given ingredient using the adjacency matrix weights\"\"\"\n",
    "    adj_values = nutrition_adj_mat[ingr_number,:]\n",
    "    maxvals = idx = (-adj_values).argsort()[:k]\n",
    "    if (np.all(adj_values == 0)):\n",
    "        maxvals = []\n",
    "    return maxvals\n"
   ]
  },
  {
   "cell_type": "markdown",
   "metadata": {
    "colab_type": "text",
    "id": "PY4_qHdDyrot"
   },
   "source": [
    "Let's focus on the chicken in the 'Broccoli Chicken Casserole Recipe.' What does kNN suggest to replace this ingredient?"
   ]
  },
  {
   "cell_type": "code",
   "execution_count": 15,
   "metadata": {
    "colab": {
     "base_uri": "https://localhost:8080/",
     "height": 170
    },
    "colab_type": "code",
    "executionInfo": {
     "elapsed": 7395,
     "status": "ok",
     "timestamp": 1578506880573,
     "user": {
      "displayName": "Valentin Viennot",
      "photoUrl": "https://lh3.googleusercontent.com/a-/AAuE7mBFLJ79CAxyL_8r2U4xMZmocG_hr740b8sCBY5q_5Y=s64",
      "userId": "15345576953373911291"
     },
     "user_tz": -60
    },
    "id": "o9j0fbGux6pF",
    "outputId": "d10e3834-3321-4a95-ed3f-bc6bee875fba"
   },
   "outputs": [
    {
     "name": "stdout",
     "output_type": "stream",
     "text": [
      "Original Ingredient: chicken, broiler or fryers, breast, skinless, boneless, meat only, raw\n",
      "12 best replacements: ['pork, fresh, loin, tenderloin, separable lean only, raw'\n",
      " 'pork, fresh, loin, country-style ribs, separable lean only, raw'\n",
      " 'egg, white, raw, fresh' 'cheese, cottage, creamed, large or small curd'\n",
      " 'egg substitute, powder' 'edamame, frozen, prepared'\n",
      " 'cheese, ricotta, whole milk'\n",
      " 'tofu, raw, regular, prepared with calcium sulfate'\n",
      " 'beans, kidney, all types, mature seeds, raw'\n",
      " 'crustaceans, crab, alaska king, imitation, made from surimi'\n",
      " \"leavening agents, yeast, baker's, active dry\"\n",
      " 'chicken, broilers or fryers, wing, meat and skin, raw']\n"
     ]
    }
   ],
   "source": [
    "k = 12\n",
    "ingr_number = np.argwhere(ingredient_list == 'chicken, broiler or fryers, breast, skinless, boneless, meat only, raw')[0,0]\n",
    "maxvals = suggestKBestReplacements(nutrition_adj_mat, ingr_number, k)\n",
    "print(\"Original Ingredient: {0}\".format(ingredient_list[ingr_number]))\n",
    "if (len(maxvals)==0):\n",
    "    print(\"No replacements found!\")\n",
    "else: \n",
    "    print(\"{0} best replacements: {1}\".format(k,ingredient_list[maxvals]))"
   ]
  },
  {
   "cell_type": "markdown",
   "metadata": {
    "colab_type": "text",
    "id": "2oOl-Bc33cFn"
   },
   "source": [
    "All of these suggestions make sense because they replace chicken with other high-protein ingredients. However, egg powder might not be the best replacement in the context of this broccoli recipe - for example.\n",
    "\n",
    "What was the signal obtained from the graph filter for those ingredients?"
   ]
  },
  {
   "cell_type": "code",
   "execution_count": 16,
   "metadata": {
    "colab": {
     "base_uri": "https://localhost:8080/",
     "height": 999
    },
    "colab_type": "code",
    "executionInfo": {
     "elapsed": 8198,
     "status": "ok",
     "timestamp": 1578506881387,
     "user": {
      "displayName": "Valentin Viennot",
      "photoUrl": "https://lh3.googleusercontent.com/a-/AAuE7mBFLJ79CAxyL_8r2U4xMZmocG_hr740b8sCBY5q_5Y=s64",
      "userId": "15345576953373911291"
     },
     "user_tz": -60
    },
    "id": "eTJWfaWbyKiP",
    "outputId": "850db22f-e16c-4367-f167-4ff49ae7185a"
   },
   "outputs": [
    {
     "name": "stdout",
     "output_type": "stream",
     "text": [
      "\n",
      "Original Adjacency (recipe distance):\n"
     ]
    },
    {
     "data": {
      "image/png": "[encoded data removed]",
      "text/plain": [
       "<Figure size 432x288 with 1 Axes>"
      ]
     },
     "metadata": {
      "needs_background": "light"
     },
     "output_type": "display_data"
    },
    {
     "name": "stdout",
     "output_type": "stream",
     "text": [
      "best replacements: ['tofu, raw, regular, prepared with calcium sulfate'\n",
      " 'pork, fresh, loin, country-style ribs, separable lean only, raw'\n",
      " 'egg, white, raw, fresh']\n",
      "\n",
      "Combined and Normalized:\n"
     ]
    },
    {
     "data": {
      "image/png": "[encoded data removed]",
      "text/plain": [
       "<Figure size 432x288 with 1 Axes>"
      ]
     },
     "metadata": {
      "needs_background": "light"
     },
     "output_type": "display_data"
    },
    {
     "name": "stdout",
     "output_type": "stream",
     "text": [
      "best replacements: ['chicken, broilers or fryers, wing, meat and skin, raw'\n",
      " 'egg, white, raw, fresh' 'cheese, ricotta, whole milk']\n",
      "\n",
      "Additive:\n"
     ]
    },
    {
     "data": {
      "image/png": "[encoded data removed]",
      "text/plain": [
       "<Figure size 432x288 with 1 Axes>"
      ]
     },
     "metadata": {
      "needs_background": "light"
     },
     "output_type": "display_data"
    },
    {
     "name": "stdout",
     "output_type": "stream",
     "text": [
      "best replacements: ['tofu, raw, regular, prepared with calcium sulfate'\n",
      " 'egg, white, raw, fresh'\n",
      " 'chicken, broilers or fryers, wing, meat and skin, raw']\n"
     ]
    }
   ],
   "source": [
    "def filter_knn(adj_mat, ingr_signal, maxvals_knn, plot=True, NB_SUGGESTIONS=3):\n",
    "    \"\"\"Plot the values of the filtered signal at the indices of its nearest neighbors, as determined by kNN.\n",
    "    Combine the filter and kNN to determine the best ingredient replacement\"\"\"\n",
    "    x_bp = filter_recipe(ingr_signal, adj_mat)\n",
    "    best_replacements = ingredient_list[maxvals_knn][x_bp[maxvals_knn].argsort()[-NB_SUGGESTIONS:][::-1]]\n",
    "    if plot:\n",
    "        values = x_bp[maxvals_knn]\n",
    "        sorted_idx = values.argsort()\n",
    "        x = np.arange(len(values))\n",
    "        fig, ax = plt.subplots()\n",
    "        plt.barh(x, values[sorted_idx])\n",
    "        plt.yticks(x, np.vectorize(first_word)(ingredient_list[maxvals_knn])[sorted_idx])\n",
    "        plt.show()\n",
    "    return best_replacements\n",
    "\n",
    "k = 12\n",
    "test_recipe = 14\n",
    "ingr_signal = createIngredientSignal(df, test_recipe, ingredient_list)\n",
    "ingr_number = np.argwhere(ingredient_list == 'chicken, broiler or fryers, breast, skinless, boneless, meat only, raw')[0,0]\n",
    "maxvals = suggestKBestReplacements(nutrition_adj_mat, ingr_number, k)\n",
    "\n",
    "adj_mat = np.load('../data/Adjacency_Matrix_1.npy')\n",
    "adj_mat = np.delete(adj_mat, ingredients_to_remove, 0)\n",
    "adj_mat = np.delete(adj_mat, ingredients_to_remove, 1)\n",
    "print('\\nOriginal Adjacency (recipe distance):')\n",
    "print('best replacements:', filter_knn(adj_mat, ingr_signal, maxvals))\n",
    "print('\\nCombined and Normalized:')\n",
    "print('best replacements:', filter_knn(adj_mat_norm, ingr_signal, maxvals))\n",
    "print('\\nAdditive:')\n",
    "print('best replacements:', filter_knn(adj_mat_mean, ingr_signal, maxvals))"
   ]
  },
  {
   "cell_type": "markdown",
   "metadata": {
    "colab_type": "text",
    "id": "4tsEb5_2-xaR"
   },
   "source": [
    "Let's try with other recipes!"
   ]
  },
  {
   "cell_type": "code",
   "execution_count": 17,
   "metadata": {
    "colab": {
     "base_uri": "https://localhost:8080/",
     "height": 1000
    },
    "colab_type": "code",
    "executionInfo": {
     "elapsed": 9108,
     "status": "ok",
     "timestamp": 1578506882309,
     "user": {
      "displayName": "Valentin Viennot",
      "photoUrl": "https://lh3.googleusercontent.com/a-/AAuE7mBFLJ79CAxyL_8r2U4xMZmocG_hr740b8sCBY5q_5Y=s64",
      "userId": "15345576953373911291"
     },
     "user_tz": -60
    },
    "id": "FtsxgSZU-gz6",
    "outputId": "9286d00d-0a61-4182-8dab-e54460e55148"
   },
   "outputs": [
    {
     "name": "stdout",
     "output_type": "stream",
     "text": [
      "*** Broccoli Chicken Casserole Recipe ***\n",
      "Original Ingredients: broccoli raw, cheese cheddar, chicken broiler or fryers, lemon juice raw, rice white, salad dressing mayonnaise, soup cream of chicken\n",
      "After removing broccoli raw: onions spring or scallions (includes tops and bulb), brussels sprouts raw, cauliflower raw, lettuce cos or romaine\n",
      "After removing cheese cheddar: cheese blue, cheese feta, cheese parmesan, cheese neufchatel\n",
      "After removing chicken broiler or fryers: chicken broilers or fryers, egg white, cheese ricotta, pork fresh\n",
      "\n",
      "*** Mango Lassi ***\n",
      "Original Ingredients: mango nectar canned, spices saffron, sugars granulated, water bottled, yogurt greek\n",
      "After removing mango nectar canned: pineapple raw, apple juice canned or bottled, cranberry juice unsweetened, beverages carbonated\n",
      "After removing spices saffron: spices basil, spices anise seed, spices poppy seed, spices rosemary\n",
      "After removing sugars granulated: sweetener syrup, honey, syrup maple, syrups corn\n",
      "\n",
      "*** Creamy Curry Salad Dressing ***\n",
      "Original Ingredients: honey, lemon juice raw, salad dressing mayonnaise, salt table, spices curry powder, spices pepper, water bottled, yogurt greek\n",
      "After removing honey: cranberries dried, sugars granulated, syrup maple, sugars powdered\n",
      "After removing lemon juice raw: lime juice raw, vinegar red wine, tomatoes red, alcoholic beverage tequila sunrise\n",
      "After removing salad dressing mayonnaise: butter salted, nuts macadamia nuts, butter without salt, oil olive\n",
      "\n",
      "*** Cheesy POPcorn ***\n",
      "Original Ingredients: butter without salt, cheese parmesan, corn sweet, oil olive\n",
      "After removing butter without salt: butter salted, oil sesame, oil corn, oil olive\n",
      "After removing cheese parmesan: cheese blue, cheese mozzarella, cheese feta, cheese pasteurized process\n",
      "After removing corn sweet: peaches yellow, onions raw, ginger root raw, potatoes raw\n",
      "\n",
      "*** Chinese Pot Roast Recipe ***\n",
      "Original Ingredients: beef grass-fed, cabbage raw, lard, soy sauce made from soy (tamari), spices pepper, water bottled\n",
      "After removing beef grass-fed: margarine regular, pepperoni beef and pork, margarine-like margarine-butter blend, butter without salt\n",
      "After removing cabbage raw: squash winter, cauliflower raw, lettuce cos or romaine, turnips raw\n",
      "After removing lard: oil sesame, margarine regular, oil safflower, fat goose\n",
      "\n",
      "*** Greatest Granola ***\n",
      "Original Ingredients: honey, oil olive, raisins seeded, seeds sesame seeds, seeds sunflower seed kernels, water bottled\n",
      "After removing honey: currants zante, cranberries dried, sweetener syrup, syrup cane\n",
      "After removing oil olive: oil sesame, oil canola, shortening vegetable, oil safflower\n",
      "After removing raisins seeded: currants zante, apricots dried, cranberries dried, sweetener syrup\n",
      "\n",
      "*** Cilantro-Mustard Mayo (Dip or Sauce) ***\n",
      "Original Ingredients: mustard prepared, salad dressing mayonnaise, spices chili powder, spices coriander seed, spices cumin seed\n",
      "After removing mustard prepared: soup chicken broth or bouillon, sauce worcestershire, sauce salsa, pickles cucumber\n",
      "After removing salad dressing mayonnaise: butter without salt, oil olive, nuts pine nuts, butter salted\n",
      "After removing spices chili powder: spices paprika, spices cloves, spices parsley, spices curry powder\n",
      "\n",
      "*** Tropical Sherbet ***\n",
      "Original Ingredients: lime juice raw, milk fluid, papayas raw, pineapple raw, salt table, sugars granulated, syrups corn, water bottled\n",
      "After removing lime juice raw: alcoholic beverage beer, alcoholic beverage tequila sunrise, radishes raw, sauce peppers\n",
      "After removing milk fluid: beverages ovaltine, eggnog, beverages almond milk, cream fluid\n",
      "After removing papayas raw: melons honeydew, melons cantaloupe, plums raw, grapefruit juice white\n",
      "\n",
      "*** Barbie Shot ***\n",
      "Original Ingredients: alcoholic beverage distilled, cranberry juice unsweetened, orange juice raw\n",
      "After removing alcoholic beverage distilled: alcoholic beverage distilled, alcoholic beverage distilled, alcoholic beverage tequila sunrise, alcoholic beverage distilled\n",
      "After removing cranberry juice unsweetened: pineapple juice canned or bottled, beverages carbonated, pineapple raw, mango nectar canned\n",
      "After removing orange juice raw: pineapple juice canned or bottled, peaches yellow, beverages carbonated, watermelon raw\n",
      "\n",
      "*** Rice With Lemon, Capers & Parsley ***\n",
      "Original Ingredients: butter without salt, capers canned, lemon juice raw, parsley fresh, rice white, salt table, spices pepper, water bottled\n",
      "After removing butter without salt: margarine regular, oil sesame, margarine regular, oil canola\n",
      "After removing capers canned: sauce oyster, sauerkraut canned, sauce teriyaki, salad dressing italian dressing\n",
      "After removing lemon juice raw: tomatoes red, vinegar red wine, radishes raw, squash summer\n",
      "\n",
      "*** Hearty Cheese (And Turkey) Soup ***\n",
      "Original Ingredients: celery raw, cheese parmesan, cream sour, ground turkey raw, milk fluid, onions raw, potatoes raw, salt table, soup chicken broth or bouillon, spices basil, spices parsley, spices pepper, wheat flour white\n",
      "After removing celery raw: tomatoes red, radicchio raw, peppers ancho, peppers sweet\n",
      "After removing cheese parmesan: cheese gruyere, cheese fontina, cheese provolone, cheese roquefort\n",
      "After removing cream sour: mushrooms portabella, mushrooms white, yogurt vanilla, cream whipped\n",
      "\n"
     ]
    }
   ],
   "source": [
    "def test_knn_combo(adj_mat, remove=3, k=12, NB_SUGGESTIONS=4):\n",
    "    \"\"\"Test the combination of graph filtering ingredient suggestion and kNN ingredient replacement on several recipes\"\"\"\n",
    "    test_recipes = [14, 19, 39, 60, 82, 103, 24, 600, 8976, 9, 47]\n",
    "    for tr in test_recipes:\n",
    "        ingr_signal = createIngredientSignal(df, tr, ingredient_list)\n",
    "        recipe_name = df.iloc[tr]['title']\n",
    "        original_ingredients = ingredient_list[ingr_signal > 0]\n",
    "        print(\"*** {} ***\".format(recipe_name))\n",
    "        print(\"Original Ingredients: {}\".format(first_word_list(original_ingredients)))\n",
    "        for i in range(remove):\n",
    "            ingr_number = np.argwhere(ingredient_list == original_ingredients[i])[0,0]\n",
    "            maxvals_knn = suggestKBestReplacements(nutrition_adj_mat, ingr_number, k)\n",
    "            suggested = filter_knn(adj_mat, ingr_signal, maxvals_knn, plot = False, NB_SUGGESTIONS=NB_SUGGESTIONS)\n",
    "            print(\"After removing {}: {}\".format(first_word(original_ingredients[i]), first_word_list(suggested)))\n",
    "        print()\n",
    "\n",
    "test_knn_combo(adj_mat_norm)"
   ]
  },
  {
   "cell_type": "code",
   "execution_count": 18,
   "metadata": {
    "colab": {
     "base_uri": "https://localhost:8080/",
     "height": 1000
    },
    "colab_type": "code",
    "executionInfo": {
     "elapsed": 10252,
     "status": "ok",
     "timestamp": 1578506883462,
     "user": {
      "displayName": "Valentin Viennot",
      "photoUrl": "https://lh3.googleusercontent.com/a-/AAuE7mBFLJ79CAxyL_8r2U4xMZmocG_hr740b8sCBY5q_5Y=s64",
      "userId": "15345576953373911291"
     },
     "user_tz": -60
    },
    "id": "_rI8y5hlSpR3",
    "outputId": "222be0ee-c721-4714-a286-a2040a0625e0"
   },
   "outputs": [
    {
     "name": "stdout",
     "output_type": "stream",
     "text": [
      "*** Broccoli Chicken Casserole Recipe ***\n",
      "Original Ingredients: broccoli raw, cheese cheddar, chicken broiler or fryers, lemon juice raw, rice white, salad dressing mayonnaise, soup cream of chicken\n",
      "After removing broccoli raw: cauliflower raw, onions spring or scallions (includes tops and bulb), lettuce cos or romaine, fennel bulb\n",
      "After removing cheese cheddar: cheese parmesan, cheese pasteurized process, cheese neufchatel, cheese gouda\n",
      "After removing chicken broiler or fryers: tofu raw, egg white, chicken broilers or fryers, crustaceans crab\n",
      "\n",
      "*** Mango Lassi ***\n",
      "Original Ingredients: mango nectar canned, spices saffron, sugars granulated, water bottled, yogurt greek\n",
      "After removing mango nectar canned: pineapple raw, pomegranate juice bottled, cranberry juice unsweetened, pineapple juice canned or bottled\n",
      "After removing spices saffron: spices cardamom, spices bay leaf, spices fenugreek seed, spices poppy seed\n",
      "After removing sugars granulated: honey, syrups corn, currants zante, sweetener syrup\n",
      "\n",
      "*** Creamy Curry Salad Dressing ***\n",
      "Original Ingredients: honey, lemon juice raw, salad dressing mayonnaise, salt table, spices curry powder, spices pepper, water bottled, yogurt greek\n",
      "After removing honey: sugars granulated, currants zante, marmalade orange, candies caramels\n",
      "After removing lemon juice raw: lime juice raw, pumpkin raw, vinegar red wine, sauce peppers\n",
      "After removing salad dressing mayonnaise: oil olive, animal fat bacon grease, oil safflower, margarine-like margarine-butter blend\n",
      "\n",
      "*** Cheesy POPcorn ***\n",
      "Original Ingredients: butter without salt, cheese parmesan, corn sweet, oil olive\n",
      "After removing butter without salt: oil corn, butter salted, oil safflower, oil olive\n",
      "After removing cheese parmesan: cheese mozzarella, cheese cheddar, cheese gruyere, cheese blue\n",
      "After removing corn sweet: potatoes raw, sweet potato raw, parsnips raw, leeks (bulb and lower leaf-portion)\n",
      "\n",
      "*** Chinese Pot Roast Recipe ***\n",
      "Original Ingredients: beef grass-fed, cabbage raw, lard, soy sauce made from soy (tamari), spices pepper, water bottled\n",
      "After removing beef grass-fed: margarine regular, nuts macadamia nuts, nuts hazelnuts or filberts, margarine-like margarine-butter blend\n",
      "After removing cabbage raw: onions raw, peppers sweet, beans snap, strawberries raw\n",
      "After removing lard: oil sesame, fat goose, animal fat bacon grease, oil safflower\n",
      "\n",
      "*** Greatest Granola ***\n",
      "Original Ingredients: honey, oil olive, raisins seeded, seeds sesame seeds, seeds sunflower seed kernels, water bottled\n",
      "After removing honey: cranberries dried, currants zante, molasses, syrup cane\n",
      "After removing oil olive: oil sesame, oil corn, oil canola, oil safflower\n",
      "After removing raisins seeded: dates deglet noor, apricots dried, cranberries dried, currants zante\n",
      "\n",
      "*** Cilantro-Mustard Mayo (Dip or Sauce) ***\n",
      "Original Ingredients: mustard prepared, salad dressing mayonnaise, spices chili powder, spices coriander seed, spices cumin seed\n",
      "After removing mustard prepared: sauce salsa, horseradish prepared, sauce pasta, sauce ready-to-serve\n",
      "After removing salad dressing mayonnaise: animal fat bacon grease, salad dressing caesar dressing, oil safflower, margarine regular\n",
      "After removing spices chili powder: spices pepper, spices curry powder, spices paprika, cocoa dry powder\n",
      "\n",
      "*** Tropical Sherbet ***\n",
      "Original Ingredients: lime juice raw, milk fluid, papayas raw, pineapple raw, salt table, sugars granulated, syrups corn, water bottled\n",
      "After removing lime juice raw: vinegar red wine, peppers sweet, alcoholic beverage tequila sunrise, radishes raw\n",
      "After removing milk fluid: cream fluid, yogurt greek, beverages gerolsteiner brunnen gmbh & co. kg, arugula raw\n",
      "After removing papayas raw: melons cantaloupe, melons honeydew, peaches yellow, beets raw\n",
      "\n",
      "*** Barbie Shot ***\n",
      "Original Ingredients: alcoholic beverage distilled, cranberry juice unsweetened, orange juice raw\n",
      "After removing alcoholic beverage distilled: lime juice raw, alcoholic beverage distilled, alcoholic beverage distilled, vinegar cider\n",
      "After removing cranberry juice unsweetened: pineapple juice canned or bottled, beverages carbonated, pomegranate juice bottled, mango nectar canned\n",
      "After removing orange juice raw: grapefruit juice white, pineapple juice canned or bottled, beverages carbonated, beverages carbonated\n",
      "\n",
      "*** Rice With Lemon, Capers & Parsley ***\n",
      "Original Ingredients: butter without salt, capers canned, lemon juice raw, parsley fresh, rice white, salt table, spices pepper, water bottled\n",
      "After removing butter without salt: oil olive, salad dressing mayonnaise, oil corn, shortening vegetable\n",
      "After removing capers canned: olives ripe, sauce oyster, sauce ready-to-serve, sauce teriyaki\n",
      "After removing lemon juice raw: vinegar red wine, alcoholic beverage beer, squash summer, peppers ancho\n",
      "\n",
      "*** Hearty Cheese (And Turkey) Soup ***\n",
      "Original Ingredients: celery raw, cheese parmesan, cream sour, ground turkey raw, milk fluid, onions raw, potatoes raw, salt table, soup chicken broth or bouillon, spices basil, spices parsley, spices pepper, wheat flour white\n",
      "After removing celery raw: peppers sweet, tomatoes red, turnips raw, squash summer\n",
      "After removing cheese parmesan: cheese cheddar, cheese blue, cheese mozzarella, cheese brie\n",
      "After removing cream sour: cream fluid, milk buttermilk, mushrooms white, cheese cottage\n",
      "\n"
     ]
    }
   ],
   "source": [
    "test_knn_combo(adj_mat_mean)"
   ]
  },
  {
   "cell_type": "markdown",
   "metadata": {
    "colab_type": "text",
    "id": "SS3UC3jaW0St"
   },
   "source": [
    "## Conclusion\n",
    "\n",
    "Most of the time replacement ingredients are the same \"type\" of the removed one or plays a similar role in the recipe. Moreover, among the suggested ingredients, most of them are likely to be part of the input recipe."
   ]
  }
 ],
 "metadata": {
  "colab": {
   "collapsed_sections": [],
   "name": "graph_label_propagation.ipynb",
   "provenance": [
    {
     "file_id": "1ofRjWYF_wSFv55FGAR38je3njeleQtP9",
     "timestamp": 1578481385307
    }
   ]
  },
  "kernelspec": {
   "display_name": "Python 3",
   "language": "python",
   "name": "python3"
  },
  "language_info": {
   "codemirror_mode": {
    "name": "ipython",
    "version": 3
   },
   "file_extension": ".py",
   "mimetype": "text/x-python",
   "name": "python",
   "nbconvert_exporter": "python",
   "pygments_lexer": "ipython3",
   "version": "3.7.4"
  }
 },
 "nbformat": 4,
 "nbformat_minor": 1
}
