{
 "cells": [
  {
   "cell_type": "markdown",
   "metadata": {},
   "source": [
    "# Create Adjacency Matrices\n",
    "We create a series of adjacency matrices in which the nodes are the different ingredients found in the Recipes1M+ Database. We generate 3 different ingredient lists:\n",
    "1. Full ingredients found in the Recipes 1M+ database\n",
    "2. First words of ingredients in the Recipes 1M+ database\n",
    "3. Full ingredients in the Recipes 1M+ database that can be cross-referenced with ingredients in the USDA nutrition facts database\n",
    "\n",
    "We then use each of these ingredient lists to create a variety of different adjacency matrices which we subsequently use for exploration, processing, graph filtering, ingredient suggestion, ingredient replacement, and more!"
   ]
  },
  {
   "cell_type": "markdown",
   "metadata": {},
   "source": [
    "## Part 1: Load data"
   ]
  },
  {
   "cell_type": "code",
   "execution_count": 1,
   "metadata": {
    "colab": {},
    "colab_type": "code",
    "id": "ujYVXo3iPrZW"
   },
   "outputs": [],
   "source": [
    "%matplotlib inline\n",
    "import os, sys\n",
    "import pandas as pd\n",
    "import numpy as np\n",
    "import matplotlib.pyplot as plt\n",
    "import json\n",
    "from pandas.io.json import json_normalize\n",
    "import itertools\n",
    "from scipy.spatial.distance import pdist, squareform\n",
    "from graphProcessingFunctions import *"
   ]
  },
  {
   "cell_type": "code",
   "execution_count": 2,
   "metadata": {
    "colab": {},
    "colab_type": "code",
    "id": "wTXgrVDBRZ3h"
   },
   "outputs": [
    {
     "data": {
      "text/html": [
       "<div>\n",
       "<style scoped>\n",
       "    .dataframe tbody tr th:only-of-type {\n",
       "        vertical-align: middle;\n",
       "    }\n",
       "\n",
       "    .dataframe tbody tr th {\n",
       "        vertical-align: top;\n",
       "    }\n",
       "\n",
       "    .dataframe thead th {\n",
       "        text-align: right;\n",
       "    }\n",
       "</style>\n",
       "<table border=\"1\" class=\"dataframe\">\n",
       "  <thead>\n",
       "    <tr style=\"text-align: right;\">\n",
       "      <th></th>\n",
       "      <th>fsa_lights_per100g</th>\n",
       "      <th>id</th>\n",
       "      <th>ingredients</th>\n",
       "      <th>instructions</th>\n",
       "      <th>nutr_per_ingredient</th>\n",
       "      <th>nutr_values_per100g</th>\n",
       "      <th>partition</th>\n",
       "      <th>quantity</th>\n",
       "      <th>title</th>\n",
       "      <th>unit</th>\n",
       "      <th>url</th>\n",
       "      <th>weight_per_ingr</th>\n",
       "      <th>check</th>\n",
       "    </tr>\n",
       "  </thead>\n",
       "  <tbody>\n",
       "    <tr>\n",
       "      <td>0</td>\n",
       "      <td>{'fat': 'green', 'salt': 'green', 'saturates':...</td>\n",
       "      <td>000095fc1d</td>\n",
       "      <td>[{'text': 'yogurt, greek, plain, nonfat'}, {'t...</td>\n",
       "      <td>[{'text': 'Layer all ingredients in a serving ...</td>\n",
       "      <td>[{'fat': 0.8845044000000001, 'nrg': 133.80964,...</td>\n",
       "      <td>{'energy': 81.12946131894766, 'fat': 2.1401392...</td>\n",
       "      <td>train</td>\n",
       "      <td>[{'text': '8'}, {'text': '1'}, {'text': '1/4'}]</td>\n",
       "      <td>Yogurt Parfaits</td>\n",
       "      <td>[{'text': 'ounce'}, {'text': 'cup'}, {'text': ...</td>\n",
       "      <td>http://tastykitchen.com/recipes/breakfastbrunc...</td>\n",
       "      <td>[226.796, 152.0, 30.5]</td>\n",
       "      <td>NaN</td>\n",
       "    </tr>\n",
       "    <tr>\n",
       "      <td>1</td>\n",
       "      <td>{'fat': 'red', 'salt': 'orange', 'saturates': ...</td>\n",
       "      <td>00051d5b9d</td>\n",
       "      <td>[{'text': 'sugars, granulated'}, {'text': 'oil...</td>\n",
       "      <td>[{'text': 'Cream sugar and butter together til...</td>\n",
       "      <td>[{'fat': 0.0, 'nrg': 384.0, 'pro': 0.0, 'sat':...</td>\n",
       "      <td>{'energy': 477.09640393594606, 'fat': 23.41248...</td>\n",
       "      <td>val</td>\n",
       "      <td>[{'text': '1/2'}, {'text': '3/4'}, {'text': '1...</td>\n",
       "      <td>Salt Free, Low Cholesterol Sugar Cookies Recipe</td>\n",
       "      <td>[{'text': 'cup'}, {'text': 'cup'}, {'text': 'c...</td>\n",
       "      <td>http://cookeatshare.com/recipes/salt-free-low-...</td>\n",
       "      <td>[100.80000000000001, 168.0, 21.25, 5.166666666...</td>\n",
       "      <td>NaN</td>\n",
       "    </tr>\n",
       "    <tr>\n",
       "      <td>2</td>\n",
       "      <td>{'fat': 'orange', 'salt': 'orange', 'saturates...</td>\n",
       "      <td>00059b093b</td>\n",
       "      <td>[{'text': 'chicken, broilers or fryers, wing, ...</td>\n",
       "      <td>[{'text': 'Preheat oven to 400 degrees F.'}, {...</td>\n",
       "      <td>[{'fat': 174.859716, 'nrg': 2599.0821599999995...</td>\n",
       "      <td>{'energy': 208.05898280960727, 'fat': 14.29704...</td>\n",
       "      <td>train</td>\n",
       "      <td>[{'text': '3'}, {'text': '1'}, {'text': '1/2'}...</td>\n",
       "      <td>Honey Sriracha Chicken Wings</td>\n",
       "      <td>[{'text': 'pound'}, {'text': 'teaspoon'}, {'te...</td>\n",
       "      <td>http://tastykitchen.com/recipes/main-courses/h...</td>\n",
       "      <td>[1360.7759999999998, 6.0, 1.15, 13.5, 42.59999...</td>\n",
       "      <td>NaN</td>\n",
       "    </tr>\n",
       "    <tr>\n",
       "      <td>3</td>\n",
       "      <td>{'fat': 'orange', 'salt': 'orange', 'saturates...</td>\n",
       "      <td>0005fc89f7</td>\n",
       "      <td>[{'text': 'crustaceans, shrimp, raw (not previ...</td>\n",
       "      <td>[{'text': 'In a large bowl, toss the shrimp, g...</td>\n",
       "      <td>[{'fat': 4.6266384, 'nrg': 771.1064, 'pro': 18...</td>\n",
       "      <td>{'energy': 194.7525956849092, 'fat': 15.980767...</td>\n",
       "      <td>train</td>\n",
       "      <td>[{'text': '2'}, {'text': '3/4'}, {'text': '1 1...</td>\n",
       "      <td>Shrimp and Caper Salad</td>\n",
       "      <td>[{'text': 'pound'}, {'text': 'cup'}, {'text': ...</td>\n",
       "      <td>http://allrecipes.com/recipe/shrimp-and-caper-...</td>\n",
       "      <td>[907.184, 75.0, 151.5, 25.799999999999997, 134...</td>\n",
       "      <td>NaN</td>\n",
       "    </tr>\n",
       "    <tr>\n",
       "      <td>4</td>\n",
       "      <td>{'fat': 'red', 'salt': 'green', 'saturates': '...</td>\n",
       "      <td>0006ca31f4</td>\n",
       "      <td>[{'text': 'cocoa, dry powder, unsweetened'}, {...</td>\n",
       "      <td>[{'text': 'Measure out the cocoa powder into a...</td>\n",
       "      <td>[{'fat': 5.889999999999999, 'nrg': 98.0, 'pro'...</td>\n",
       "      <td>{'energy': 457.0971184631804, 'fat': 29.329775...</td>\n",
       "      <td>train</td>\n",
       "      <td>[{'text': '1/2'}, {'text': '1/2'}, {'text': '1'}]</td>\n",
       "      <td>Natural Peanut Butter Chocolate Bon Bons</td>\n",
       "      <td>[{'text': 'cup'}, {'text': 'cup'}, {'text': 'c...</td>\n",
       "      <td>http://www.food.com/recipe/natural-peanut-butt...</td>\n",
       "      <td>[43.0, 169.5, 256.0]</td>\n",
       "      <td>False</td>\n",
       "    </tr>\n",
       "  </tbody>\n",
       "</table>\n",
       "</div>"
      ],
      "text/plain": [
       "                                  fsa_lights_per100g          id  \\\n",
       "0  {'fat': 'green', 'salt': 'green', 'saturates':...  000095fc1d   \n",
       "1  {'fat': 'red', 'salt': 'orange', 'saturates': ...  00051d5b9d   \n",
       "2  {'fat': 'orange', 'salt': 'orange', 'saturates...  00059b093b   \n",
       "3  {'fat': 'orange', 'salt': 'orange', 'saturates...  0005fc89f7   \n",
       "4  {'fat': 'red', 'salt': 'green', 'saturates': '...  0006ca31f4   \n",
       "\n",
       "                                         ingredients  \\\n",
       "0  [{'text': 'yogurt, greek, plain, nonfat'}, {'t...   \n",
       "1  [{'text': 'sugars, granulated'}, {'text': 'oil...   \n",
       "2  [{'text': 'chicken, broilers or fryers, wing, ...   \n",
       "3  [{'text': 'crustaceans, shrimp, raw (not previ...   \n",
       "4  [{'text': 'cocoa, dry powder, unsweetened'}, {...   \n",
       "\n",
       "                                        instructions  \\\n",
       "0  [{'text': 'Layer all ingredients in a serving ...   \n",
       "1  [{'text': 'Cream sugar and butter together til...   \n",
       "2  [{'text': 'Preheat oven to 400 degrees F.'}, {...   \n",
       "3  [{'text': 'In a large bowl, toss the shrimp, g...   \n",
       "4  [{'text': 'Measure out the cocoa powder into a...   \n",
       "\n",
       "                                 nutr_per_ingredient  \\\n",
       "0  [{'fat': 0.8845044000000001, 'nrg': 133.80964,...   \n",
       "1  [{'fat': 0.0, 'nrg': 384.0, 'pro': 0.0, 'sat':...   \n",
       "2  [{'fat': 174.859716, 'nrg': 2599.0821599999995...   \n",
       "3  [{'fat': 4.6266384, 'nrg': 771.1064, 'pro': 18...   \n",
       "4  [{'fat': 5.889999999999999, 'nrg': 98.0, 'pro'...   \n",
       "\n",
       "                                 nutr_values_per100g partition  \\\n",
       "0  {'energy': 81.12946131894766, 'fat': 2.1401392...     train   \n",
       "1  {'energy': 477.09640393594606, 'fat': 23.41248...       val   \n",
       "2  {'energy': 208.05898280960727, 'fat': 14.29704...     train   \n",
       "3  {'energy': 194.7525956849092, 'fat': 15.980767...     train   \n",
       "4  {'energy': 457.0971184631804, 'fat': 29.329775...     train   \n",
       "\n",
       "                                            quantity  \\\n",
       "0    [{'text': '8'}, {'text': '1'}, {'text': '1/4'}]   \n",
       "1  [{'text': '1/2'}, {'text': '3/4'}, {'text': '1...   \n",
       "2  [{'text': '3'}, {'text': '1'}, {'text': '1/2'}...   \n",
       "3  [{'text': '2'}, {'text': '3/4'}, {'text': '1 1...   \n",
       "4  [{'text': '1/2'}, {'text': '1/2'}, {'text': '1'}]   \n",
       "\n",
       "                                             title  \\\n",
       "0                                  Yogurt Parfaits   \n",
       "1  Salt Free, Low Cholesterol Sugar Cookies Recipe   \n",
       "2                     Honey Sriracha Chicken Wings   \n",
       "3                           Shrimp and Caper Salad   \n",
       "4         Natural Peanut Butter Chocolate Bon Bons   \n",
       "\n",
       "                                                unit  \\\n",
       "0  [{'text': 'ounce'}, {'text': 'cup'}, {'text': ...   \n",
       "1  [{'text': 'cup'}, {'text': 'cup'}, {'text': 'c...   \n",
       "2  [{'text': 'pound'}, {'text': 'teaspoon'}, {'te...   \n",
       "3  [{'text': 'pound'}, {'text': 'cup'}, {'text': ...   \n",
       "4  [{'text': 'cup'}, {'text': 'cup'}, {'text': 'c...   \n",
       "\n",
       "                                                 url  \\\n",
       "0  http://tastykitchen.com/recipes/breakfastbrunc...   \n",
       "1  http://cookeatshare.com/recipes/salt-free-low-...   \n",
       "2  http://tastykitchen.com/recipes/main-courses/h...   \n",
       "3  http://allrecipes.com/recipe/shrimp-and-caper-...   \n",
       "4  http://www.food.com/recipe/natural-peanut-butt...   \n",
       "\n",
       "                                     weight_per_ingr  check  \n",
       "0                             [226.796, 152.0, 30.5]    NaN  \n",
       "1  [100.80000000000001, 168.0, 21.25, 5.166666666...    NaN  \n",
       "2  [1360.7759999999998, 6.0, 1.15, 13.5, 42.59999...    NaN  \n",
       "3  [907.184, 75.0, 151.5, 25.799999999999997, 134...    NaN  \n",
       "4                               [43.0, 169.5, 256.0]  False  "
      ]
     },
     "execution_count": 2,
     "metadata": {},
     "output_type": "execute_result"
    }
   ],
   "source": [
    "#Load Recipes 1M+ Database\n",
    "with open('../data/recipes_with_nutritional_info_fixed_qty.json') as json_file:\n",
    "    data = json.load(json_file)\n",
    "df = pd.DataFrame(data)\n",
    "df.head()"
   ]
  },
  {
   "cell_type": "code",
   "execution_count": 3,
   "metadata": {
    "colab": {
     "base_uri": "https://localhost:8080/",
     "height": 34
    },
    "colab_type": "code",
    "id": "vH2eEzjr_XFJ",
    "outputId": "9d79a644-91c2-428e-8b9a-d9d6b797387a"
   },
   "outputs": [
    {
     "name": "stdout",
     "output_type": "stream",
     "text": [
      "The number of recipes in the Recipes 1M+ Database is 51235.\n"
     ]
    }
   ],
   "source": [
    "print(\"The number of recipes in the Recipes 1M+ Database is {}.\".format(len(df)))"
   ]
  },
  {
   "cell_type": "code",
   "execution_count": 4,
   "metadata": {},
   "outputs": [
    {
     "data": {
      "text/html": [
       "<div>\n",
       "<style scoped>\n",
       "    .dataframe tbody tr th:only-of-type {\n",
       "        vertical-align: middle;\n",
       "    }\n",
       "\n",
       "    .dataframe tbody tr th {\n",
       "        vertical-align: top;\n",
       "    }\n",
       "\n",
       "    .dataframe thead th {\n",
       "        text-align: right;\n",
       "    }\n",
       "</style>\n",
       "<table border=\"1\" class=\"dataframe\">\n",
       "  <thead>\n",
       "    <tr style=\"text-align: right;\">\n",
       "      <th></th>\n",
       "      <th>SR description</th>\n",
       "      <th>Nutrient description</th>\n",
       "      <th>Nutrient value</th>\n",
       "    </tr>\n",
       "  </thead>\n",
       "  <tbody>\n",
       "    <tr>\n",
       "      <td>0</td>\n",
       "      <td>Butter, salted</td>\n",
       "      <td>Protein</td>\n",
       "      <td>0.85</td>\n",
       "    </tr>\n",
       "    <tr>\n",
       "      <td>1</td>\n",
       "      <td>Butter, salted</td>\n",
       "      <td>Total Fat</td>\n",
       "      <td>81.11</td>\n",
       "    </tr>\n",
       "    <tr>\n",
       "      <td>2</td>\n",
       "      <td>Butter, salted</td>\n",
       "      <td>Carbohydrate</td>\n",
       "      <td>0.06</td>\n",
       "    </tr>\n",
       "    <tr>\n",
       "      <td>3</td>\n",
       "      <td>Butter, salted</td>\n",
       "      <td>Energy</td>\n",
       "      <td>717.00</td>\n",
       "    </tr>\n",
       "    <tr>\n",
       "      <td>4</td>\n",
       "      <td>Butter, salted</td>\n",
       "      <td>Alcohol</td>\n",
       "      <td>0.00</td>\n",
       "    </tr>\n",
       "  </tbody>\n",
       "</table>\n",
       "</div>"
      ],
      "text/plain": [
       "   SR description Nutrient description  Nutrient value\n",
       "0  Butter, salted              Protein            0.85\n",
       "1  Butter, salted            Total Fat           81.11\n",
       "2  Butter, salted         Carbohydrate            0.06\n",
       "3  Butter, salted               Energy          717.00\n",
       "4  Butter, salted              Alcohol            0.00"
      ]
     },
     "execution_count": 4,
     "metadata": {},
     "output_type": "execute_result"
    }
   ],
   "source": [
    "#Load USDA nutrition facts database\n",
    "usda = pd.read_excel('../data/USDA_Database.xlsx')\n",
    "usda = usda[[\"SR description\",\"Nutrient description\", \"Nutrient value\"]]\n",
    "usda.head()"
   ]
  },
  {
   "cell_type": "markdown",
   "metadata": {},
   "source": [
    "## Part 2: Build ingredient lists from Recipes 1M+ Database"
   ]
  },
  {
   "cell_type": "code",
   "execution_count": 5,
   "metadata": {
    "colab": {},
    "colab_type": "code",
    "id": "leLi9zL4WMlc"
   },
   "outputs": [
    {
     "name": "stdout",
     "output_type": "stream",
     "text": [
      "There are 357 unique ingredients.\n",
      "Example ingredients: \n",
      "['apple juice, canned or bottled, unsweetened, without added ascorbic acid'\n",
      " 'apples, raw, with skin'\n",
      " 'applesauce, canned, unsweetened, without added ascorbic acid (includes usda commodity)'\n",
      " 'apricots, dried, sulfured, uncooked'\n",
      " 'artichokes, (globe or french), raw']\n"
     ]
    }
   ],
   "source": [
    "all_ingredients_full = []\n",
    "raw_ingredients = df[['ingredients']].values\n",
    "for ri in raw_ingredients:\n",
    "    for i in ri[0]:\n",
    "        all_ingredients_full += [i['text']]\n",
    "all_ingredients_full_unique = np.unique(all_ingredients_full)\n",
    "print(\"There are {} unique ingredients.\".format(len(all_ingredients_full_unique)))\n",
    "print(\"Example ingredients: \")\n",
    "print(all_ingredients_full_unique[10:15])"
   ]
  },
  {
   "cell_type": "code",
   "execution_count": 6,
   "metadata": {
    "colab": {},
    "colab_type": "code",
    "id": "EnSWml1KVYQs"
   },
   "outputs": [
    {
     "name": "stdout",
     "output_type": "stream",
     "text": [
      "There are 213 unique ingredients (first words only).\n",
      "Example ingredients: \n",
      "['asparagus' 'avocados' 'bacon' 'baking chocolate' 'bananas']\n"
     ]
    }
   ],
   "source": [
    "all_ingredients_firstword = []\n",
    "for ing in all_ingredients_full:\n",
    "    all_ingredients_firstword.append(ing.split(',')[0])\n",
    "all_ingredients_unique = np.unique(all_ingredients_firstword,return_index=False)\n",
    "print(\"There are {} unique ingredients (first words only).\".format(len(all_ingredients_unique)))\n",
    "print('Example ingredients: ')\n",
    "print(all_ingredients_unique[10:15])"
   ]
  },
  {
   "cell_type": "code",
   "execution_count": 7,
   "metadata": {},
   "outputs": [],
   "source": [
    "#Save ingredient lists\n",
    "np.save('../data/Ingredient_List.npy', all_ingredients_full_unique)\n",
    "np.save('../data/Ingredient_List_First_Word.npy', all_ingredients_unique)"
   ]
  },
  {
   "cell_type": "markdown",
   "metadata": {},
   "source": [
    "### Adjacency Matrix No. 1\n",
    "Weights between ingredient nodes are equal to the number of recipes in which the two ingredients appear together in the Recipe1M+ dataset"
   ]
  },
  {
   "cell_type": "code",
   "execution_count": 8,
   "metadata": {
    "colab": {},
    "colab_type": "code",
    "id": "xJwmpjHoXRQo"
   },
   "outputs": [],
   "source": [
    "#Create adjacency matrix with weights equal to the number of recipes in which two ingredients appear together\n",
    "Adj_mat_1 = np.zeros([len(all_ingredients_full_unique),len(all_ingredients_full_unique)])\n",
    "ingredients_df = df['ingredients']\n",
    "for recipe in ingredients_df.values:\n",
    "    ingredients = []\n",
    "    for ingredient in recipe:\n",
    "        ingredients += [ingredient['text']]\n",
    "    indices = np.where(np.in1d(all_ingredients_full_unique,ingredients))\n",
    "    combos = list(itertools.combinations(indices[0],2))\n",
    "    for combo in combos:\n",
    "        Adj_mat_1[combo[0],combo[1]] += 1\n",
    "        Adj_mat_1[combo[1],combo[0]] += 1"
   ]
  },
  {
   "cell_type": "code",
   "execution_count": 9,
   "metadata": {
    "colab": {
     "base_uri": "https://localhost:8080/",
     "height": 286
    },
    "colab_type": "code",
    "id": "_OV9-Z10iSPw",
    "outputId": "f39dc196-72e1-4f2e-bc60-82f626961ed5"
   },
   "outputs": [
    {
     "name": "stdout",
     "output_type": "stream",
     "text": [
      "8385.0\n"
     ]
    },
    {
     "data": {
      "image/png": "[encoded data removed]",
      "text/plain": [
       "<Figure size 432x288 with 1 Axes>"
      ]
     },
     "metadata": {
      "needs_background": "light"
     },
     "output_type": "display_data"
    }
   ],
   "source": [
    "#Visualize and save\n",
    "plt.spy(Adj_mat_1)\n",
    "print(np.max(Adj_mat_1))\n",
    "np.save('../data/Adjacency_Matrix_1.npy',Adj_mat_1)"
   ]
  },
  {
   "cell_type": "code",
   "execution_count": 65,
   "metadata": {},
   "outputs": [
    {
     "name": "stdout",
     "output_type": "stream",
     "text": [
      "The ingredients most commonly used together are salt, table and wheat flour, white, all-purpose, unenriched.\n"
     ]
    }
   ],
   "source": [
    "am1 = np.unravel_index(np.argmax(Adj_mat_1, axis=None), Adj_mat_1.shape)\n",
    "print(\"The ingredients most commonly used together are {0} and {1}.\".format(all_ingredients_full_unique[am1[0]], all_ingredients_full_unique[am1[1]]))"
   ]
  },
  {
   "cell_type": "markdown",
   "metadata": {
    "colab": {},
    "colab_type": "code",
    "id": "a0O-AIll3tco"
   },
   "source": [
    "### Adjacency Matrix No. 2\n",
    "Same as adjacency matrix #1 but using only the first word of each ingredient"
   ]
  },
  {
   "cell_type": "code",
   "execution_count": 10,
   "metadata": {
    "colab": {},
    "colab_type": "code",
    "id": "5NouZJVn34Qc"
   },
   "outputs": [],
   "source": [
    "Adj_mat_2 = np.zeros([len(all_ingredients_unique),len(all_ingredients_unique)])\n",
    "ingredients_df = df['ingredients']\n",
    "for recipe in ingredients_df.values:\n",
    "    ingredients = []\n",
    "    for ingredient in recipe:\n",
    "        ingredients += [ingredient['text'].split(',')[0]]\n",
    "    indices = np.where(np.in1d(all_ingredients_unique,ingredients))\n",
    "    combos = list(itertools.combinations(indices[0],2))\n",
    "    for combo in combos:\n",
    "        Adj_mat_2[combo[0],combo[1]] += 1\n",
    "        Adj_mat_2[combo[1],combo[0]] += 1"
   ]
  },
  {
   "cell_type": "code",
   "execution_count": 11,
   "metadata": {
    "colab": {
     "base_uri": "https://localhost:8080/",
     "height": 286
    },
    "colab_type": "code",
    "id": "sFjwinlL6F3k",
    "outputId": "89e759a7-668a-4783-8f24-89bd30ce3f14"
   },
   "outputs": [
    {
     "name": "stdout",
     "output_type": "stream",
     "text": [
      "10666.0\n"
     ]
    },
    {
     "data": {
      "image/png": "[encoded data removed]",
      "text/plain": [
       "<Figure size 432x288 with 1 Axes>"
      ]
     },
     "metadata": {
      "needs_background": "light"
     },
     "output_type": "display_data"
    }
   ],
   "source": [
    "plt.spy(Adj_mat_2)\n",
    "print(np.max(Adj_mat_2))\n",
    "np.save('../data/Adjacency_Matrix_2.npy',Adj_mat_2)"
   ]
  },
  {
   "cell_type": "markdown",
   "metadata": {
    "colab_type": "text",
    "id": "QuCfnBVL7ewL"
   },
   "source": [
    "### Adjacency Matrix No. 3\n",
    "Build an adjacency matrix Cora-style (like we did in the first assignment): Have each recipe represent a \"feature\" for each ingredient. The feature equals 1 if the recipe includes that ingredient and 0 otherwise. Then use an RBF kernel to compute the distances between ingredients based on their feature vectors."
   ]
  },
  {
   "cell_type": "code",
   "execution_count": 12,
   "metadata": {
    "colab": {},
    "colab_type": "code",
    "id": "heIXn_Y97mE4"
   },
   "outputs": [],
   "source": [
    "num_recipes = len(df)\n",
    "feature = np.zeros([len(all_ingredients_full_unique),num_recipes])\n",
    "ingredients_df = df['ingredients']\n",
    "recipe_counter = 0\n",
    "for recipe in ingredients_df.values:\n",
    "    ingredients = []\n",
    "    for ingredient in recipe:\n",
    "        ingredients += [ingredient['text']]\n",
    "    indices = np.where(np.in1d(all_ingredients_full_unique,ingredients))\n",
    "    feature[indices,recipe_counter] = 1\n",
    "    recipe_counter = recipe_counter + 1"
   ]
  },
  {
   "cell_type": "code",
   "execution_count": 13,
   "metadata": {
    "colab": {
     "base_uri": "https://localhost:8080/",
     "height": 282
    },
    "colab_type": "code",
    "id": "7O7rQ7eAFyD_",
    "outputId": "b984d654-0cf8-4502-fcd5-bf2c2d12d33e"
   },
   "outputs": [
    {
     "name": "stdout",
     "output_type": "stream",
     "text": [
      "32.63865095634238\n"
     ]
    },
    {
     "data": {
      "image/png": "[encoded data removed]",
      "text/plain": [
       "<Figure size 432x288 with 1 Axes>"
      ]
     },
     "metadata": {
      "needs_background": "light"
     },
     "output_type": "display_data"
    }
   ],
   "source": [
    "#Plot distances between nodes\n",
    "distances = pdist(feature, metric='euclidean')\n",
    "plt.hist(distances)\n",
    "mean_dist = np.mean(distances)\n",
    "print(mean_dist)"
   ]
  },
  {
   "cell_type": "code",
   "execution_count": 14,
   "metadata": {},
   "outputs": [],
   "source": [
    "def epsilon_similarity_graph(X: np.ndarray, sigma=1, epsilon=0):\n",
    "    \"\"\" X (n x d): coordinates of the n data points in R^d.\n",
    "        sigma (float): width of the kernel\n",
    "        epsilon (float): threshold\n",
    "        Return:\n",
    "        adjacency (n x n ndarray): adjacency matrix of the graph.\n",
    "    \"\"\"\n",
    "    dist = squareform(pdist(X))\n",
    "    adjacency = np.exp(- dist ** 2 / (2 * sigma ** 2))\n",
    "    adjacency[adjacency < epsilon] = 0\n",
    "    np.fill_diagonal(adjacency, 0)\n",
    "    return adjacency"
   ]
  },
  {
   "cell_type": "code",
   "execution_count": 15,
   "metadata": {
    "colab": {
     "base_uri": "https://localhost:8080/",
     "height": 269
    },
    "colab_type": "code",
    "id": "tFK1zizTDkrC",
    "outputId": "d6720d34-4d17-4256-b4b3-fd4a682b521e"
   },
   "outputs": [
    {
     "data": {
      "image/png": "[encoded data removed]",
      "text/plain": [
       "<Figure size 432x288 with 1 Axes>"
      ]
     },
     "metadata": {
      "needs_background": "light"
     },
     "output_type": "display_data"
    }
   ],
   "source": [
    "sigma_coeff = 0.8\n",
    "sigma = sigma_coeff*mean_dist\n",
    "adjacency = epsilon_similarity_graph(feature, sigma, epsilon=0.2)\n",
    "plt.spy(adjacency)\n",
    "plt.show()"
   ]
  },
  {
   "cell_type": "code",
   "execution_count": 16,
   "metadata": {
    "colab": {},
    "colab_type": "code",
    "id": "GG-p3PFiIAVL"
   },
   "outputs": [],
   "source": [
    "#Save the matrix\n",
    "np.save('../data/Adjacency_Matrix_3.npy',adjacency)"
   ]
  },
  {
   "cell_type": "markdown",
   "metadata": {
    "colab_type": "text",
    "id": "hb14iGzLsBxJ"
   },
   "source": [
    "## Side note\n",
    "Testing the credibility of nutrition information for each ingredient from the Recipes 1M+ database"
   ]
  },
  {
   "cell_type": "code",
   "execution_count": 17,
   "metadata": {
    "colab": {
     "base_uri": "https://localhost:8080/",
     "height": 1000
    },
    "colab_type": "code",
    "id": "iJgk7vEe1k74",
    "outputId": "c911f9f2-22a7-4d5b-8473-93f32d7727f7"
   },
   "outputs": [
    {
     "name": "stdout",
     "output_type": "stream",
     "text": [
      "Recipe 10: 1/2 cup of broccoli nutrition facts: {'fat': 0.17, 'nrg': 15.5, 'pro': 1.285, 'sat': 0.0175, 'sod': 15.0, 'sug': 0.775}\n",
      "Recipe 11: 2 cup of broccoli nutrition facts: {'fat': 0.68, 'nrg': 62.0, 'pro': 5.14, 'sat': 0.07, 'sod': 60.0, 'sug': 3.1}\n",
      "Recipe 14: 10 ounce of broccoli nutrition facts: {'fat': 1.0489315000000001, 'nrg': 96.38830000000002, 'pro': 7.994559, 'sat': 0.11056305, 'sod': 93.55335000000001, 'sug': 4.819415}\n",
      "Recipe 67: 10 ounce of broccoli nutrition facts: {'fat': 1.0489315000000001, 'nrg': 96.38830000000002, 'pro': 7.994559, 'sat': 0.11056305, 'sod': 93.55335000000001, 'sug': 4.819415}\n",
      "Recipe 187: 2 cup of broccoli nutrition facts: {'fat': 0.68, 'nrg': 62.0, 'pro': 5.14, 'sat': 0.07, 'sod': 60.0, 'sug': 3.1}\n",
      "Recipe 239: 1 1/2 pound of broccoli nutrition facts: {'fat': 2.5174355999999998, 'nrg': 231.33192, 'pro': 19.186941599999997, 'sat': 0.26535131999999995, 'sod': 224.52803999999998, 'sug': 11.566595999999999}\n",
      "Recipe 310: 2 cup of broccoli nutrition facts: {'fat': 0.68, 'nrg': 62.0, 'pro': 5.14, 'sat': 0.07, 'sod': 60.0, 'sug': 3.1}\n",
      "Recipe 329: 4 cup of broccoli nutrition facts: {'fat': 1.36, 'nrg': 124.0, 'pro': 10.28, 'sat': 0.14, 'sod': 120.0, 'sug': 6.2}\n",
      "Recipe 454: 1 1/4 pound of broccoli nutrition facts: {'fat': 2.0978630000000003, 'nrg': 192.77660000000003, 'pro': 15.989118, 'sat': 0.2211261, 'sod': 187.10670000000002, 'sug': 9.63883}\n",
      "Recipe 538: 2 cup of broccoli nutrition facts: {'fat': 0.68, 'nrg': 62.0, 'pro': 5.14, 'sat': 0.07, 'sod': 60.0, 'sug': 3.1}\n",
      "Recipe 646: 10 ounce of broccoli nutrition facts: {'fat': 1.0489315000000001, 'nrg': 96.38830000000002, 'pro': 7.994559, 'sat': 0.11056305, 'sod': 93.55335000000001, 'sug': 4.819415}\n",
      "Recipe 686: 1 cup of broccoli nutrition facts: {'fat': 0.34, 'nrg': 31.0, 'pro': 2.57, 'sat': 0.035, 'sod': 30.0, 'sug': 1.55}\n",
      "Recipe 954: 1 cup of broccoli nutrition facts: {'fat': 0.34, 'nrg': 31.0, 'pro': 2.57, 'sat': 0.035, 'sod': 30.0, 'sug': 1.55}\n",
      "Recipe 1159: 2 cup of broccoli nutrition facts: {'fat': 0.68, 'nrg': 62.0, 'pro': 5.14, 'sat': 0.07, 'sod': 60.0, 'sug': 3.1}\n",
      "Recipe 1378: 20 ounce of broccoli nutrition facts: {'fat': 2.0978630000000003, 'nrg': 192.77660000000003, 'pro': 15.989118, 'sat': 0.2211261, 'sod': 187.10670000000002, 'sug': 9.63883}\n",
      "Recipe 1515: 4 1/2 cup of broccoli nutrition facts: {'fat': 1.53, 'nrg': 139.5, 'pro': 11.565, 'sat': 0.15750000000000003, 'sod': 135.0, 'sug': 6.9750000000000005}\n",
      "Recipe 1569: 12 pound of broccoli nutrition facts: {'fat': 20.139484799999998, 'nrg': 1850.65536, 'pro': 153.49553279999998, 'sat': 2.1228105599999996, 'sod': 1796.2243199999998, 'sug': 92.53276799999999}\n",
      "Recipe 1731: 6 cup of broccoli nutrition facts: {'fat': 2.04, 'nrg': 186.0, 'pro': 15.419999999999998, 'sat': 0.21000000000000002, 'sod': 180.0, 'sug': 9.3}\n",
      "Recipe 1741: 2 cup of broccoli nutrition facts: {'fat': 0.68, 'nrg': 62.0, 'pro': 5.14, 'sat': 0.07, 'sod': 60.0, 'sug': 3.1}\n",
      "Recipe 1986: 1 cup of broccoli nutrition facts: {'fat': 0.34, 'nrg': 31.0, 'pro': 2.57, 'sat': 0.035, 'sod': 30.0, 'sug': 1.55}\n",
      "Recipe 1996: 1/2 cup of broccoli nutrition facts: {'fat': 0.17, 'nrg': 15.5, 'pro': 1.285, 'sat': 0.0175, 'sod': 15.0, 'sug': 0.775}\n",
      "Recipe 2076: 2 pound of broccoli nutrition facts: {'fat': 3.3565808, 'nrg': 308.44256, 'pro': 25.5825888, 'sat': 0.35380175999999997, 'sod': 299.37072, 'sug': 15.422128}\n",
      "Recipe 2344: 1 cup of broccoli nutrition facts: {'fat': 0.34, 'nrg': 31.0, 'pro': 2.57, 'sat': 0.035, 'sod': 30.0, 'sug': 1.55}\n",
      "Recipe 2569: 4 cup of broccoli nutrition facts: {'fat': 1.36, 'nrg': 124.0, 'pro': 10.28, 'sat': 0.14, 'sod': 120.0, 'sug': 6.2}\n",
      "Recipe 2837: 4 cup of broccoli nutrition facts: {'fat': 1.36, 'nrg': 124.0, 'pro': 10.28, 'sat': 0.14, 'sod': 120.0, 'sug': 6.2}\n",
      "Recipe 2946: 3 pound of broccoli nutrition facts: {'fat': 5.0348711999999995, 'nrg': 462.66384, 'pro': 38.373883199999995, 'sat': 0.5307026399999999, 'sod': 449.05607999999995, 'sug': 23.133191999999998}\n",
      "Recipe 3074: 6 ounce of broccoli nutrition facts: {'fat': 0.6293588999999999, 'nrg': 57.83298, 'pro': 4.796735399999999, 'sat': 0.06633782999999999, 'sod': 56.132009999999994, 'sug': 2.8916489999999997}\n",
      "Recipe 3185: 10 ounce of broccoli nutrition facts: {'fat': 1.0489315000000001, 'nrg': 96.38830000000002, 'pro': 7.994559, 'sat': 0.11056305, 'sod': 93.55335000000001, 'sug': 4.819415}\n",
      "Recipe 3455: 2 cup of broccoli nutrition facts: {'fat': 0.68, 'nrg': 62.0, 'pro': 5.14, 'sat': 0.07, 'sod': 60.0, 'sug': 3.1}\n",
      "Recipe 3459: 1 cup of broccoli nutrition facts: {'fat': 0.34, 'nrg': 31.0, 'pro': 2.57, 'sat': 0.035, 'sod': 30.0, 'sug': 1.55}\n",
      "Recipe 3469: 12 cup of broccoli nutrition facts: {'fat': 4.08, 'nrg': 372.0, 'pro': 30.839999999999996, 'sat': 0.42000000000000004, 'sod': 360.0, 'sug': 18.6}\n",
      "Recipe 3649: 4 cup of broccoli nutrition facts: {'fat': 1.36, 'nrg': 124.0, 'pro': 10.28, 'sat': 0.14, 'sod': 120.0, 'sug': 6.2}\n",
      "Recipe 3695: 4 cup of broccoli nutrition facts: {'fat': 1.36, 'nrg': 124.0, 'pro': 10.28, 'sat': 0.14, 'sod': 120.0, 'sug': 6.2}\n",
      "Recipe 4370: 2 cup of broccoli nutrition facts: {'fat': 0.68, 'nrg': 62.0, 'pro': 5.14, 'sat': 0.07, 'sod': 60.0, 'sug': 3.1}\n",
      "Recipe 4655: 1 pound of broccoli nutrition facts: {'fat': 1.6782904, 'nrg': 154.22128, 'pro': 12.7912944, 'sat': 0.17690087999999998, 'sod': 149.68536, 'sug': 7.711064}\n",
      "Recipe 4656: 1 cup of broccoli nutrition facts: {'fat': 0.34, 'nrg': 31.0, 'pro': 2.57, 'sat': 0.035, 'sod': 30.0, 'sug': 1.55}\n",
      "Recipe 4676: 34 pound of broccoli nutrition facts: {'fat': 57.0618736, 'nrg': 5243.52352, 'pro': 434.90400959999994, 'sat': 6.014629919999999, 'sod': 5089.30224, 'sug': 262.176176}\n",
      "Recipe 4718: 12 cup of broccoli nutrition facts: {'fat': 4.08, 'nrg': 372.0, 'pro': 30.839999999999996, 'sat': 0.42000000000000004, 'sod': 360.0, 'sug': 18.6}\n",
      "Recipe 5007: 6 cup of broccoli nutrition facts: {'fat': 2.04, 'nrg': 186.0, 'pro': 15.419999999999998, 'sat': 0.21000000000000002, 'sod': 180.0, 'sug': 9.3}\n",
      "Recipe 5083: 5 cup of broccoli nutrition facts: {'fat': 1.7000000000000002, 'nrg': 155.0, 'pro': 12.85, 'sat': 0.17500000000000002, 'sod': 150.0, 'sug': 7.75}\n",
      "Recipe 5086: 4 cup of broccoli nutrition facts: {'fat': 1.36, 'nrg': 124.0, 'pro': 10.28, 'sat': 0.14, 'sod': 120.0, 'sug': 6.2}\n",
      "Recipe 5106: 16 ounce of broccoli nutrition facts: {'fat': 1.6782904, 'nrg': 154.22128, 'pro': 12.7912944, 'sat': 0.17690087999999998, 'sod': 149.68536, 'sug': 7.711064}\n",
      "Recipe 5168: 6 cup of broccoli nutrition facts: {'fat': 2.04, 'nrg': 186.0, 'pro': 15.419999999999998, 'sat': 0.21000000000000002, 'sod': 180.0, 'sug': 9.3}\n",
      "Recipe 5257: 6 cup of broccoli nutrition facts: {'fat': 2.04, 'nrg': 186.0, 'pro': 15.419999999999998, 'sat': 0.21000000000000002, 'sod': 180.0, 'sug': 9.3}\n",
      "Recipe 5416: 16 ounce of broccoli nutrition facts: {'fat': 1.6782904, 'nrg': 154.22128, 'pro': 12.7912944, 'sat': 0.17690087999999998, 'sod': 149.68536, 'sug': 7.711064}\n",
      "Recipe 5588: 3 quart of broccoli nutrition facts: {'fat': 4.08, 'nrg': 372.0, 'pro': 30.839999999999996, 'sat': 0.42000000000000004, 'sod': 360.0, 'sug': 18.6}\n",
      "Recipe 5674: 4 cup of broccoli nutrition facts: {'fat': 1.36, 'nrg': 124.0, 'pro': 10.28, 'sat': 0.14, 'sod': 120.0, 'sug': 6.2}\n",
      "Recipe 5676: 1 1/2 pound of broccoli nutrition facts: {'fat': 2.5174355999999998, 'nrg': 231.33192, 'pro': 19.186941599999997, 'sat': 0.26535131999999995, 'sod': 224.52803999999998, 'sug': 11.566595999999999}\n",
      "Recipe 5749: 12 ounce of broccoli nutrition facts: {'fat': 1.2587177999999999, 'nrg': 115.66596, 'pro': 9.593470799999999, 'sat': 0.13267565999999997, 'sod': 112.26401999999999, 'sug': 5.783297999999999}\n",
      "Recipe 5973: 6 cup of broccoli nutrition facts: {'fat': 2.04, 'nrg': 186.0, 'pro': 15.419999999999998, 'sat': 0.21000000000000002, 'sod': 180.0, 'sug': 9.3}\n",
      "Recipe 6096: 16 pound of broccoli nutrition facts: {'fat': 26.8526464, 'nrg': 2467.54048, 'pro': 204.6607104, 'sat': 2.8304140799999997, 'sod': 2394.96576, 'sug': 123.377024}\n",
      "Recipe 6126: 3 cup of broccoli nutrition facts: {'fat': 1.02, 'nrg': 93.0, 'pro': 7.709999999999999, 'sat': 0.10500000000000001, 'sod': 90.0, 'sug': 4.65}\n",
      "Recipe 6305: 3 cup of broccoli nutrition facts: {'fat': 1.02, 'nrg': 93.0, 'pro': 7.709999999999999, 'sat': 0.10500000000000001, 'sod': 90.0, 'sug': 4.65}\n",
      "Recipe 6355: 4 1/2 cup of broccoli nutrition facts: {'fat': 1.53, 'nrg': 139.5, 'pro': 11.565, 'sat': 0.15750000000000003, 'sod': 135.0, 'sug': 6.9750000000000005}\n",
      "Recipe 6401: 2 cup of broccoli nutrition facts: {'fat': 0.68, 'nrg': 62.0, 'pro': 5.14, 'sat': 0.07, 'sod': 60.0, 'sug': 3.1}\n",
      "Recipe 6425: 3 cup of broccoli nutrition facts: {'fat': 1.02, 'nrg': 93.0, 'pro': 7.709999999999999, 'sat': 0.10500000000000001, 'sod': 90.0, 'sug': 4.65}\n",
      "Recipe 6481: 2 pound of broccoli nutrition facts: {'fat': 3.3565808, 'nrg': 308.44256, 'pro': 25.5825888, 'sat': 0.35380175999999997, 'sod': 299.37072, 'sug': 15.422128}\n"
     ]
    },
    {
     "name": "stdout",
     "output_type": "stream",
     "text": [
      "Recipe 6863: 20 ounce of broccoli nutrition facts: {'fat': 2.0978630000000003, 'nrg': 192.77660000000003, 'pro': 15.989118, 'sat': 0.2211261, 'sod': 187.10670000000002, 'sug': 9.63883}\n",
      "Recipe 6966: 1 1/2 cup of broccoli nutrition facts: {'fat': 0.51, 'nrg': 46.5, 'pro': 3.8549999999999995, 'sat': 0.052500000000000005, 'sod': 45.0, 'sug': 2.325}\n",
      "Recipe 6982: 2 cup of broccoli nutrition facts: {'fat': 0.68, 'nrg': 62.0, 'pro': 5.14, 'sat': 0.07, 'sod': 60.0, 'sug': 3.1}\n",
      "Recipe 7013: 4 cup of broccoli nutrition facts: {'fat': 1.36, 'nrg': 124.0, 'pro': 10.28, 'sat': 0.14, 'sod': 120.0, 'sug': 6.2}\n",
      "Recipe 7253: 3/4 cup of broccoli nutrition facts: {'fat': 0.255, 'nrg': 23.25, 'pro': 1.9275, 'sat': 0.026250000000000006, 'sod': 22.5, 'sug': 1.1625}\n",
      "Recipe 7354: 1 1/4 pound of broccoli nutrition facts: {'fat': 2.0978630000000003, 'nrg': 192.77660000000003, 'pro': 15.989118, 'sat': 0.2211261, 'sod': 187.10670000000002, 'sug': 9.63883}\n",
      "Recipe 7458: 8 cup of broccoli nutrition facts: {'fat': 2.72, 'nrg': 248.0, 'pro': 20.56, 'sat': 0.28, 'sod': 240.0, 'sug': 12.4}\n",
      "Recipe 7759: 1/2 cup of broccoli nutrition facts: {'fat': 0.16999999999999998, 'nrg': 15.5, 'pro': 1.2849999999999997, 'sat': 0.0175, 'sod': 15.0, 'sug': 0.775}\n",
      "Recipe 8061: 1 pound of broccoli nutrition facts: {'fat': 1.6782904, 'nrg': 154.22128, 'pro': 12.7912944, 'sat': 0.17690087999999998, 'sod': 149.68536, 'sug': 7.711064}\n",
      "Recipe 8079: 1 cup of broccoli nutrition facts: {'fat': 0.34, 'nrg': 31.0, 'pro': 2.57, 'sat': 0.035, 'sod': 30.0, 'sug': 1.55}\n",
      "Recipe 8160: 2 cup of broccoli nutrition facts: {'fat': 0.68, 'nrg': 62.0, 'pro': 5.14, 'sat': 0.07, 'sod': 60.0, 'sug': 3.1}\n",
      "Recipe 8179: 2 cup of broccoli nutrition facts: {'fat': 0.68, 'nrg': 62.0, 'pro': 5.14, 'sat': 0.07, 'sod': 60.0, 'sug': 3.1}\n",
      "Recipe 8180: 4 cup of broccoli nutrition facts: {'fat': 1.36, 'nrg': 124.0, 'pro': 10.28, 'sat': 0.14, 'sod': 120.0, 'sug': 6.2}\n",
      "Recipe 8358: 1 pound of broccoli nutrition facts: {'fat': 1.6782904, 'nrg': 154.22128, 'pro': 12.7912944, 'sat': 0.17690087999999998, 'sod': 149.68536, 'sug': 7.711064}\n",
      "Recipe 8362: 3/4 cup of broccoli nutrition facts: {'fat': 0.255, 'nrg': 23.25, 'pro': 1.9274999999999998, 'sat': 0.026250000000000002, 'sod': 22.5, 'sug': 1.1625}\n",
      "Recipe 8443: 1 pound of broccoli nutrition facts: {'fat': 1.6782904, 'nrg': 154.22128, 'pro': 12.7912944, 'sat': 0.17690087999999998, 'sod': 149.68536, 'sug': 7.711064}\n",
      "Recipe 8488: 1/4 cup of broccoli nutrition facts: {'fat': 0.085, 'nrg': 7.75, 'pro': 0.6425, 'sat': 0.00875, 'sod': 7.5, 'sug': 0.38749999999999996}\n",
      "Recipe 8619: 2 cup of broccoli nutrition facts: {'fat': 0.68, 'nrg': 62.0, 'pro': 5.14, 'sat': 0.07, 'sod': 60.0, 'sug': 3.1}\n",
      "Recipe 8628: 4 cup of broccoli nutrition facts: {'fat': 1.36, 'nrg': 124.0, 'pro': 10.28, 'sat': 0.14, 'sod': 120.0, 'sug': 6.2}\n",
      "Recipe 8638: 5 cup of broccoli nutrition facts: {'fat': 1.7000000000000002, 'nrg': 155.0, 'pro': 12.85, 'sat': 0.17500000000000002, 'sod': 150.0, 'sug': 7.75}\n",
      "Recipe 8695: 2 cup of broccoli nutrition facts: {'fat': 0.68, 'nrg': 62.0, 'pro': 5.14, 'sat': 0.07, 'sod': 60.0, 'sug': 3.1}\n",
      "Recipe 8955: 1 cup of broccoli nutrition facts: {'fat': 0.34, 'nrg': 31.0, 'pro': 2.57, 'sat': 0.035, 'sod': 30.0, 'sug': 1.55}\n",
      "Recipe 8981: 1 pound of broccoli nutrition facts: {'fat': 1.6782904, 'nrg': 154.22128, 'pro': 12.7912944, 'sat': 0.17690087999999998, 'sod': 149.68536, 'sug': 7.711064}\n",
      "Recipe 9132: 4 cup of broccoli nutrition facts: {'fat': 1.36, 'nrg': 124.0, 'pro': 10.28, 'sat': 0.14, 'sod': 120.0, 'sug': 6.2}\n",
      "Recipe 9197: 4 cup of broccoli nutrition facts: {'fat': 1.36, 'nrg': 124.0, 'pro': 10.28, 'sat': 0.14, 'sod': 120.0, 'sug': 6.2}\n",
      "Recipe 9258: 1 1/2 cup of broccoli nutrition facts: {'fat': 0.51, 'nrg': 46.5, 'pro': 3.8549999999999995, 'sat': 0.052500000000000005, 'sod': 45.0, 'sug': 2.325}\n",
      "Recipe 9343: 1 1/2 cup of broccoli nutrition facts: {'fat': 0.51, 'nrg': 46.5, 'pro': 3.8549999999999995, 'sat': 0.052500000000000005, 'sod': 45.0, 'sug': 2.325}\n",
      "Recipe 9388: 2 cup of broccoli nutrition facts: {'fat': 0.68, 'nrg': 62.0, 'pro': 5.14, 'sat': 0.07, 'sod': 60.0, 'sug': 3.1}\n",
      "Recipe 9437: 8 ounce of broccoli nutrition facts: {'fat': 0.8391452, 'nrg': 77.11064, 'pro': 6.3956472, 'sat': 0.08845043999999999, 'sod': 74.84268, 'sug': 3.855532}\n",
      "Recipe 9605: 2 cup of broccoli nutrition facts: {'fat': 0.68, 'nrg': 62.0, 'pro': 5.14, 'sat': 0.07, 'sod': 60.0, 'sug': 3.1}\n",
      "Recipe 9700: 5 cup of broccoli nutrition facts: {'fat': 1.7000000000000002, 'nrg': 155.0, 'pro': 12.85, 'sat': 0.17500000000000002, 'sod': 150.0, 'sug': 7.75}\n",
      "Recipe 9706: 3 pound of broccoli nutrition facts: {'fat': 5.0348711999999995, 'nrg': 462.66384, 'pro': 38.373883199999995, 'sat': 0.5307026399999999, 'sod': 449.05607999999995, 'sug': 23.133191999999998}\n",
      "Recipe 9900: 10 ounce of broccoli nutrition facts: {'fat': 1.0489315000000001, 'nrg': 96.38830000000002, 'pro': 7.994559, 'sat': 0.11056305, 'sod': 93.55335000000001, 'sug': 4.819415}\n",
      "Recipe 9997: 1 cup of broccoli nutrition facts: {'fat': 0.34, 'nrg': 31.0, 'pro': 2.57, 'sat': 0.035, 'sod': 30.0, 'sug': 1.55}\n",
      "Recipe 10011: 6 ounce of broccoli nutrition facts: {'fat': 0.6293588999999999, 'nrg': 57.83298, 'pro': 4.796735399999999, 'sat': 0.06633782999999999, 'sod': 56.132009999999994, 'sug': 2.8916489999999997}\n",
      "Recipe 10144: 1/2 pound of broccoli nutrition facts: {'fat': 0.8391452, 'nrg': 77.11064, 'pro': 6.3956472, 'sat': 0.08845043999999999, 'sod': 74.84268, 'sug': 3.855532}\n",
      "Recipe 10241: 3 cup of broccoli nutrition facts: {'fat': 1.02, 'nrg': 93.0, 'pro': 7.709999999999999, 'sat': 0.10500000000000001, 'sod': 90.0, 'sug': 4.65}\n",
      "Recipe 10278: 2 pound of broccoli nutrition facts: {'fat': 3.3565808, 'nrg': 308.44256, 'pro': 25.5825888, 'sat': 0.35380175999999997, 'sod': 299.37072, 'sug': 15.422128}\n",
      "Recipe 10464: 1 pound of broccoli nutrition facts: {'fat': 1.6782904, 'nrg': 154.22128, 'pro': 12.7912944, 'sat': 0.17690087999999998, 'sod': 149.68536, 'sug': 7.711064}\n",
      "Recipe 10581: 6 cup of broccoli nutrition facts: {'fat': 2.04, 'nrg': 186.0, 'pro': 15.419999999999998, 'sat': 0.21000000000000002, 'sod': 180.0, 'sug': 9.3}\n",
      "Recipe 10936: 1 cup of broccoli nutrition facts: {'fat': 0.34, 'nrg': 31.0, 'pro': 2.57, 'sat': 0.035, 'sod': 30.0, 'sug': 1.55}\n",
      "Recipe 10947: 10 ounce of broccoli nutrition facts: {'fat': 1.0489315000000001, 'nrg': 96.38830000000002, 'pro': 7.994559, 'sat': 0.11056305, 'sod': 93.55335000000001, 'sug': 4.819415}\n",
      "Recipe 11649: 2 cup of broccoli nutrition facts: {'fat': 0.68, 'nrg': 62.0, 'pro': 5.14, 'sat': 0.07, 'sod': 60.0, 'sug': 3.1}\n",
      "Recipe 11679: 6 cup of broccoli nutrition facts: {'fat': 2.04, 'nrg': 186.0, 'pro': 15.419999999999998, 'sat': 0.21000000000000002, 'sod': 180.0, 'sug': 9.3}\n",
      "Recipe 11694: 2/3 cup of broccoli nutrition facts: {'fat': 0.22666666666666668, 'nrg': 20.666666666666668, 'pro': 1.7133333333333334, 'sat': 0.023333333333333334, 'sod': 20.0, 'sug': 1.0333333333333332}\n",
      "Recipe 11781: 8 cup of broccoli nutrition facts: {'fat': 2.72, 'nrg': 248.0, 'pro': 20.56, 'sat': 0.28, 'sod': 240.0, 'sug': 12.4}\n",
      "Recipe 11881: 2 cup of broccoli nutrition facts: {'fat': 0.68, 'nrg': 62.0, 'pro': 5.14, 'sat': 0.07, 'sod': 60.0, 'sug': 3.1}\n",
      "Recipe 11900: 2 cup of broccoli nutrition facts: {'fat': 0.68, 'nrg': 62.0, 'pro': 5.14, 'sat': 0.07, 'sod': 60.0, 'sug': 3.1}\n",
      "Recipe 12296: 2 cup of broccoli nutrition facts: {'fat': 0.68, 'nrg': 62.0, 'pro': 5.14, 'sat': 0.07, 'sod': 60.0, 'sug': 3.1}\n",
      "Recipe 12357: 2 cup of broccoli nutrition facts: {'fat': 0.68, 'nrg': 62.0, 'pro': 5.14, 'sat': 0.07, 'sod': 60.0, 'sug': 3.1}\n",
      "Recipe 12475: 2 cup of broccoli nutrition facts: {'fat': 0.68, 'nrg': 62.0, 'pro': 5.14, 'sat': 0.07, 'sod': 60.0, 'sug': 3.1}\n",
      "Recipe 12675: 2 cup of broccoli nutrition facts: {'fat': 0.68, 'nrg': 62.0, 'pro': 5.14, 'sat': 0.07, 'sod': 60.0, 'sug': 3.1}\n",
      "Recipe 12774: 12 ounce of broccoli nutrition facts: {'fat': 1.2587177999999999, 'nrg': 115.66596, 'pro': 9.593470799999999, 'sat': 0.13267565999999997, 'sod': 112.26401999999999, 'sug': 5.783297999999999}\n",
      "Recipe 12834: 6 cup of broccoli nutrition facts: {'fat': 2.04, 'nrg': 186.0, 'pro': 15.419999999999998, 'sat': 0.21000000000000002, 'sod': 180.0, 'sug': 9.3}\n",
      "Recipe 13380: 100 g of broccoli nutrition facts: {'fat': 0.37, 'nrg': 34.0, 'pro': 2.82, 'sat': 0.039, 'sod': 33.0, 'sug': 1.7000000000000002}\n",
      "Recipe 13486: 4 cup of broccoli nutrition facts: {'fat': 1.36, 'nrg': 124.0, 'pro': 10.28, 'sat': 0.14, 'sod': 120.0, 'sug': 6.2}\n",
      "Recipe 13764: 16 ounce of broccoli nutrition facts: {'fat': 1.6782904, 'nrg': 154.22128, 'pro': 12.7912944, 'sat': 0.17690087999999998, 'sod': 149.68536, 'sug': 7.711064}\n",
      "Recipe 13981: 5 cup of broccoli nutrition facts: {'fat': 1.7000000000000002, 'nrg': 155.0, 'pro': 12.85, 'sat': 0.17500000000000002, 'sod': 150.0, 'sug': 7.75}\n"
     ]
    },
    {
     "name": "stdout",
     "output_type": "stream",
     "text": [
      "Recipe 14268: 1 1/2 pound of broccoli nutrition facts: {'fat': 2.5174355999999998, 'nrg': 231.33192, 'pro': 19.186941599999997, 'sat': 0.26535131999999995, 'sod': 224.52803999999998, 'sug': 11.566595999999999}\n",
      "Recipe 14464: 1/2 cup of broccoli nutrition facts: {'fat': 0.17, 'nrg': 15.5, 'pro': 1.285, 'sat': 0.0175, 'sod': 15.0, 'sug': 0.775}\n",
      "Recipe 14534: 14 cup of broccoli nutrition facts: {'fat': 4.760000000000001, 'nrg': 434.0, 'pro': 35.98, 'sat': 0.49000000000000005, 'sod': 420.0, 'sug': 21.7}\n",
      "Recipe 14572: 14 pound of broccoli nutrition facts: {'fat': 23.496065599999998, 'nrg': 2159.09792, 'pro': 179.07812159999997, 'sat': 2.4766123199999996, 'sod': 2095.59504, 'sug': 107.954896}\n",
      "Recipe 14671: 2 cup of broccoli nutrition facts: {'fat': 0.68, 'nrg': 62.0, 'pro': 5.14, 'sat': 0.07, 'sod': 60.0, 'sug': 3.1}\n",
      "Recipe 14678: 1 pound of broccoli nutrition facts: {'fat': 1.6782904, 'nrg': 154.22128, 'pro': 12.7912944, 'sat': 0.17690087999999998, 'sod': 149.68536, 'sug': 7.711064}\n",
      "Recipe 14680: 4 cup of broccoli nutrition facts: {'fat': 1.36, 'nrg': 124.0, 'pro': 10.28, 'sat': 0.14, 'sod': 120.0, 'sug': 6.2}\n",
      "Recipe 14707: 60 g of broccoli nutrition facts: {'fat': 0.222, 'nrg': 20.400000000000002, 'pro': 1.692, 'sat': 0.0234, 'sod': 19.8, 'sug': 1.02}\n",
      "Recipe 14713: 1 pound of broccoli nutrition facts: {'fat': 1.6782904, 'nrg': 154.22128, 'pro': 12.7912944, 'sat': 0.17690087999999998, 'sod': 149.68536, 'sug': 7.711064}\n",
      "Recipe 14885: 1 pound of broccoli nutrition facts: {'fat': 1.6782904, 'nrg': 154.22128, 'pro': 12.7912944, 'sat': 0.17690087999999998, 'sod': 149.68536, 'sug': 7.711064}\n",
      "Recipe 15096: 1/2 cup of broccoli nutrition facts: {'fat': 0.17, 'nrg': 15.5, 'pro': 1.285, 'sat': 0.0175, 'sod': 15.0, 'sug': 0.775}\n",
      "Recipe 15102: 2 cup of broccoli nutrition facts: {'fat': 0.68, 'nrg': 62.0, 'pro': 5.14, 'sat': 0.07, 'sod': 60.0, 'sug': 3.1}\n",
      "Recipe 15302: 1 1/2 pound of broccoli nutrition facts: {'fat': 2.5174355999999998, 'nrg': 231.33192, 'pro': 19.186941599999997, 'sat': 0.26535131999999995, 'sod': 224.52803999999998, 'sug': 11.566595999999999}\n",
      "Recipe 15309: 16 ounce of broccoli nutrition facts: {'fat': 1.6782904, 'nrg': 154.22128, 'pro': 12.7912944, 'sat': 0.17690087999999998, 'sod': 149.68536, 'sug': 7.711064}\n",
      "Recipe 15396: 3 cup of broccoli nutrition facts: {'fat': 1.02, 'nrg': 93.0, 'pro': 7.709999999999999, 'sat': 0.10500000000000001, 'sod': 90.0, 'sug': 4.65}\n",
      "Recipe 15396: 2 cup of broccoli nutrition facts: {'fat': 0.68, 'nrg': 62.0, 'pro': 5.14, 'sat': 0.07, 'sod': 60.0, 'sug': 3.1}\n",
      "Recipe 15423: 1 cup of broccoli nutrition facts: {'fat': 0.34, 'nrg': 31.0, 'pro': 2.57, 'sat': 0.035, 'sod': 30.0, 'sug': 1.55}\n",
      "Recipe 15750: 1 cup of broccoli nutrition facts: {'fat': 0.34, 'nrg': 31.0, 'pro': 2.57, 'sat': 0.035, 'sod': 30.0, 'sug': 1.55}\n",
      "Recipe 15907: 3 cup of broccoli nutrition facts: {'fat': 1.02, 'nrg': 93.0, 'pro': 7.709999999999999, 'sat': 0.10500000000000001, 'sod': 90.0, 'sug': 4.65}\n",
      "Recipe 15922: 1 1/2 pound of broccoli nutrition facts: {'fat': 2.5174355999999998, 'nrg': 231.33192, 'pro': 19.186941599999997, 'sat': 0.26535131999999995, 'sod': 224.52803999999998, 'sug': 11.566595999999999}\n",
      "Recipe 15963: 2 cup of broccoli nutrition facts: {'fat': 0.68, 'nrg': 62.0, 'pro': 5.14, 'sat': 0.07, 'sod': 60.0, 'sug': 3.1}\n",
      "Recipe 15987: 1 cup of broccoli nutrition facts: {'fat': 0.34, 'nrg': 31.0, 'pro': 2.57, 'sat': 0.035, 'sod': 30.0, 'sug': 1.55}\n",
      "Recipe 16312: 2 cup of broccoli nutrition facts: {'fat': 0.68, 'nrg': 62.0, 'pro': 5.14, 'sat': 0.07, 'sod': 60.0, 'sug': 3.1}\n",
      "Recipe 16319: 4 cup of broccoli nutrition facts: {'fat': 1.36, 'nrg': 124.0, 'pro': 10.28, 'sat': 0.14, 'sod': 120.0, 'sug': 6.2}\n",
      "Recipe 16699: 6 cup of broccoli nutrition facts: {'fat': 2.04, 'nrg': 186.0, 'pro': 15.419999999999998, 'sat': 0.21000000000000002, 'sod': 180.0, 'sug': 9.3}\n",
      "Recipe 16725: 1 pound of broccoli nutrition facts: {'fat': 1.6782904, 'nrg': 154.22128, 'pro': 12.7912944, 'sat': 0.17690087999999998, 'sod': 149.68536, 'sug': 7.711064}\n",
      "Recipe 16882: 2 cup of broccoli nutrition facts: {'fat': 0.68, 'nrg': 62.0, 'pro': 5.14, 'sat': 0.07, 'sod': 60.0, 'sug': 3.1}\n",
      "Recipe 17201: 1 pound of broccoli nutrition facts: {'fat': 1.6782904, 'nrg': 154.22128, 'pro': 12.7912944, 'sat': 0.17690087999999998, 'sod': 149.68536, 'sug': 7.711064}\n",
      "Recipe 17415: 4 cup of broccoli nutrition facts: {'fat': 1.36, 'nrg': 124.0, 'pro': 10.28, 'sat': 0.14, 'sod': 120.0, 'sug': 6.2}\n",
      "Recipe 17467: 1 1/2 cup of broccoli nutrition facts: {'fat': 0.51, 'nrg': 46.5, 'pro': 3.8549999999999995, 'sat': 0.052500000000000005, 'sod': 45.0, 'sug': 2.325}\n",
      "Recipe 17662: 4 cup of broccoli nutrition facts: {'fat': 1.36, 'nrg': 124.0, 'pro': 10.28, 'sat': 0.14, 'sod': 120.0, 'sug': 6.2}\n",
      "Recipe 17747: 2 cup of broccoli nutrition facts: {'fat': 0.68, 'nrg': 62.0, 'pro': 5.14, 'sat': 0.07, 'sod': 60.0, 'sug': 3.1}\n",
      "Recipe 17927: 1 1/4 pound of broccoli nutrition facts: {'fat': 2.0978630000000003, 'nrg': 192.77660000000003, 'pro': 15.989118, 'sat': 0.2211261, 'sod': 187.10670000000002, 'sug': 9.63883}\n",
      "Recipe 18162: 4 cup of broccoli nutrition facts: {'fat': 1.36, 'nrg': 124.0, 'pro': 10.28, 'sat': 0.14, 'sod': 120.0, 'sug': 6.2}\n",
      "Recipe 18390: 3 cup of broccoli nutrition facts: {'fat': 1.02, 'nrg': 93.0, 'pro': 7.709999999999999, 'sat': 0.10500000000000001, 'sod': 90.0, 'sug': 4.65}\n",
      "Recipe 18493: 3 cup of broccoli nutrition facts: {'fat': 1.02, 'nrg': 93.0, 'pro': 7.709999999999999, 'sat': 0.10500000000000001, 'sod': 90.0, 'sug': 4.65}\n",
      "Recipe 18530: 1 cup of broccoli nutrition facts: {'fat': 0.34, 'nrg': 31.0, 'pro': 2.57, 'sat': 0.035, 'sod': 30.0, 'sug': 1.55}\n",
      "Recipe 18851: 3 cup of broccoli nutrition facts: {'fat': 1.02, 'nrg': 93.0, 'pro': 7.709999999999999, 'sat': 0.10500000000000001, 'sod': 90.0, 'sug': 4.65}\n",
      "Recipe 18902: 4 cup of broccoli nutrition facts: {'fat': 1.36, 'nrg': 124.0, 'pro': 10.28, 'sat': 0.14, 'sod': 120.0, 'sug': 6.2}\n",
      "Recipe 18954: 1 cup of broccoli nutrition facts: {'fat': 0.34, 'nrg': 31.0, 'pro': 2.57, 'sat': 0.035, 'sod': 30.0, 'sug': 1.55}\n",
      "Recipe 19025: 2 1/2 pound of broccoli nutrition facts: {'fat': 4.1957260000000005, 'nrg': 385.55320000000006, 'pro': 31.978236, 'sat': 0.4422522, 'sod': 374.21340000000004, 'sug': 19.27766}\n",
      "Recipe 19277: 20 ounce of broccoli nutrition facts: {'fat': 2.0978630000000003, 'nrg': 192.77660000000003, 'pro': 15.989118, 'sat': 0.2211261, 'sod': 187.10670000000002, 'sug': 9.63883}\n",
      "Recipe 19307: 4 cup of broccoli nutrition facts: {'fat': 1.36, 'nrg': 124.0, 'pro': 10.28, 'sat': 0.14, 'sod': 120.0, 'sug': 6.2}\n",
      "Recipe 19363: 2 cup of broccoli nutrition facts: {'fat': 0.68, 'nrg': 62.0, 'pro': 5.14, 'sat': 0.07, 'sod': 60.0, 'sug': 3.1}\n",
      "Recipe 19453: 1 cup of broccoli nutrition facts: {'fat': 0.34, 'nrg': 31.0, 'pro': 2.57, 'sat': 0.035, 'sod': 30.0, 'sug': 1.55}\n",
      "Recipe 19544: 16 ounce of broccoli nutrition facts: {'fat': 1.6782904, 'nrg': 154.22128, 'pro': 12.7912944, 'sat': 0.17690087999999998, 'sod': 149.68536, 'sug': 7.711064}\n",
      "Recipe 19608: 4 cup of broccoli nutrition facts: {'fat': 1.36, 'nrg': 124.0, 'pro': 10.28, 'sat': 0.14, 'sod': 120.0, 'sug': 6.2}\n",
      "Recipe 20167: 2 cup of broccoli nutrition facts: {'fat': 0.68, 'nrg': 62.0, 'pro': 5.14, 'sat': 0.07, 'sod': 60.0, 'sug': 3.1}\n",
      "Recipe 20215: 7 cup of broccoli nutrition facts: {'fat': 2.3800000000000003, 'nrg': 217.0, 'pro': 17.99, 'sat': 0.24500000000000002, 'sod': 210.0, 'sug': 10.85}\n",
      "Recipe 20263: 2 cup of broccoli nutrition facts: {'fat': 0.68, 'nrg': 62.0, 'pro': 5.14, 'sat': 0.07, 'sod': 60.0, 'sug': 3.1}\n",
      "Recipe 20303: 3 cup of broccoli nutrition facts: {'fat': 1.02, 'nrg': 93.0, 'pro': 7.709999999999999, 'sat': 0.10500000000000001, 'sod': 90.0, 'sug': 4.65}\n",
      "Recipe 20392: 1 cup of broccoli nutrition facts: {'fat': 0.34, 'nrg': 31.0, 'pro': 2.57, 'sat': 0.035, 'sod': 30.0, 'sug': 1.55}\n",
      "Recipe 20483: 1 pound of broccoli nutrition facts: {'fat': 1.6782904, 'nrg': 154.22128, 'pro': 12.7912944, 'sat': 0.17690087999999998, 'sod': 149.68536, 'sug': 7.711064}\n",
      "Recipe 20607: 2 cup of broccoli nutrition facts: {'fat': 0.68, 'nrg': 62.0, 'pro': 5.14, 'sat': 0.07, 'sod': 60.0, 'sug': 3.1}\n",
      "Recipe 20655: 700 g of broccoli nutrition facts: {'fat': 2.5900000000000003, 'nrg': 238.00000000000003, 'pro': 19.74, 'sat': 0.273, 'sod': 231.0, 'sug': 11.9}\n",
      "Recipe 20670: 2 cup of broccoli nutrition facts: {'fat': 0.68, 'nrg': 62.0, 'pro': 5.14, 'sat': 0.07, 'sod': 60.0, 'sug': 3.1}\n",
      "Recipe 20679: 4 cup of broccoli nutrition facts: {'fat': 1.36, 'nrg': 124.0, 'pro': 10.28, 'sat': 0.14, 'sod': 120.0, 'sug': 6.2}\n",
      "Recipe 20720: 1 cup of broccoli nutrition facts: {'fat': 0.34, 'nrg': 31.0, 'pro': 2.57, 'sat': 0.035, 'sod': 30.0, 'sug': 1.55}\n",
      "Recipe 21135: 1/2 pound of broccoli nutrition facts: {'fat': 0.8391452, 'nrg': 77.11064, 'pro': 6.3956472, 'sat': 0.08845043999999999, 'sod': 74.84268, 'sug': 3.855532}\n"
     ]
    },
    {
     "name": "stdout",
     "output_type": "stream",
     "text": [
      "Recipe 21215: 5 cup of broccoli nutrition facts: {'fat': 1.7000000000000002, 'nrg': 155.0, 'pro': 12.85, 'sat': 0.17500000000000002, 'sod': 150.0, 'sug': 7.75}\n",
      "Recipe 21527: 2 cup of broccoli nutrition facts: {'fat': 0.68, 'nrg': 62.0, 'pro': 5.14, 'sat': 0.07, 'sod': 60.0, 'sug': 3.1}\n",
      "Recipe 21643: 16 ounce of broccoli nutrition facts: {'fat': 1.6782904, 'nrg': 154.22128, 'pro': 12.7912944, 'sat': 0.17690087999999998, 'sod': 149.68536, 'sug': 7.711064}\n",
      "Recipe 21669: 1 1/2 pound of broccoli nutrition facts: {'fat': 2.5174355999999998, 'nrg': 231.33192, 'pro': 19.186941599999997, 'sat': 0.26535131999999995, 'sod': 224.52803999999998, 'sug': 11.566595999999999}\n",
      "Recipe 21723: 1 1/2 pound of broccoli nutrition facts: {'fat': 2.5174355999999998, 'nrg': 231.33192, 'pro': 19.186941599999997, 'sat': 0.26535131999999995, 'sod': 224.52803999999998, 'sug': 11.566595999999999}\n",
      "Recipe 21817: 3/4 pound of broccoli nutrition facts: {'fat': 1.2587177999999999, 'nrg': 115.66596, 'pro': 9.593470799999999, 'sat': 0.13267565999999997, 'sod': 112.26401999999999, 'sug': 5.783297999999999}\n",
      "Recipe 21822: 12 ounce of broccoli nutrition facts: {'fat': 1.2587177999999999, 'nrg': 115.66596, 'pro': 9.593470799999999, 'sat': 0.13267565999999997, 'sod': 112.26401999999999, 'sug': 5.783297999999999}\n",
      "Recipe 21941: 4 cup of broccoli nutrition facts: {'fat': 1.36, 'nrg': 124.0, 'pro': 10.28, 'sat': 0.14, 'sod': 120.0, 'sug': 6.2}\n",
      "Recipe 21976: 2 cup of broccoli nutrition facts: {'fat': 0.68, 'nrg': 62.0, 'pro': 5.14, 'sat': 0.07, 'sod': 60.0, 'sug': 3.1}\n",
      "Recipe 22068: 4 cup of broccoli nutrition facts: {'fat': 1.36, 'nrg': 124.0, 'pro': 10.28, 'sat': 0.14, 'sod': 120.0, 'sug': 6.2}\n",
      "Recipe 22094: 3 cup of broccoli nutrition facts: {'fat': 1.02, 'nrg': 93.0, 'pro': 7.709999999999999, 'sat': 0.10500000000000001, 'sod': 90.0, 'sug': 4.65}\n",
      "Recipe 22181: 500 g of broccoli nutrition facts: {'fat': 1.85, 'nrg': 170.0, 'pro': 14.1, 'sat': 0.195, 'sod': 165.0, 'sug': 8.5}\n",
      "Recipe 22372: 1 cup of broccoli nutrition facts: {'fat': 0.34, 'nrg': 31.0, 'pro': 2.57, 'sat': 0.035, 'sod': 30.0, 'sug': 1.55}\n",
      "Recipe 22373: 10 ounce of broccoli nutrition facts: {'fat': 1.0489315000000001, 'nrg': 96.38830000000002, 'pro': 7.994559, 'sat': 0.11056305, 'sod': 93.55335000000001, 'sug': 4.819415}\n",
      "Recipe 22745: 3 cup of broccoli nutrition facts: {'fat': 1.02, 'nrg': 93.0, 'pro': 7.709999999999999, 'sat': 0.10500000000000001, 'sod': 90.0, 'sug': 4.65}\n",
      "Recipe 22956: 3 cup of broccoli nutrition facts: {'fat': 1.02, 'nrg': 93.0, 'pro': 7.709999999999999, 'sat': 0.10500000000000001, 'sod': 90.0, 'sug': 4.65}\n",
      "Recipe 23085: 12 cup of broccoli nutrition facts: {'fat': 4.08, 'nrg': 372.0, 'pro': 30.839999999999996, 'sat': 0.42000000000000004, 'sod': 360.0, 'sug': 18.6}\n",
      "Recipe 23108: 1 1/2 cup of broccoli nutrition facts: {'fat': 0.51, 'nrg': 46.5, 'pro': 3.8549999999999995, 'sat': 0.052500000000000005, 'sod': 45.0, 'sug': 2.325}\n",
      "Recipe 23154: 2 1/2 cup of broccoli nutrition facts: {'fat': 0.8500000000000001, 'nrg': 77.5, 'pro': 6.425, 'sat': 0.08750000000000001, 'sod': 75.0, 'sug': 3.875}\n",
      "Recipe 23226: 4 1/2 cup of broccoli nutrition facts: {'fat': 1.53, 'nrg': 139.5, 'pro': 11.565, 'sat': 0.15750000000000003, 'sod': 135.0, 'sug': 6.9750000000000005}\n",
      "Recipe 23271: 4 cup of broccoli nutrition facts: {'fat': 1.36, 'nrg': 124.0, 'pro': 10.28, 'sat': 0.14, 'sod': 120.0, 'sug': 6.2}\n",
      "Recipe 23479: 1 cup of broccoli nutrition facts: {'fat': 0.34, 'nrg': 31.0, 'pro': 2.57, 'sat': 0.035, 'sod': 30.0, 'sug': 1.55}\n",
      "Recipe 23667: 1 1/4 pound of broccoli nutrition facts: {'fat': 2.0978630000000003, 'nrg': 192.77660000000003, 'pro': 15.989118, 'sat': 0.2211261, 'sod': 187.10670000000002, 'sug': 9.63883}\n",
      "Recipe 23830: 4 cup of broccoli nutrition facts: {'fat': 1.36, 'nrg': 124.0, 'pro': 10.28, 'sat': 0.14, 'sod': 120.0, 'sug': 6.2}\n",
      "Recipe 23913: 4 cup of broccoli nutrition facts: {'fat': 1.36, 'nrg': 124.0, 'pro': 10.28, 'sat': 0.14, 'sod': 120.0, 'sug': 6.2}\n",
      "Recipe 23924: 3/4 cup of broccoli nutrition facts: {'fat': 0.255, 'nrg': 23.25, 'pro': 1.9275, 'sat': 0.026250000000000006, 'sod': 22.5, 'sug': 1.1625}\n",
      "Recipe 24004: 1 pound of broccoli nutrition facts: {'fat': 1.6782904, 'nrg': 154.22128, 'pro': 12.7912944, 'sat': 0.17690087999999998, 'sod': 149.68536, 'sug': 7.711064}\n",
      "Recipe 24124: 4 cup of broccoli nutrition facts: {'fat': 1.36, 'nrg': 124.0, 'pro': 10.28, 'sat': 0.14, 'sod': 120.0, 'sug': 6.2}\n",
      "Recipe 24148: 1 pound of broccoli nutrition facts: {'fat': 1.6782904, 'nrg': 154.22128, 'pro': 12.7912944, 'sat': 0.17690087999999998, 'sod': 149.68536, 'sug': 7.711064}\n",
      "Recipe 24166: 16 ounce of broccoli nutrition facts: {'fat': 1.6782904, 'nrg': 154.22128, 'pro': 12.7912944, 'sat': 0.17690087999999998, 'sod': 149.68536, 'sug': 7.711064}\n",
      "Recipe 24373: 2 cup of broccoli nutrition facts: {'fat': 0.68, 'nrg': 62.0, 'pro': 5.14, 'sat': 0.07, 'sod': 60.0, 'sug': 3.1}\n",
      "Recipe 24495: 2 1/2 pound of broccoli nutrition facts: {'fat': 4.1957260000000005, 'nrg': 385.55320000000006, 'pro': 31.978236, 'sat': 0.4422522, 'sod': 374.21340000000004, 'sug': 19.27766}\n",
      "Recipe 24705: 12 ounce of broccoli nutrition facts: {'fat': 1.2587177999999999, 'nrg': 115.66596, 'pro': 9.593470799999999, 'sat': 0.13267565999999997, 'sod': 112.26401999999999, 'sug': 5.783297999999999}\n",
      "Recipe 24718: 12 ounce of broccoli nutrition facts: {'fat': 1.2587177999999999, 'nrg': 115.66596, 'pro': 9.593470799999999, 'sat': 0.13267565999999997, 'sod': 112.26401999999999, 'sug': 5.783297999999999}\n",
      "Recipe 24965: 12 pound of broccoli nutrition facts: {'fat': 20.139484799999998, 'nrg': 1850.65536, 'pro': 153.49553279999998, 'sat': 2.1228105599999996, 'sod': 1796.2243199999998, 'sug': 92.53276799999999}\n",
      "Recipe 25137: 20 g of broccoli nutrition facts: {'fat': 0.07400000000000001, 'nrg': 6.800000000000001, 'pro': 0.564, 'sat': 0.0078, 'sod': 6.6000000000000005, 'sug': 0.34}\n",
      "Recipe 25157: 2 1/2 pound of broccoli nutrition facts: {'fat': 4.1957260000000005, 'nrg': 385.55320000000006, 'pro': 31.978236, 'sat': 0.4422522, 'sod': 374.21340000000004, 'sug': 19.27766}\n",
      "Recipe 25349: 1 1/2 cup of broccoli nutrition facts: {'fat': 0.51, 'nrg': 46.5, 'pro': 3.8549999999999995, 'sat': 0.052500000000000005, 'sod': 45.0, 'sug': 2.325}\n",
      "Recipe 25469: 1/2 cup of broccoli nutrition facts: {'fat': 0.17, 'nrg': 15.5, 'pro': 1.285, 'sat': 0.0175, 'sod': 15.0, 'sug': 0.775}\n",
      "Recipe 25868: 2 cup of broccoli nutrition facts: {'fat': 0.68, 'nrg': 62.0, 'pro': 5.14, 'sat': 0.07, 'sod': 60.0, 'sug': 3.1}\n",
      "Recipe 25926: 1 pound of broccoli nutrition facts: {'fat': 1.6782904, 'nrg': 154.22128, 'pro': 12.7912944, 'sat': 0.17690087999999998, 'sod': 149.68536, 'sug': 7.711064}\n",
      "Recipe 25946: 300 g of broccoli nutrition facts: {'fat': 1.11, 'nrg': 102.00000000000001, 'pro': 8.459999999999999, 'sat': 0.11699999999999999, 'sod': 99.0, 'sug': 5.1000000000000005}\n",
      "Recipe 25953: 5 cup of broccoli nutrition facts: {'fat': 1.7000000000000002, 'nrg': 155.0, 'pro': 12.85, 'sat': 0.17500000000000002, 'sod': 150.0, 'sug': 7.75}\n",
      "Recipe 25989: 6 cup of broccoli nutrition facts: {'fat': 2.04, 'nrg': 186.0, 'pro': 15.419999999999998, 'sat': 0.21000000000000002, 'sod': 180.0, 'sug': 9.3}\n",
      "Recipe 25995: 2 cup of broccoli nutrition facts: {'fat': 0.68, 'nrg': 62.0, 'pro': 5.14, 'sat': 0.07, 'sod': 60.0, 'sug': 3.1}\n",
      "Recipe 26180: 2 pound of broccoli nutrition facts: {'fat': 3.3565808, 'nrg': 308.44256, 'pro': 25.5825888, 'sat': 0.35380175999999997, 'sod': 299.37072, 'sug': 15.422128}\n",
      "Recipe 26390: 2 cup of broccoli nutrition facts: {'fat': 0.68, 'nrg': 62.0, 'pro': 5.14, 'sat': 0.07, 'sod': 60.0, 'sug': 3.1}\n",
      "Recipe 26413: 1 pound of broccoli nutrition facts: {'fat': 1.6782904, 'nrg': 154.22128, 'pro': 12.7912944, 'sat': 0.17690087999999998, 'sod': 149.68536, 'sug': 7.711064}\n",
      "Recipe 26522: 1 pound of broccoli nutrition facts: {'fat': 1.6782904, 'nrg': 154.22128, 'pro': 12.7912944, 'sat': 0.17690087999999998, 'sod': 149.68536, 'sug': 7.711064}\n",
      "Recipe 26586: 1 pound of broccoli nutrition facts: {'fat': 1.6782904, 'nrg': 154.22128, 'pro': 12.7912944, 'sat': 0.17690087999999998, 'sod': 149.68536, 'sug': 7.711064}\n",
      "Recipe 26740: 1 1/2 pound of broccoli nutrition facts: {'fat': 2.5174355999999998, 'nrg': 231.33192, 'pro': 19.186941599999997, 'sat': 0.26535131999999995, 'sod': 224.52803999999998, 'sug': 11.566595999999999}\n",
      "Recipe 26740: 10 ounce of broccoli nutrition facts: {'fat': 1.0489315000000001, 'nrg': 96.38830000000002, 'pro': 7.994559, 'sat': 0.11056305, 'sod': 93.55335000000001, 'sug': 4.819415}\n",
      "Recipe 26970: 1/2 cup of broccoli nutrition facts: {'fat': 0.16999999999999998, 'nrg': 15.5, 'pro': 1.2849999999999997, 'sat': 0.0175, 'sod': 15.0, 'sug': 0.775}\n",
      "Recipe 26991: 1 pound of broccoli nutrition facts: {'fat': 1.6782904, 'nrg': 154.22128, 'pro': 12.7912944, 'sat': 0.17690087999999998, 'sod': 149.68536, 'sug': 7.711064}\n",
      "Recipe 27017: 1 1/2 pound of broccoli nutrition facts: {'fat': 2.5174355999999998, 'nrg': 231.33192, 'pro': 19.186941599999997, 'sat': 0.26535131999999995, 'sod': 224.52803999999998, 'sug': 11.566595999999999}\n",
      "Recipe 27301: 4 quart of broccoli nutrition facts: {'fat': 5.44, 'nrg': 496.0, 'pro': 41.12, 'sat': 0.56, 'sod': 480.0, 'sug': 24.8}\n",
      "Recipe 27350: 2 cup of broccoli nutrition facts: {'fat': 0.68, 'nrg': 62.0, 'pro': 5.14, 'sat': 0.07, 'sod': 60.0, 'sug': 3.1}\n",
      "Recipe 27351: 4 cup of broccoli nutrition facts: {'fat': 1.36, 'nrg': 124.0, 'pro': 10.28, 'sat': 0.14, 'sod': 120.0, 'sug': 6.2}\n",
      "Recipe 27426: 2 cup of broccoli nutrition facts: {'fat': 0.68, 'nrg': 62.0, 'pro': 5.14, 'sat': 0.07, 'sod': 60.0, 'sug': 3.1}\n",
      "Recipe 27467: 12 cup of broccoli nutrition facts: {'fat': 4.08, 'nrg': 372.0, 'pro': 30.839999999999996, 'sat': 0.42000000000000004, 'sod': 360.0, 'sug': 18.6}\n",
      "Recipe 27597: 1 cup of broccoli nutrition facts: {'fat': 0.34, 'nrg': 31.0, 'pro': 2.57, 'sat': 0.035, 'sod': 30.0, 'sug': 1.55}\n",
      "Recipe 27853: 1 1/2 cup of broccoli nutrition facts: {'fat': 0.51, 'nrg': 46.5, 'pro': 3.8549999999999995, 'sat': 0.052500000000000005, 'sod': 45.0, 'sug': 2.325}\n"
     ]
    },
    {
     "name": "stdout",
     "output_type": "stream",
     "text": [
      "Recipe 27958: 1 1/2 pound of broccoli nutrition facts: {'fat': 2.5174355999999998, 'nrg': 231.33192, 'pro': 19.186941599999997, 'sat': 0.26535131999999995, 'sod': 224.52803999999998, 'sug': 11.566595999999999}\n",
      "Recipe 28238: 4 cup of broccoli nutrition facts: {'fat': 1.36, 'nrg': 124.0, 'pro': 10.28, 'sat': 0.14, 'sod': 120.0, 'sug': 6.2}\n",
      "Recipe 28557: 4 cup of broccoli nutrition facts: {'fat': 1.36, 'nrg': 124.0, 'pro': 10.28, 'sat': 0.14, 'sod': 120.0, 'sug': 6.2}\n",
      "Recipe 28561: 2 cup of broccoli nutrition facts: {'fat': 0.68, 'nrg': 62.0, 'pro': 5.14, 'sat': 0.07, 'sod': 60.0, 'sug': 3.1}\n",
      "Recipe 28698: 2 cup of broccoli nutrition facts: {'fat': 0.68, 'nrg': 62.0, 'pro': 5.14, 'sat': 0.07, 'sod': 60.0, 'sug': 3.1}\n",
      "Recipe 28846: 1/4 cup of broccoli nutrition facts: {'fat': 0.085, 'nrg': 7.75, 'pro': 0.6425, 'sat': 0.00875, 'sod': 7.5, 'sug': 0.38749999999999996}\n",
      "Recipe 29028: 2 cup of broccoli nutrition facts: {'fat': 0.68, 'nrg': 62.0, 'pro': 5.14, 'sat': 0.07, 'sod': 60.0, 'sug': 3.1}\n",
      "Recipe 29144: 2 cup of broccoli nutrition facts: {'fat': 0.68, 'nrg': 62.0, 'pro': 5.14, 'sat': 0.07, 'sod': 60.0, 'sug': 3.1}\n",
      "Recipe 29415: 1 1/2 pound of broccoli nutrition facts: {'fat': 2.5174355999999998, 'nrg': 231.33192, 'pro': 19.186941599999997, 'sat': 0.26535131999999995, 'sod': 224.52803999999998, 'sug': 11.566595999999999}\n",
      "Recipe 29442: 16 ounce of broccoli nutrition facts: {'fat': 1.6782904, 'nrg': 154.22128, 'pro': 12.7912944, 'sat': 0.17690087999999998, 'sod': 149.68536, 'sug': 7.711064}\n",
      "Recipe 29452: 4 cup of broccoli nutrition facts: {'fat': 1.36, 'nrg': 124.0, 'pro': 10.28, 'sat': 0.14, 'sod': 120.0, 'sug': 6.2}\n",
      "Recipe 29458: 1 cup of broccoli nutrition facts: {'fat': 0.34, 'nrg': 31.0, 'pro': 2.57, 'sat': 0.035, 'sod': 30.0, 'sug': 1.55}\n",
      "Recipe 29581: 3 cup of broccoli nutrition facts: {'fat': 1.02, 'nrg': 93.0, 'pro': 7.709999999999999, 'sat': 0.10500000000000001, 'sod': 90.0, 'sug': 4.65}\n",
      "Recipe 29627: 4 cup of broccoli nutrition facts: {'fat': 1.36, 'nrg': 124.0, 'pro': 10.28, 'sat': 0.14, 'sod': 120.0, 'sug': 6.2}\n",
      "Recipe 29747: 1 pound of broccoli nutrition facts: {'fat': 1.6782904, 'nrg': 154.22128, 'pro': 12.7912944, 'sat': 0.17690087999999998, 'sod': 149.68536, 'sug': 7.711064}\n",
      "Recipe 29758: 2 cup of broccoli nutrition facts: {'fat': 0.68, 'nrg': 62.0, 'pro': 5.14, 'sat': 0.07, 'sod': 60.0, 'sug': 3.1}\n",
      "Recipe 29861: 1 pound of broccoli nutrition facts: {'fat': 1.6782904, 'nrg': 154.22128, 'pro': 12.7912944, 'sat': 0.17690087999999998, 'sod': 149.68536, 'sug': 7.711064}\n",
      "Recipe 29889: 20 pound of broccoli nutrition facts: {'fat': 33.565808000000004, 'nrg': 3084.4256000000005, 'pro': 255.825888, 'sat': 3.5380176, 'sod': 2993.7072000000003, 'sug': 154.22128}\n",
      "Recipe 29910: 2 cup of broccoli nutrition facts: {'fat': 0.68, 'nrg': 62.0, 'pro': 5.14, 'sat': 0.07, 'sod': 60.0, 'sug': 3.1}\n",
      "Recipe 29911: 1/2 cup of broccoli nutrition facts: {'fat': 0.16999999999999998, 'nrg': 15.5, 'pro': 1.2849999999999997, 'sat': 0.0175, 'sod': 15.0, 'sug': 0.775}\n",
      "Recipe 29944: 4 cup of broccoli nutrition facts: {'fat': 1.36, 'nrg': 124.0, 'pro': 10.28, 'sat': 0.14, 'sod': 120.0, 'sug': 6.2}\n",
      "Recipe 29988: 6 cup of broccoli nutrition facts: {'fat': 2.04, 'nrg': 186.0, 'pro': 15.419999999999998, 'sat': 0.21000000000000002, 'sod': 180.0, 'sug': 9.3}\n",
      "Recipe 30001: 10 ounce of broccoli nutrition facts: {'fat': 1.0489315000000001, 'nrg': 96.38830000000002, 'pro': 7.994559, 'sat': 0.11056305, 'sod': 93.55335000000001, 'sug': 4.819415}\n",
      "Recipe 30092: 4 1/2 cup of broccoli nutrition facts: {'fat': 1.53, 'nrg': 139.5, 'pro': 11.565, 'sat': 0.15750000000000003, 'sod': 135.0, 'sug': 6.9750000000000005}\n",
      "Recipe 30182: 1 1/2 cup of broccoli nutrition facts: {'fat': 0.51, 'nrg': 46.5, 'pro': 3.8549999999999995, 'sat': 0.052500000000000005, 'sod': 45.0, 'sug': 2.325}\n",
      "Recipe 30246: 4 cup of broccoli nutrition facts: {'fat': 1.36, 'nrg': 124.0, 'pro': 10.28, 'sat': 0.14, 'sod': 120.0, 'sug': 6.2}\n",
      "Recipe 30358: 14 cup of broccoli nutrition facts: {'fat': 4.760000000000001, 'nrg': 434.0, 'pro': 35.98, 'sat': 0.49000000000000005, 'sod': 420.0, 'sug': 21.7}\n",
      "Recipe 30393: 4 cup of broccoli nutrition facts: {'fat': 1.36, 'nrg': 124.0, 'pro': 10.28, 'sat': 0.14, 'sod': 120.0, 'sug': 6.2}\n",
      "Recipe 30470: 1/3 cup of broccoli nutrition facts: {'fat': 0.11333333333333333, 'nrg': 10.333333333333332, 'pro': 0.8566666666666666, 'sat': 0.011666666666666669, 'sod': 10.0, 'sug': 0.5166666666666667}\n",
      "Recipe 30663: 6 cup of broccoli nutrition facts: {'fat': 2.04, 'nrg': 186.0, 'pro': 15.419999999999998, 'sat': 0.21000000000000002, 'sod': 180.0, 'sug': 9.3}\n",
      "Recipe 30698: 3 cup of broccoli nutrition facts: {'fat': 1.02, 'nrg': 93.0, 'pro': 7.709999999999999, 'sat': 0.10500000000000001, 'sod': 90.0, 'sug': 4.65}\n",
      "Recipe 30721: 2 cup of broccoli nutrition facts: {'fat': 0.68, 'nrg': 62.0, 'pro': 5.14, 'sat': 0.07, 'sod': 60.0, 'sug': 3.1}\n",
      "Recipe 30755: 2 pound of broccoli nutrition facts: {'fat': 3.3565808, 'nrg': 308.44256, 'pro': 25.5825888, 'sat': 0.35380175999999997, 'sod': 299.37072, 'sug': 15.422128}\n",
      "Recipe 30845: 1 pound of broccoli nutrition facts: {'fat': 1.6782904, 'nrg': 154.22128, 'pro': 12.7912944, 'sat': 0.17690087999999998, 'sod': 149.68536, 'sug': 7.711064}\n",
      "Recipe 30916: 1 1/2 cup of broccoli nutrition facts: {'fat': 0.51, 'nrg': 46.5, 'pro': 3.8549999999999995, 'sat': 0.052500000000000005, 'sod': 45.0, 'sug': 2.325}\n",
      "Recipe 30965: 1 pound of broccoli nutrition facts: {'fat': 1.6782904, 'nrg': 154.22128, 'pro': 12.7912944, 'sat': 0.17690087999999998, 'sod': 149.68536, 'sug': 7.711064}\n",
      "Recipe 30971: 1/2 cup of broccoli nutrition facts: {'fat': 0.17, 'nrg': 15.5, 'pro': 1.285, 'sat': 0.0175, 'sod': 15.0, 'sug': 0.775}\n",
      "Recipe 31091: 4 cup of broccoli nutrition facts: {'fat': 1.36, 'nrg': 124.0, 'pro': 10.28, 'sat': 0.14, 'sod': 120.0, 'sug': 6.2}\n",
      "Recipe 31348: 1 pound of broccoli nutrition facts: {'fat': 1.6782904, 'nrg': 154.22128, 'pro': 12.7912944, 'sat': 0.17690087999999998, 'sod': 149.68536, 'sug': 7.711064}\n",
      "Recipe 31399: 1 1/2 pound of broccoli nutrition facts: {'fat': 2.5174355999999998, 'nrg': 231.33192, 'pro': 19.186941599999997, 'sat': 0.26535131999999995, 'sod': 224.52803999999998, 'sug': 11.566595999999999}\n",
      "Recipe 31438: 2 pound of broccoli nutrition facts: {'fat': 3.3565808, 'nrg': 308.44256, 'pro': 25.5825888, 'sat': 0.35380175999999997, 'sod': 299.37072, 'sug': 15.422128}\n",
      "Recipe 31448: 1 cup of broccoli nutrition facts: {'fat': 0.34, 'nrg': 31.0, 'pro': 2.57, 'sat': 0.035, 'sod': 30.0, 'sug': 1.55}\n",
      "Recipe 31537: 1 cup of broccoli nutrition facts: {'fat': 0.34, 'nrg': 31.0, 'pro': 2.57, 'sat': 0.035, 'sod': 30.0, 'sug': 1.55}\n",
      "Recipe 31827: 2 pound of broccoli nutrition facts: {'fat': 3.3565808, 'nrg': 308.44256, 'pro': 25.5825888, 'sat': 0.35380175999999997, 'sod': 299.37072, 'sug': 15.422128}\n",
      "Recipe 31896: 2 cup of broccoli nutrition facts: {'fat': 0.68, 'nrg': 62.0, 'pro': 5.14, 'sat': 0.07, 'sod': 60.0, 'sug': 3.1}\n",
      "Recipe 31926: 4 cup of broccoli nutrition facts: {'fat': 1.36, 'nrg': 124.0, 'pro': 10.28, 'sat': 0.14, 'sod': 120.0, 'sug': 6.2}\n",
      "Recipe 32048: 1/2 cup of broccoli nutrition facts: {'fat': 0.16999999999999998, 'nrg': 15.5, 'pro': 1.2849999999999997, 'sat': 0.0175, 'sod': 15.0, 'sug': 0.775}\n",
      "Recipe 32101: 2 cup of broccoli nutrition facts: {'fat': 0.68, 'nrg': 62.0, 'pro': 5.14, 'sat': 0.07, 'sod': 60.0, 'sug': 3.1}\n",
      "Recipe 32207: 1 1/2 pound of broccoli nutrition facts: {'fat': 2.5174355999999998, 'nrg': 231.33192, 'pro': 19.186941599999997, 'sat': 0.26535131999999995, 'sod': 224.52803999999998, 'sug': 11.566595999999999}\n",
      "Recipe 32571: 4 cup of broccoli nutrition facts: {'fat': 1.36, 'nrg': 124.0, 'pro': 10.28, 'sat': 0.14, 'sod': 120.0, 'sug': 6.2}\n",
      "Recipe 32813: 1 1/2 pound of broccoli nutrition facts: {'fat': 2.5174355999999998, 'nrg': 231.33192, 'pro': 19.186941599999997, 'sat': 0.26535131999999995, 'sod': 224.52803999999998, 'sug': 11.566595999999999}\n",
      "Recipe 32829: 4 cup of broccoli nutrition facts: {'fat': 1.36, 'nrg': 124.0, 'pro': 10.28, 'sat': 0.14, 'sod': 120.0, 'sug': 6.2}\n",
      "Recipe 32832: 3 cup of broccoli nutrition facts: {'fat': 1.02, 'nrg': 93.0, 'pro': 7.709999999999999, 'sat': 0.10500000000000001, 'sod': 90.0, 'sug': 4.65}\n",
      "Recipe 32889: 10 ounce of broccoli nutrition facts: {'fat': 1.0489315000000001, 'nrg': 96.38830000000002, 'pro': 7.994559, 'sat': 0.11056305, 'sod': 93.55335000000001, 'sug': 4.819415}\n",
      "Recipe 32954: 2 cup of broccoli nutrition facts: {'fat': 0.68, 'nrg': 62.0, 'pro': 5.14, 'sat': 0.07, 'sod': 60.0, 'sug': 3.1}\n"
     ]
    },
    {
     "name": "stdout",
     "output_type": "stream",
     "text": [
      "Recipe 33092: 2 cup of broccoli nutrition facts: {'fat': 0.68, 'nrg': 62.0, 'pro': 5.14, 'sat': 0.07, 'sod': 60.0, 'sug': 3.1}\n",
      "Recipe 33262: 2 pound of broccoli nutrition facts: {'fat': 3.3565808, 'nrg': 308.44256, 'pro': 25.5825888, 'sat': 0.35380175999999997, 'sod': 299.37072, 'sug': 15.422128}\n",
      "Recipe 33296: 4 cup of broccoli nutrition facts: {'fat': 1.36, 'nrg': 124.0, 'pro': 10.28, 'sat': 0.14, 'sod': 120.0, 'sug': 6.2}\n",
      "Recipe 33509: 2 cup of broccoli nutrition facts: {'fat': 0.68, 'nrg': 62.0, 'pro': 5.14, 'sat': 0.07, 'sod': 60.0, 'sug': 3.1}\n",
      "Recipe 33558: 4 cup of broccoli nutrition facts: {'fat': 1.36, 'nrg': 124.0, 'pro': 10.28, 'sat': 0.14, 'sod': 120.0, 'sug': 6.2}\n",
      "Recipe 33635: 2 pound of broccoli nutrition facts: {'fat': 3.3565808, 'nrg': 308.44256, 'pro': 25.5825888, 'sat': 0.35380175999999997, 'sod': 299.37072, 'sug': 15.422128}\n",
      "Recipe 34001: 2 pound of broccoli nutrition facts: {'fat': 3.3565808, 'nrg': 308.44256, 'pro': 25.5825888, 'sat': 0.35380175999999997, 'sod': 299.37072, 'sug': 15.422128}\n",
      "Recipe 34172: 1/2 cup of broccoli nutrition facts: {'fat': 0.17, 'nrg': 15.5, 'pro': 1.285, 'sat': 0.0175, 'sod': 15.0, 'sug': 0.775}\n",
      "Recipe 34208: 2 1/2 pound of broccoli nutrition facts: {'fat': 4.1957260000000005, 'nrg': 385.55320000000006, 'pro': 31.978236, 'sat': 0.4422522, 'sod': 374.21340000000004, 'sug': 19.27766}\n",
      "Recipe 34234: 2 cup of broccoli nutrition facts: {'fat': 0.68, 'nrg': 62.0, 'pro': 5.14, 'sat': 0.07, 'sod': 60.0, 'sug': 3.1}\n",
      "Recipe 34237: 4 cup of broccoli nutrition facts: {'fat': 1.36, 'nrg': 124.0, 'pro': 10.28, 'sat': 0.14, 'sod': 120.0, 'sug': 6.2}\n",
      "Recipe 34239: 1 1/4 pound of broccoli nutrition facts: {'fat': 2.0978630000000003, 'nrg': 192.77660000000003, 'pro': 15.989118, 'sat': 0.2211261, 'sod': 187.10670000000002, 'sug': 9.63883}\n",
      "Recipe 34447: 4 cup of broccoli nutrition facts: {'fat': 1.36, 'nrg': 124.0, 'pro': 10.28, 'sat': 0.14, 'sod': 120.0, 'sug': 6.2}\n",
      "Recipe 34621: 4 cup of broccoli nutrition facts: {'fat': 1.36, 'nrg': 124.0, 'pro': 10.28, 'sat': 0.14, 'sod': 120.0, 'sug': 6.2}\n",
      "Recipe 34915: 2 cup of broccoli nutrition facts: {'fat': 0.68, 'nrg': 62.0, 'pro': 5.14, 'sat': 0.07, 'sod': 60.0, 'sug': 3.1}\n",
      "Recipe 34949: 4 cup of broccoli nutrition facts: {'fat': 1.36, 'nrg': 124.0, 'pro': 10.28, 'sat': 0.14, 'sod': 120.0, 'sug': 6.2}\n",
      "Recipe 35272: 20 ounce of broccoli nutrition facts: {'fat': 2.0978630000000003, 'nrg': 192.77660000000003, 'pro': 15.989118, 'sat': 0.2211261, 'sod': 187.10670000000002, 'sug': 9.63883}\n",
      "Recipe 35382: 2 cup of broccoli nutrition facts: {'fat': 0.68, 'nrg': 62.0, 'pro': 5.14, 'sat': 0.07, 'sod': 60.0, 'sug': 3.1}\n",
      "Recipe 35568: 8 cup of broccoli nutrition facts: {'fat': 2.72, 'nrg': 248.0, 'pro': 20.56, 'sat': 0.28, 'sod': 240.0, 'sug': 12.4}\n",
      "Recipe 35635: 20 ounce of broccoli nutrition facts: {'fat': 2.0978630000000003, 'nrg': 192.77660000000003, 'pro': 15.989118, 'sat': 0.2211261, 'sod': 187.10670000000002, 'sug': 9.63883}\n",
      "Recipe 35768: 4 cup of broccoli nutrition facts: {'fat': 1.36, 'nrg': 124.0, 'pro': 10.28, 'sat': 0.14, 'sod': 120.0, 'sug': 6.2}\n",
      "Recipe 35840: 3 cup of broccoli nutrition facts: {'fat': 1.02, 'nrg': 93.0, 'pro': 7.709999999999999, 'sat': 0.10500000000000001, 'sod': 90.0, 'sug': 4.65}\n",
      "Recipe 35866: 20 ounce of broccoli nutrition facts: {'fat': 2.0978630000000003, 'nrg': 192.77660000000003, 'pro': 15.989118, 'sat': 0.2211261, 'sod': 187.10670000000002, 'sug': 9.63883}\n",
      "Recipe 35875: 1 1/2 pound of broccoli nutrition facts: {'fat': 2.5174355999999998, 'nrg': 231.33192, 'pro': 19.186941599999997, 'sat': 0.26535131999999995, 'sod': 224.52803999999998, 'sug': 11.566595999999999}\n",
      "Recipe 35899: 1 1/2 cup of broccoli nutrition facts: {'fat': 0.51, 'nrg': 46.5, 'pro': 3.8549999999999995, 'sat': 0.052500000000000005, 'sod': 45.0, 'sug': 2.325}\n",
      "Recipe 36260: 5 cup of broccoli nutrition facts: {'fat': 1.7000000000000002, 'nrg': 155.0, 'pro': 12.85, 'sat': 0.17500000000000002, 'sod': 150.0, 'sug': 7.75}\n",
      "Recipe 36391: 4 cup of broccoli nutrition facts: {'fat': 1.36, 'nrg': 124.0, 'pro': 10.28, 'sat': 0.14, 'sod': 120.0, 'sug': 6.2}\n",
      "Recipe 36414: 6 cup of broccoli nutrition facts: {'fat': 2.04, 'nrg': 186.0, 'pro': 15.419999999999998, 'sat': 0.21000000000000002, 'sod': 180.0, 'sug': 9.3}\n",
      "Recipe 36659: 1 cup of broccoli nutrition facts: {'fat': 0.34, 'nrg': 31.0, 'pro': 2.57, 'sat': 0.035, 'sod': 30.0, 'sug': 1.55}\n",
      "Recipe 36772: 1/2 cup of broccoli nutrition facts: {'fat': 0.16999999999999998, 'nrg': 15.5, 'pro': 1.2849999999999997, 'sat': 0.0175, 'sod': 15.0, 'sug': 0.775}\n",
      "Recipe 36917: 8 cup of broccoli nutrition facts: {'fat': 2.72, 'nrg': 248.0, 'pro': 20.56, 'sat': 0.28, 'sod': 240.0, 'sug': 12.4}\n",
      "Recipe 37010: 2 cup of broccoli nutrition facts: {'fat': 0.68, 'nrg': 62.0, 'pro': 5.14, 'sat': 0.07, 'sod': 60.0, 'sug': 3.1}\n",
      "Recipe 37098: 2 cup of broccoli nutrition facts: {'fat': 0.68, 'nrg': 62.0, 'pro': 5.14, 'sat': 0.07, 'sod': 60.0, 'sug': 3.1}\n",
      "Recipe 37189: 3 pound of broccoli nutrition facts: {'fat': 5.0348711999999995, 'nrg': 462.66384, 'pro': 38.373883199999995, 'sat': 0.5307026399999999, 'sod': 449.05607999999995, 'sug': 23.133191999999998}\n",
      "Recipe 37199: 10 ounce of broccoli nutrition facts: {'fat': 1.0489315000000001, 'nrg': 96.38830000000002, 'pro': 7.994559, 'sat': 0.11056305, 'sod': 93.55335000000001, 'sug': 4.819415}\n",
      "Recipe 37235: 1 1/2 pound of broccoli nutrition facts: {'fat': 2.5174355999999998, 'nrg': 231.33192, 'pro': 19.186941599999997, 'sat': 0.26535131999999995, 'sod': 224.52803999999998, 'sug': 11.566595999999999}\n",
      "Recipe 37615: 3 cup of broccoli nutrition facts: {'fat': 1.02, 'nrg': 93.0, 'pro': 7.709999999999999, 'sat': 0.10500000000000001, 'sod': 90.0, 'sug': 4.65}\n",
      "Recipe 37727: 2 cup of broccoli nutrition facts: {'fat': 0.68, 'nrg': 62.0, 'pro': 5.14, 'sat': 0.07, 'sod': 60.0, 'sug': 3.1}\n",
      "Recipe 37758: 16 ounce of broccoli nutrition facts: {'fat': 1.6782904, 'nrg': 154.22128, 'pro': 12.7912944, 'sat': 0.17690087999999998, 'sod': 149.68536, 'sug': 7.711064}\n",
      "Recipe 37795: 12 ounce of broccoli nutrition facts: {'fat': 1.2587177999999999, 'nrg': 115.66596, 'pro': 9.593470799999999, 'sat': 0.13267565999999997, 'sod': 112.26401999999999, 'sug': 5.783297999999999}\n",
      "Recipe 37831: 1 pound of broccoli nutrition facts: {'fat': 1.6782904, 'nrg': 154.22128, 'pro': 12.7912944, 'sat': 0.17690087999999998, 'sod': 149.68536, 'sug': 7.711064}\n",
      "Recipe 37845: 6 cup of broccoli nutrition facts: {'fat': 2.04, 'nrg': 186.0, 'pro': 15.419999999999998, 'sat': 0.21000000000000002, 'sod': 180.0, 'sug': 9.3}\n",
      "Recipe 37950: 1 pound of broccoli nutrition facts: {'fat': 1.6782904, 'nrg': 154.22128, 'pro': 12.7912944, 'sat': 0.17690087999999998, 'sod': 149.68536, 'sug': 7.711064}\n",
      "Recipe 37963: 2 cup of broccoli nutrition facts: {'fat': 0.68, 'nrg': 62.0, 'pro': 5.14, 'sat': 0.07, 'sod': 60.0, 'sug': 3.1}\n",
      "Recipe 37983: 1 pound of broccoli nutrition facts: {'fat': 1.6782904, 'nrg': 154.22128, 'pro': 12.7912944, 'sat': 0.17690087999999998, 'sod': 149.68536, 'sug': 7.711064}\n",
      "Recipe 38547: 4 cup of broccoli nutrition facts: {'fat': 1.36, 'nrg': 124.0, 'pro': 10.28, 'sat': 0.14, 'sod': 120.0, 'sug': 6.2}\n",
      "Recipe 38636: 1 cup of broccoli nutrition facts: {'fat': 0.34, 'nrg': 31.0, 'pro': 2.57, 'sat': 0.035, 'sod': 30.0, 'sug': 1.55}\n",
      "Recipe 38645: 2 cup of broccoli nutrition facts: {'fat': 0.68, 'nrg': 62.0, 'pro': 5.14, 'sat': 0.07, 'sod': 60.0, 'sug': 3.1}\n",
      "Recipe 38651: 2 cup of broccoli nutrition facts: {'fat': 0.68, 'nrg': 62.0, 'pro': 5.14, 'sat': 0.07, 'sod': 60.0, 'sug': 3.1}\n",
      "Recipe 38736: 4 cup of broccoli nutrition facts: {'fat': 1.36, 'nrg': 124.0, 'pro': 10.28, 'sat': 0.14, 'sod': 120.0, 'sug': 6.2}\n",
      "Recipe 38845: 4 cup of broccoli nutrition facts: {'fat': 1.36, 'nrg': 124.0, 'pro': 10.28, 'sat': 0.14, 'sod': 120.0, 'sug': 6.2}\n",
      "Recipe 38979: 10 ounce of broccoli nutrition facts: {'fat': 1.0489315000000001, 'nrg': 96.38830000000002, 'pro': 7.994559, 'sat': 0.11056305, 'sod': 93.55335000000001, 'sug': 4.819415}\n",
      "Recipe 39045: 20 ounce of broccoli nutrition facts: {'fat': 2.0978630000000003, 'nrg': 192.77660000000003, 'pro': 15.989118, 'sat': 0.2211261, 'sod': 187.10670000000002, 'sug': 9.63883}\n",
      "Recipe 39160: 6 cup of broccoli nutrition facts: {'fat': 2.04, 'nrg': 186.0, 'pro': 15.419999999999998, 'sat': 0.21000000000000002, 'sod': 180.0, 'sug': 9.3}\n",
      "Recipe 39213: 12 cup of broccoli nutrition facts: {'fat': 4.08, 'nrg': 372.0, 'pro': 30.839999999999996, 'sat': 0.42000000000000004, 'sod': 360.0, 'sug': 18.6}\n",
      "Recipe 39317: 4 cup of broccoli nutrition facts: {'fat': 1.36, 'nrg': 124.0, 'pro': 10.28, 'sat': 0.14, 'sod': 120.0, 'sug': 6.2}\n",
      "Recipe 39557: 3 cup of broccoli nutrition facts: {'fat': 1.02, 'nrg': 93.0, 'pro': 7.709999999999999, 'sat': 0.10500000000000001, 'sod': 90.0, 'sug': 4.65}\n",
      "Recipe 39728: 3 cup of broccoli nutrition facts: {'fat': 1.02, 'nrg': 93.0, 'pro': 7.709999999999999, 'sat': 0.10500000000000001, 'sod': 90.0, 'sug': 4.65}\n",
      "Recipe 39752: 1 1/4 cup of broccoli nutrition facts: {'fat': 0.42500000000000004, 'nrg': 38.75, 'pro': 3.2125, 'sat': 0.043750000000000004, 'sod': 37.5, 'sug': 1.9375}\n",
      "Recipe 39824: 1 1/4 pound of broccoli nutrition facts: {'fat': 2.0978630000000003, 'nrg': 192.77660000000003, 'pro': 15.989118, 'sat': 0.2211261, 'sod': 187.10670000000002, 'sug': 9.63883}\n",
      "Recipe 40008: 1 cup of broccoli nutrition facts: {'fat': 0.34, 'nrg': 31.0, 'pro': 2.57, 'sat': 0.035, 'sod': 30.0, 'sug': 1.55}\n",
      "Recipe 40046: 2 1/2 pound of broccoli nutrition facts: {'fat': 4.1957260000000005, 'nrg': 385.55320000000006, 'pro': 31.978236, 'sat': 0.4422522, 'sod': 374.21340000000004, 'sug': 19.27766}\n",
      "Recipe 40397: 2 cup of broccoli nutrition facts: {'fat': 0.68, 'nrg': 62.0, 'pro': 5.14, 'sat': 0.07, 'sod': 60.0, 'sug': 3.1}\n",
      "Recipe 40444: 2 pound of broccoli nutrition facts: {'fat': 3.3565808, 'nrg': 308.44256, 'pro': 25.5825888, 'sat': 0.35380175999999997, 'sod': 299.37072, 'sug': 15.422128}\n"
     ]
    },
    {
     "name": "stdout",
     "output_type": "stream",
     "text": [
      "Recipe 40540: 1 pound of broccoli nutrition facts: {'fat': 1.6782904, 'nrg': 154.22128, 'pro': 12.7912944, 'sat': 0.17690087999999998, 'sod': 149.68536, 'sug': 7.711064}\n",
      "Recipe 40720: 3 cup of broccoli nutrition facts: {'fat': 1.02, 'nrg': 93.0, 'pro': 7.709999999999999, 'sat': 0.10500000000000001, 'sod': 90.0, 'sug': 4.65}\n",
      "Recipe 40798: 2 cup of broccoli nutrition facts: {'fat': 0.68, 'nrg': 62.0, 'pro': 5.14, 'sat': 0.07, 'sod': 60.0, 'sug': 3.1}\n",
      "Recipe 41004: 3/4 pound of broccoli nutrition facts: {'fat': 1.2587177999999999, 'nrg': 115.66596, 'pro': 9.593470799999999, 'sat': 0.13267565999999997, 'sod': 112.26401999999999, 'sug': 5.783297999999999}\n",
      "Recipe 41006: 1 pound of broccoli nutrition facts: {'fat': 1.6782904, 'nrg': 154.22128, 'pro': 12.7912944, 'sat': 0.17690087999999998, 'sod': 149.68536, 'sug': 7.711064}\n",
      "Recipe 41013: 1 cup of broccoli nutrition facts: {'fat': 0.34, 'nrg': 31.0, 'pro': 2.57, 'sat': 0.035, 'sod': 30.0, 'sug': 1.55}\n",
      "Recipe 41039: 3/4 cup of broccoli nutrition facts: {'fat': 0.255, 'nrg': 23.25, 'pro': 1.9275, 'sat': 0.026250000000000006, 'sod': 22.5, 'sug': 1.1625}\n",
      "Recipe 41462: 3 cup of broccoli nutrition facts: {'fat': 1.02, 'nrg': 93.0, 'pro': 7.709999999999999, 'sat': 0.10500000000000001, 'sod': 90.0, 'sug': 4.65}\n",
      "Recipe 41630: 2 cup of broccoli nutrition facts: {'fat': 0.68, 'nrg': 62.0, 'pro': 5.14, 'sat': 0.07, 'sod': 60.0, 'sug': 3.1}\n",
      "Recipe 41632: 4 cup of broccoli nutrition facts: {'fat': 1.36, 'nrg': 124.0, 'pro': 10.28, 'sat': 0.14, 'sod': 120.0, 'sug': 6.2}\n",
      "Recipe 41657: 8 cup of broccoli nutrition facts: {'fat': 2.72, 'nrg': 248.0, 'pro': 20.56, 'sat': 0.28, 'sod': 240.0, 'sug': 12.4}\n",
      "Recipe 41662: 1 pound of broccoli nutrition facts: {'fat': 1.6782904, 'nrg': 154.22128, 'pro': 12.7912944, 'sat': 0.17690087999999998, 'sod': 149.68536, 'sug': 7.711064}\n",
      "Recipe 41723: 2 cup of broccoli nutrition facts: {'fat': 0.68, 'nrg': 62.0, 'pro': 5.14, 'sat': 0.07, 'sod': 60.0, 'sug': 3.1}\n",
      "Recipe 41737: 16 ounce of broccoli nutrition facts: {'fat': 1.6782904, 'nrg': 154.22128, 'pro': 12.7912944, 'sat': 0.17690087999999998, 'sod': 149.68536, 'sug': 7.711064}\n",
      "Recipe 41745: 2 quart of broccoli nutrition facts: {'fat': 2.72, 'nrg': 248.0, 'pro': 20.56, 'sat': 0.28, 'sod': 240.0, 'sug': 12.4}\n",
      "Recipe 41802: 1 cup of broccoli nutrition facts: {'fat': 0.34, 'nrg': 31.0, 'pro': 2.57, 'sat': 0.035, 'sod': 30.0, 'sug': 1.55}\n",
      "Recipe 41811: 1 1/2 cup of broccoli nutrition facts: {'fat': 0.51, 'nrg': 46.5, 'pro': 3.8549999999999995, 'sat': 0.052500000000000005, 'sod': 45.0, 'sug': 2.325}\n",
      "Recipe 41856: 1 cup of broccoli nutrition facts: {'fat': 0.34, 'nrg': 31.0, 'pro': 2.57, 'sat': 0.035, 'sod': 30.0, 'sug': 1.55}\n",
      "Recipe 41983: 12 pound of broccoli nutrition facts: {'fat': 20.139484799999998, 'nrg': 1850.65536, 'pro': 153.49553279999998, 'sat': 2.1228105599999996, 'sod': 1796.2243199999998, 'sug': 92.53276799999999}\n",
      "Recipe 42163: 1 cup of broccoli nutrition facts: {'fat': 0.34, 'nrg': 31.0, 'pro': 2.57, 'sat': 0.035, 'sod': 30.0, 'sug': 1.55}\n",
      "Recipe 42247: 1 pound of broccoli nutrition facts: {'fat': 1.6782904, 'nrg': 154.22128, 'pro': 12.7912944, 'sat': 0.17690087999999998, 'sod': 149.68536, 'sug': 7.711064}\n",
      "Recipe 42464: 1/2 cup of broccoli nutrition facts: {'fat': 0.16999999999999998, 'nrg': 15.5, 'pro': 1.2849999999999997, 'sat': 0.0175, 'sod': 15.0, 'sug': 0.775}\n",
      "Recipe 42542: 1 1/2 pound of broccoli nutrition facts: {'fat': 2.5174355999999998, 'nrg': 231.33192, 'pro': 19.186941599999997, 'sat': 0.26535131999999995, 'sod': 224.52803999999998, 'sug': 11.566595999999999}\n",
      "Recipe 42576: 9 cup of broccoli nutrition facts: {'fat': 3.06, 'nrg': 279.0, 'pro': 23.13, 'sat': 0.31500000000000006, 'sod': 270.0, 'sug': 13.950000000000001}\n",
      "Recipe 42900: 3 cup of broccoli nutrition facts: {'fat': 1.02, 'nrg': 93.0, 'pro': 7.709999999999999, 'sat': 0.10500000000000001, 'sod': 90.0, 'sug': 4.65}\n",
      "Recipe 42962: 1 pound of broccoli nutrition facts: {'fat': 1.6782904, 'nrg': 154.22128, 'pro': 12.7912944, 'sat': 0.17690087999999998, 'sod': 149.68536, 'sug': 7.711064}\n",
      "Recipe 43142: 5 cup of broccoli nutrition facts: {'fat': 1.7000000000000002, 'nrg': 155.0, 'pro': 12.85, 'sat': 0.17500000000000002, 'sod': 150.0, 'sug': 7.75}\n",
      "Recipe 43174: 4-5 cup of broccoli nutrition facts: {'fat': 3.06, 'nrg': 279.0, 'pro': 23.13, 'sat': 0.31500000000000006, 'sod': 270.0, 'sug': 13.950000000000001}\n",
      "Recipe 43181: 5 cup of broccoli nutrition facts: {'fat': 1.7000000000000002, 'nrg': 155.0, 'pro': 12.85, 'sat': 0.17500000000000002, 'sod': 150.0, 'sug': 7.75}\n",
      "Recipe 43216: 1 1/2 pound of broccoli nutrition facts: {'fat': 2.5174355999999998, 'nrg': 231.33192, 'pro': 19.186941599999997, 'sat': 0.26535131999999995, 'sod': 224.52803999999998, 'sug': 11.566595999999999}\n",
      "Recipe 43258: 2 cup of broccoli nutrition facts: {'fat': 0.68, 'nrg': 62.0, 'pro': 5.14, 'sat': 0.07, 'sod': 60.0, 'sug': 3.1}\n",
      "Recipe 43385: 2 cup of broccoli nutrition facts: {'fat': 0.68, 'nrg': 62.0, 'pro': 5.14, 'sat': 0.07, 'sod': 60.0, 'sug': 3.1}\n",
      "Recipe 43449: 1 1/2 pound of broccoli nutrition facts: {'fat': 2.5174355999999998, 'nrg': 231.33192, 'pro': 19.186941599999997, 'sat': 0.26535131999999995, 'sod': 224.52803999999998, 'sug': 11.566595999999999}\n",
      "Recipe 43471: 1 1/2 cup of broccoli nutrition facts: {'fat': 0.51, 'nrg': 46.5, 'pro': 3.8549999999999995, 'sat': 0.052500000000000005, 'sod': 45.0, 'sug': 2.325}\n",
      "Recipe 43532: 1/2 cup of broccoli nutrition facts: {'fat': 0.16999999999999998, 'nrg': 15.5, 'pro': 1.2849999999999997, 'sat': 0.0175, 'sod': 15.0, 'sug': 0.775}\n",
      "Recipe 43589: 16 ounce of broccoli nutrition facts: {'fat': 1.6782904, 'nrg': 154.22128, 'pro': 12.7912944, 'sat': 0.17690087999999998, 'sod': 149.68536, 'sug': 7.711064}\n",
      "Recipe 43663: 1 pound of broccoli nutrition facts: {'fat': 1.6782904, 'nrg': 154.22128, 'pro': 12.7912944, 'sat': 0.17690087999999998, 'sod': 149.68536, 'sug': 7.711064}\n",
      "Recipe 43698: 1 cup of broccoli nutrition facts: {'fat': 0.34, 'nrg': 31.0, 'pro': 2.57, 'sat': 0.035, 'sod': 30.0, 'sug': 1.55}\n",
      "Recipe 43699: 3 cup of broccoli nutrition facts: {'fat': 1.02, 'nrg': 93.0, 'pro': 7.709999999999999, 'sat': 0.10500000000000001, 'sod': 90.0, 'sug': 4.65}\n",
      "Recipe 43710: 4 cup of broccoli nutrition facts: {'fat': 1.36, 'nrg': 124.0, 'pro': 10.28, 'sat': 0.14, 'sod': 120.0, 'sug': 6.2}\n",
      "Recipe 43808: 4 cup of broccoli nutrition facts: {'fat': 1.36, 'nrg': 124.0, 'pro': 10.28, 'sat': 0.14, 'sod': 120.0, 'sug': 6.2}\n",
      "Recipe 43828: 2 cup of broccoli nutrition facts: {'fat': 0.68, 'nrg': 62.0, 'pro': 5.14, 'sat': 0.07, 'sod': 60.0, 'sug': 3.1}\n",
      "Recipe 44008: 4 cup of broccoli nutrition facts: {'fat': 1.36, 'nrg': 124.0, 'pro': 10.28, 'sat': 0.14, 'sod': 120.0, 'sug': 6.2}\n",
      "Recipe 44052: 6 cup of broccoli nutrition facts: {'fat': 2.04, 'nrg': 186.0, 'pro': 15.419999999999998, 'sat': 0.21000000000000002, 'sod': 180.0, 'sug': 9.3}\n",
      "Recipe 44098: 16 ounce of broccoli nutrition facts: {'fat': 1.6782904, 'nrg': 154.22128, 'pro': 12.7912944, 'sat': 0.17690087999999998, 'sod': 149.68536, 'sug': 7.711064}\n",
      "Recipe 44138: 5 cup of broccoli nutrition facts: {'fat': 1.7000000000000002, 'nrg': 155.0, 'pro': 12.85, 'sat': 0.17500000000000002, 'sod': 150.0, 'sug': 7.75}\n",
      "Recipe 44309: 1 cup of broccoli nutrition facts: {'fat': 0.34, 'nrg': 31.0, 'pro': 2.57, 'sat': 0.035, 'sod': 30.0, 'sug': 1.55}\n",
      "Recipe 44488: 16 ounce of broccoli nutrition facts: {'fat': 1.6782904, 'nrg': 154.22128, 'pro': 12.7912944, 'sat': 0.17690087999999998, 'sod': 149.68536, 'sug': 7.711064}\n",
      "Recipe 44714: 2 cup of broccoli nutrition facts: {'fat': 0.68, 'nrg': 62.0, 'pro': 5.14, 'sat': 0.07, 'sod': 60.0, 'sug': 3.1}\n",
      "Recipe 44919: 2 cup of broccoli nutrition facts: {'fat': 0.68, 'nrg': 62.0, 'pro': 5.14, 'sat': 0.07, 'sod': 60.0, 'sug': 3.1}\n",
      "Recipe 45031: 12 pound of broccoli nutrition facts: {'fat': 20.139484799999998, 'nrg': 1850.65536, 'pro': 153.49553279999998, 'sat': 2.1228105599999996, 'sod': 1796.2243199999998, 'sug': 92.53276799999999}\n",
      "Recipe 45136: 12 ounce of broccoli nutrition facts: {'fat': 1.2587177999999999, 'nrg': 115.66596, 'pro': 9.593470799999999, 'sat': 0.13267565999999997, 'sod': 112.26401999999999, 'sug': 5.783297999999999}\n",
      "Recipe 45205: 5 pound of broccoli nutrition facts: {'fat': 8.391452000000001, 'nrg': 771.1064000000001, 'pro': 63.956472, 'sat': 0.8845044, 'sod': 748.4268000000001, 'sug': 38.55532}\n",
      "Recipe 45273: 3 cup of broccoli nutrition facts: {'fat': 1.02, 'nrg': 93.0, 'pro': 7.709999999999999, 'sat': 0.10500000000000001, 'sod': 90.0, 'sug': 4.65}\n",
      "Recipe 45360: 20 ounce of broccoli nutrition facts: {'fat': 2.0978630000000003, 'nrg': 192.77660000000003, 'pro': 15.989118, 'sat': 0.2211261, 'sod': 187.10670000000002, 'sug': 9.63883}\n",
      "Recipe 45374: 2 cup of broccoli nutrition facts: {'fat': 0.68, 'nrg': 62.0, 'pro': 5.14, 'sat': 0.07, 'sod': 60.0, 'sug': 3.1}\n",
      "Recipe 45829: 1 pound of broccoli nutrition facts: {'fat': 1.6782904, 'nrg': 154.22128, 'pro': 12.7912944, 'sat': 0.17690087999999998, 'sod': 149.68536, 'sug': 7.711064}\n",
      "Recipe 45904: 8 ounce of broccoli nutrition facts: {'fat': 0.8391452, 'nrg': 77.11064, 'pro': 6.3956472, 'sat': 0.08845043999999999, 'sod': 74.84268, 'sug': 3.855532}\n",
      "Recipe 45931: 1 cup of broccoli nutrition facts: {'fat': 0.34, 'nrg': 31.0, 'pro': 2.57, 'sat': 0.035, 'sod': 30.0, 'sug': 1.55}\n",
      "Recipe 46052: 1/2 pound of broccoli nutrition facts: {'fat': 0.8391452, 'nrg': 77.11064, 'pro': 6.3956472, 'sat': 0.08845043999999999, 'sod': 74.84268, 'sug': 3.855532}\n",
      "Recipe 46099: 6 cup of broccoli nutrition facts: {'fat': 2.04, 'nrg': 186.0, 'pro': 15.419999999999998, 'sat': 0.21000000000000002, 'sod': 180.0, 'sug': 9.3}\n",
      "Recipe 46167: 2 cup of broccoli nutrition facts: {'fat': 0.68, 'nrg': 62.0, 'pro': 5.14, 'sat': 0.07, 'sod': 60.0, 'sug': 3.1}\n",
      "Recipe 46371: 750 g of broccoli nutrition facts: {'fat': 2.775, 'nrg': 255.00000000000003, 'pro': 21.15, 'sat': 0.2925, 'sod': 247.5, 'sug': 12.750000000000002}\n",
      "Recipe 46450: 1/4 cup of broccoli nutrition facts: {'fat': 0.085, 'nrg': 7.75, 'pro': 0.6425, 'sat': 0.00875, 'sod': 7.5, 'sug': 0.3875}\n",
      "Recipe 46535: 1 1/2 pound of broccoli nutrition facts: {'fat': 2.5174355999999998, 'nrg': 231.33192, 'pro': 19.186941599999997, 'sat': 0.26535131999999995, 'sod': 224.52803999999998, 'sug': 11.566595999999999}\n",
      "Recipe 46603: 1 1/2 pound of broccoli nutrition facts: {'fat': 2.5174355999999998, 'nrg': 231.33192, 'pro': 19.186941599999997, 'sat': 0.26535131999999995, 'sod': 224.52803999999998, 'sug': 11.566595999999999}\n",
      "Recipe 46636: 3 cup of broccoli nutrition facts: {'fat': 1.02, 'nrg': 93.0, 'pro': 7.709999999999999, 'sat': 0.10500000000000001, 'sod': 90.0, 'sug': 4.65}\n",
      "Recipe 46671: 1 cup of broccoli nutrition facts: {'fat': 0.34, 'nrg': 31.0, 'pro': 2.57, 'sat': 0.035, 'sod': 30.0, 'sug': 1.55}\n",
      "Recipe 46788: 2 cup of broccoli nutrition facts: {'fat': 0.68, 'nrg': 62.0, 'pro': 5.14, 'sat': 0.07, 'sod': 60.0, 'sug': 3.1}\n",
      "Recipe 47185: 1 pound of broccoli nutrition facts: {'fat': 1.6782904, 'nrg': 154.22128, 'pro': 12.7912944, 'sat': 0.17690087999999998, 'sod': 149.68536, 'sug': 7.711064}\n",
      "Recipe 47368: 3 cup of broccoli nutrition facts: {'fat': 1.02, 'nrg': 93.0, 'pro': 7.709999999999999, 'sat': 0.10500000000000001, 'sod': 90.0, 'sug': 4.65}\n",
      "Recipe 47384: 1/2 cup of broccoli nutrition facts: {'fat': 0.17, 'nrg': 15.5, 'pro': 1.285, 'sat': 0.0175, 'sod': 15.0, 'sug': 0.775}\n",
      "Recipe 47523: 1 1/2 pound of broccoli nutrition facts: {'fat': 2.5174355999999998, 'nrg': 231.33192, 'pro': 19.186941599999997, 'sat': 0.26535131999999995, 'sod': 224.52803999999998, 'sug': 11.566595999999999}\n",
      "Recipe 47614: 1 cup of broccoli nutrition facts: {'fat': 0.34, 'nrg': 31.0, 'pro': 2.57, 'sat': 0.035, 'sod': 30.0, 'sug': 1.55}\n",
      "Recipe 47637: 4 cup of broccoli nutrition facts: {'fat': 1.36, 'nrg': 124.0, 'pro': 10.28, 'sat': 0.14, 'sod': 120.0, 'sug': 6.2}\n",
      "Recipe 47646: 12 ounce of broccoli nutrition facts: {'fat': 1.2587177999999999, 'nrg': 115.66596, 'pro': 9.593470799999999, 'sat': 0.13267565999999997, 'sod': 112.26401999999999, 'sug': 5.783297999999999}\n"
     ]
    },
    {
     "name": "stdout",
     "output_type": "stream",
     "text": [
      "Recipe 47715: 14 pound of broccoli nutrition facts: {'fat': 23.496065599999998, 'nrg': 2159.09792, 'pro': 179.07812159999997, 'sat': 2.4766123199999996, 'sod': 2095.59504, 'sug': 107.954896}\n",
      "Recipe 47890: 1 cup of broccoli nutrition facts: {'fat': 0.34, 'nrg': 31.0, 'pro': 2.57, 'sat': 0.035, 'sod': 30.0, 'sug': 1.55}\n",
      "Recipe 47940: 1 pound of broccoli nutrition facts: {'fat': 1.6782904, 'nrg': 154.22128, 'pro': 12.7912944, 'sat': 0.17690087999999998, 'sod': 149.68536, 'sug': 7.711064}\n",
      "Recipe 47971: 10 ounce of broccoli nutrition facts: {'fat': 1.0489315000000001, 'nrg': 96.38830000000002, 'pro': 7.994559, 'sat': 0.11056305, 'sod': 93.55335000000001, 'sug': 4.819415}\n",
      "Recipe 47975: 2 cup of broccoli nutrition facts: {'fat': 0.68, 'nrg': 62.0, 'pro': 5.14, 'sat': 0.07, 'sod': 60.0, 'sug': 3.1}\n",
      "Recipe 48085: 2 cup of broccoli nutrition facts: {'fat': 0.68, 'nrg': 62.0, 'pro': 5.14, 'sat': 0.07, 'sod': 60.0, 'sug': 3.1}\n",
      "Recipe 48166: 10 ounce of broccoli nutrition facts: {'fat': 1.0489315000000001, 'nrg': 96.38830000000002, 'pro': 7.994559, 'sat': 0.11056305, 'sod': 93.55335000000001, 'sug': 4.819415}\n",
      "Recipe 48215: 1 pound of broccoli nutrition facts: {'fat': 1.6782904, 'nrg': 154.22128, 'pro': 12.7912944, 'sat': 0.17690087999999998, 'sod': 149.68536, 'sug': 7.711064}\n",
      "Recipe 48233: 3 cup of broccoli nutrition facts: {'fat': 1.02, 'nrg': 93.0, 'pro': 7.709999999999999, 'sat': 0.10500000000000001, 'sod': 90.0, 'sug': 4.65}\n",
      "Recipe 48633: 1 1/2 quart of broccoli nutrition facts: {'fat': 2.04, 'nrg': 186.0, 'pro': 15.419999999999998, 'sat': 0.21000000000000002, 'sod': 180.0, 'sug': 9.3}\n",
      "Recipe 48649: 12 pound of broccoli nutrition facts: {'fat': 20.139484799999998, 'nrg': 1850.65536, 'pro': 153.49553279999998, 'sat': 2.1228105599999996, 'sod': 1796.2243199999998, 'sug': 92.53276799999999}\n",
      "Recipe 48650: 4 cup of broccoli nutrition facts: {'fat': 1.36, 'nrg': 124.0, 'pro': 10.28, 'sat': 0.14, 'sod': 120.0, 'sug': 6.2}\n",
      "Recipe 48716: 1 1/2 pound of broccoli nutrition facts: {'fat': 2.5174355999999998, 'nrg': 231.33192, 'pro': 19.186941599999997, 'sat': 0.26535131999999995, 'sod': 224.52803999999998, 'sug': 11.566595999999999}\n",
      "Recipe 48950: 1 1/2 cup of broccoli nutrition facts: {'fat': 0.51, 'nrg': 46.5, 'pro': 3.8549999999999995, 'sat': 0.052500000000000005, 'sod': 45.0, 'sug': 2.325}\n",
      "Recipe 49010: 2 pound of broccoli nutrition facts: {'fat': 3.3565808, 'nrg': 308.44256, 'pro': 25.5825888, 'sat': 0.35380175999999997, 'sod': 299.37072, 'sug': 15.422128}\n",
      "Recipe 49080: 6 cup of broccoli nutrition facts: {'fat': 2.04, 'nrg': 186.0, 'pro': 15.419999999999998, 'sat': 0.21000000000000002, 'sod': 180.0, 'sug': 9.3}\n",
      "Recipe 49126: 4 cup of broccoli nutrition facts: {'fat': 1.36, 'nrg': 124.0, 'pro': 10.28, 'sat': 0.14, 'sod': 120.0, 'sug': 6.2}\n",
      "Recipe 49205: 1 1/2 pound of broccoli nutrition facts: {'fat': 2.5174355999999998, 'nrg': 231.33192, 'pro': 19.186941599999997, 'sat': 0.26535131999999995, 'sod': 224.52803999999998, 'sug': 11.566595999999999}\n",
      "Recipe 49234: 10 ounce of broccoli nutrition facts: {'fat': 1.0489315000000001, 'nrg': 96.38830000000002, 'pro': 7.994559, 'sat': 0.11056305, 'sod': 93.55335000000001, 'sug': 4.819415}\n",
      "Recipe 49475: 4 cup of broccoli nutrition facts: {'fat': 1.36, 'nrg': 124.0, 'pro': 10.28, 'sat': 0.14, 'sod': 120.0, 'sug': 6.2}\n",
      "Recipe 49638: 4 cup of broccoli nutrition facts: {'fat': 1.36, 'nrg': 124.0, 'pro': 10.28, 'sat': 0.14, 'sod': 120.0, 'sug': 6.2}\n",
      "Recipe 49675: 1 1/2 pound of broccoli nutrition facts: {'fat': 2.5174355999999998, 'nrg': 231.33192, 'pro': 19.186941599999997, 'sat': 0.26535131999999995, 'sod': 224.52803999999998, 'sug': 11.566595999999999}\n",
      "Recipe 49985: 1 cup of broccoli nutrition facts: {'fat': 0.34, 'nrg': 31.0, 'pro': 2.57, 'sat': 0.035, 'sod': 30.0, 'sug': 1.55}\n",
      "Recipe 50031: 4 cup of broccoli nutrition facts: {'fat': 1.36, 'nrg': 124.0, 'pro': 10.28, 'sat': 0.14, 'sod': 120.0, 'sug': 6.2}\n",
      "Recipe 50045: 6.0 cup of broccoli nutrition facts: {'fat': 2.04, 'nrg': 186.0, 'pro': 15.419999999999998, 'sat': 0.21000000000000002, 'sod': 180.0, 'sug': 9.3}\n",
      "Recipe 50064: 2 pound of broccoli nutrition facts: {'fat': 3.3565808, 'nrg': 308.44256, 'pro': 25.5825888, 'sat': 0.35380175999999997, 'sod': 299.37072, 'sug': 15.422128}\n",
      "Recipe 50326: 3 cup of broccoli nutrition facts: {'fat': 1.02, 'nrg': 93.0, 'pro': 7.709999999999999, 'sat': 0.10500000000000001, 'sod': 90.0, 'sug': 4.65}\n",
      "Recipe 50329: 2 cup of broccoli nutrition facts: {'fat': 0.68, 'nrg': 62.0, 'pro': 5.14, 'sat': 0.07, 'sod': 60.0, 'sug': 3.1}\n",
      "Recipe 50398: 4 cup of broccoli nutrition facts: {'fat': 1.36, 'nrg': 124.0, 'pro': 10.28, 'sat': 0.14, 'sod': 120.0, 'sug': 6.2}\n",
      "Recipe 50410: 4 cup of broccoli nutrition facts: {'fat': 1.36, 'nrg': 124.0, 'pro': 10.28, 'sat': 0.14, 'sod': 120.0, 'sug': 6.2}\n",
      "Recipe 50576: 2 cup of broccoli nutrition facts: {'fat': 0.68, 'nrg': 62.0, 'pro': 5.14, 'sat': 0.07, 'sod': 60.0, 'sug': 3.1}\n",
      "Recipe 50849: 1 cup of broccoli nutrition facts: {'fat': 0.34, 'nrg': 31.0, 'pro': 2.57, 'sat': 0.035, 'sod': 30.0, 'sug': 1.55}\n",
      "Recipe 50877: 1/2 cup of broccoli nutrition facts: {'fat': 0.16999999999999998, 'nrg': 15.5, 'pro': 1.2849999999999997, 'sat': 0.0175, 'sod': 15.0, 'sug': 0.775}\n",
      "Recipe 50928: 1 cup of broccoli nutrition facts: {'fat': 0.34, 'nrg': 31.0, 'pro': 2.57, 'sat': 0.035, 'sod': 30.0, 'sug': 1.55}\n",
      "Recipe 51039: 1 1/2 pound of broccoli nutrition facts: {'fat': 2.5174355999999998, 'nrg': 231.33192, 'pro': 19.186941599999997, 'sat': 0.26535131999999995, 'sod': 224.52803999999998, 'sug': 11.566595999999999}\n",
      "Recipe 51152: 1 pound of broccoli nutrition facts: {'fat': 1.6782904, 'nrg': 154.22128, 'pro': 12.7912944, 'sat': 0.17690087999999998, 'sod': 149.68536, 'sug': 7.711064}\n"
     ]
    }
   ],
   "source": [
    "length = range(len(df))\n",
    "for i in length:\n",
    "    rec_ingr = df.iloc[i][\"ingredients\"]\n",
    "    for ingredient_ndx in range(len(rec_ingr)):\n",
    "        if rec_ingr[ingredient_ndx]['text'] == 'broccoli, raw':\n",
    "            quantity = df.iloc[i][\"quantity\"][ingredient_ndx]['text']\n",
    "            unit = df.iloc[i][\"unit\"][ingredient_ndx]['text']\n",
    "            nutr = df.iloc[i][\"nutr_per_ingredient\"][ingredient_ndx]\n",
    "            print(\"Recipe {0}: {1} {2} of broccoli nutrition facts: {3}\".format(i,quantity,unit,nutr))"
   ]
  },
  {
   "cell_type": "markdown",
   "metadata": {
    "colab_type": "text",
    "id": "Sgl3m2dvZtxh"
   },
   "source": [
    "We can conclude that there is a bug in the \"nutrients per ingredient\" section, because this is scaled to the quantity of the ingredient but is not consistent across units. For example, 10 oz of broccoli is less than 2 cups but has 34% more fat. Furthermore, some recipes contain erroneous quantities, such as 16 pounds of broccoli. Therefore, we use the USDA Nutrition Information Database to get nutrition statistics for each ingredient."
   ]
  },
  {
   "cell_type": "markdown",
   "metadata": {},
   "source": [
    "### Adjacency Matrix No. 4\n",
    "The features of each ingredient are ten commonly-found nutrients parsed from the USDA database. If the full ingredient in the Recipes 1M+ database does not exist in the USDA database, match only the first word of the ingredient. Then, use an RBF kernel to create an adjacency matrix from the nutrition information."
   ]
  },
  {
   "cell_type": "code",
   "execution_count": 18,
   "metadata": {
    "colab": {
     "base_uri": "https://localhost:8080/",
     "height": 85
    },
    "colab_type": "code",
    "id": "beCMPm2rhk67",
    "outputId": "14f83b40-6d87-46df-fecf-17865005cb6f"
   },
   "outputs": [
    {
     "name": "stdout",
     "output_type": "stream",
     "text": [
      "177450\n",
      "177450\n",
      "1534\n",
      "527\n"
     ]
    }
   ],
   "source": [
    "#Match first two words of unique ingredients to ingredients in USDA database\n",
    "usda_ingr_names = usda[\"SR description\"]\n",
    "#save first two words\n",
    "usda_ingr_first2words = []\n",
    "usda_ingr_firstword = []\n",
    "for ingr in usda_ingr_names:\n",
    "    word_vec = ingr.split(',')\n",
    "    if len(word_vec)>2:\n",
    "        usda_ingr_first2words.append(word_vec[0].lower() + ',' + word_vec[1])\n",
    "    else:\n",
    "        usda_ingr_first2words.append(ingr.lower())\n",
    "    if len(word_vec)>1:\n",
    "        usda_ingr_firstword.append(word_vec[0].lower())\n",
    "    else:\n",
    "        usda_ingr_firstword.append(ingr.lower())\n",
    "usda_ingr_first2words_unique = np.unique(usda_ingr_first2words)\n",
    "usda_ingr_firstword_unique = np.unique(usda_ingr_firstword)\n",
    "print(len(usda_ingr_first2words))\n",
    "print(len(usda_ingr_firstword))\n",
    "print(len(usda_ingr_first2words_unique))\n",
    "print(len(usda_ingr_firstword_unique))"
   ]
  },
  {
   "cell_type": "code",
   "execution_count": 19,
   "metadata": {
    "colab": {},
    "colab_type": "code",
    "id": "d0Ksgw9sm_ia"
   },
   "outputs": [],
   "source": [
    "ingredients_matched = []; #List of all ingredients that are found in both the USDA and Recipes 1M+ datasets\n",
    "ingredients_matched_mask = [];\n",
    "count = 0;\n",
    "for ingr in all_ingredients_full_unique:\n",
    "    vec = ingr.split(',')\n",
    "    if len(vec) > 2:\n",
    "        ingr_name = vec[0] + ',' + vec[1]\n",
    "    else:\n",
    "        ingr_name = ingr\n",
    "    if ingr_name in usda_ingr_first2words_unique:\n",
    "        ingredients_matched.append(ingr)\n",
    "        ingredients_matched_mask.append(True)\n",
    "    else: #match only first word\n",
    "        if vec[0] in usda_ingr_firstword_unique:\n",
    "            ingredients_matched.append(ingr)\n",
    "            ingredients_matched_mask.append(True)\n",
    "        else:\n",
    "            ingredients_matched_mask.append(False)"
   ]
  },
  {
   "cell_type": "code",
   "execution_count": 20,
   "metadata": {
    "colab": {},
    "colab_type": "code",
    "id": "tYjIO9kvTqU7"
   },
   "outputs": [],
   "source": [
    "def getIngredientNutritionInfo(ingredient,stringType):\n",
    "    if stringType == \"firstWord\":\n",
    "        vecToUse = usda_ingr_firstword\n",
    "    else:\n",
    "        vecToUse = usda_ingr_first2words\n",
    "    nutr_info = np.zeros([1,10])\n",
    "    index_of_ingr = vecToUse.index(ingredient)\n",
    "    fragment = usda.iloc[index_of_ingr:index_of_ingr+40]\n",
    "    descriptions = fragment[\"Nutrient description\"].values\n",
    "    values = fragment[\"Nutrient value\"].values\n",
    "    for d in range(len(descriptions)):\n",
    "        desc = descriptions[d]\n",
    "        if (desc == \"Protein\"):\n",
    "            nutr_info[:,0] = values[d]\n",
    "        elif (desc == \"Total Fat\"):\n",
    "            nutr_info[:,1] = values[d]\n",
    "        elif desc == \"Carbohydrate\":\n",
    "            nutr_info[:,2] = values[d]\n",
    "        elif desc == \"Energy\":\n",
    "            nutr_info[:,3] = values[d]\n",
    "        elif desc == \"Calcium\":\n",
    "            nutr_info[:,4] = values[d]\n",
    "        elif desc == \"Iron\":\n",
    "            nutr_info[:,5] = values[d]\n",
    "        elif desc == \"Sugars, total\":\n",
    "            nutr_info[:,6] = values[d]\n",
    "        elif desc == \"Sodium\":\n",
    "            nutr_info[:,7] = values[d]\n",
    "        elif desc == \"Vitamin B-12\":\n",
    "            nutr_info[:,8] = values[d]\n",
    "        elif desc == \"Fiber, total dietary\":\n",
    "            nutr_info[:,9] = values[d]\n",
    "    return nutr_info"
   ]
  },
  {
   "cell_type": "code",
   "execution_count": 21,
   "metadata": {
    "colab": {},
    "colab_type": "code",
    "id": "2T2Ue6-GLN5a"
   },
   "outputs": [],
   "source": [
    "ingredient_nutrition_facts = np.zeros([len(ingredients_matched),10])\n",
    "for i in range(len(ingredients_matched)):\n",
    "    ingr = ingredients_matched[i]\n",
    "    vec = ingr.split(',')\n",
    "    if len(vec) > 2:\n",
    "        ingr_name = vec[0] + ',' + vec[1]\n",
    "    else:\n",
    "        ingr_name = ingr\n",
    "    if ingr_name in usda_ingr_first2words_unique:\n",
    "        nutr = getIngredientNutritionInfo(ingr_name,\"firstTwoWords\")\n",
    "        ingredient_nutrition_facts[i,:] = nutr\n",
    "    else: #match only first word\n",
    "        ingr_name = vec[0]\n",
    "        if ingr_name in usda_ingr_firstword_unique:\n",
    "            nutr = getIngredientNutritionInfo(ingr_name,\"firstWord\")\n",
    "            ingredient_nutrition_facts[i,:] = nutr"
   ]
  },
  {
   "cell_type": "code",
   "execution_count": 22,
   "metadata": {
    "colab": {
     "base_uri": "https://localhost:8080/",
     "height": 282
    },
    "colab_type": "code",
    "id": "dqwGYNqFXdbs",
    "outputId": "4b66305c-4699-49f4-c0cb-e5dc5bdc56ee"
   },
   "outputs": [
    {
     "name": "stdout",
     "output_type": "stream",
     "text": [
      "557.630089343887\n"
     ]
    },
    {
     "data": {
      "image/png": "[encoded data removed]",
      "text/plain": [
       "<Figure size 432x288 with 1 Axes>"
      ]
     },
     "metadata": {
      "needs_background": "light"
     },
     "output_type": "display_data"
    }
   ],
   "source": [
    "distances = pdist(ingredient_nutrition_facts, metric='euclidean')\n",
    "plt.hist(distances)\n",
    "mean_dist = np.median(distances)\n",
    "print(mean_dist)"
   ]
  },
  {
   "cell_type": "code",
   "execution_count": 23,
   "metadata": {
    "colab": {
     "base_uri": "https://localhost:8080/",
     "height": 269
    },
    "colab_type": "code",
    "id": "ssIwtErPgPUu",
    "outputId": "78b2ddef-88ef-4cd3-fac8-652ef54d5d4e"
   },
   "outputs": [
    {
     "data": {
      "image/png": "[encoded data removed]",
      "text/plain": [
       "<Figure size 432x288 with 1 Axes>"
      ]
     },
     "metadata": {
      "needs_background": "light"
     },
     "output_type": "display_data"
    }
   ],
   "source": [
    "sigma_coeff = 0.8\n",
    "sigma = sigma_coeff*mean_dist\n",
    "adjacency = epsilon_similarity_graph(ingredient_nutrition_facts, sigma, epsilon=0.2)\n",
    "plt.spy(adjacency)\n",
    "plt.show()"
   ]
  },
  {
   "cell_type": "code",
   "execution_count": 24,
   "metadata": {
    "colab": {
     "base_uri": "https://localhost:8080/",
     "height": 367
    },
    "colab_type": "code",
    "id": "9T9IaNDYgY1T",
    "outputId": "8f841eb7-2f39-4e1b-c4e3-f66c1f6514cc"
   },
   "outputs": [
    {
     "data": {
      "text/plain": [
       "(array([36607.,     0.,     0.,     0.,  2354.,  2694.,  2780.,  2208.,\n",
       "         2086.,  2996.,  2576.,  2152.,  1960.,  2520.,  3672.,  3996.,\n",
       "         3928.,  5166.,  5888., 14386.]),\n",
       " array([0.  , 0.05, 0.1 , 0.15, 0.2 , 0.25, 0.3 , 0.35, 0.4 , 0.45, 0.5 ,\n",
       "        0.55, 0.6 , 0.65, 0.7 , 0.75, 0.8 , 0.85, 0.9 , 0.95, 1.  ]),\n",
       " <a list of 20 Patch objects>)"
      ]
     },
     "execution_count": 24,
     "metadata": {},
     "output_type": "execute_result"
    },
    {
     "data": {
      "image/png": "[encoded data removed]",
      "text/plain": [
       "<Figure size 432x288 with 1 Axes>"
      ]
     },
     "metadata": {
      "needs_background": "light"
     },
     "output_type": "display_data"
    }
   ],
   "source": [
    "plt.hist(np.ravel(adjacency),bins=20)"
   ]
  },
  {
   "cell_type": "code",
   "execution_count": 25,
   "metadata": {
    "colab": {},
    "colab_type": "code",
    "id": "_kQ9ztVFgoZS"
   },
   "outputs": [],
   "source": [
    "np.save('../data/Ingredient_List_USDA_Nutrition_Info.npy', ingredients_matched)\n",
    "np.save('../data/Adjacency_Matrix_4.npy', adjacency)"
   ]
  },
  {
   "cell_type": "markdown",
   "metadata": {},
   "source": [
    "### Adjacency Matrix No. 5\n",
    "Normalize the nutrition facts to the mean nutrition fact so that some nutrients are not weighted more than others"
   ]
  },
  {
   "cell_type": "code",
   "execution_count": 26,
   "metadata": {
    "colab": {
     "base_uri": "https://localhost:8080/",
     "height": 284
    },
    "colab_type": "code",
    "id": "uzSS-9NZsfrc",
    "outputId": "e6ebacfd-e5f0-463e-dc1d-70830ea16fde"
   },
   "outputs": [
    {
     "name": "stdout",
     "output_type": "stream",
     "text": [
      "6.096383664290723\n"
     ]
    },
    {
     "data": {
      "image/png": "[encoded data removed]",
      "text/plain": [
       "<Figure size 432x288 with 1 Axes>"
      ]
     },
     "metadata": {
      "needs_background": "light"
     },
     "output_type": "display_data"
    }
   ],
   "source": [
    "ingredient_nutrition_facts_normalized = ingredient_nutrition_facts / np.mean(ingredient_nutrition_facts, axis=0)\n",
    "distances = pdist(ingredient_nutrition_facts_normalized, metric='euclidean')\n",
    "plt.hist(distances)\n",
    "mean_dist = np.median(distances)\n",
    "print(mean_dist)"
   ]
  },
  {
   "cell_type": "code",
   "execution_count": 27,
   "metadata": {
    "colab": {
     "base_uri": "https://localhost:8080/",
     "height": 269
    },
    "colab_type": "code",
    "id": "iezpOYEhsti6",
    "outputId": "6646cebe-7e59-4f73-8cff-f1c7af92e181"
   },
   "outputs": [
    {
     "data": {
      "image/png": "[encoded data removed]",
      "text/plain": [
       "<Figure size 432x288 with 1 Axes>"
      ]
     },
     "metadata": {
      "needs_background": "light"
     },
     "output_type": "display_data"
    }
   ],
   "source": [
    "sigma_coeff = 0.8\n",
    "sigma = sigma_coeff*mean_dist\n",
    "adjacency = epsilon_similarity_graph(ingredient_nutrition_facts_normalized, sigma, epsilon=0.2)\n",
    "plt.spy(adjacency)\n",
    "plt.show()"
   ]
  },
  {
   "cell_type": "code",
   "execution_count": 28,
   "metadata": {
    "colab": {},
    "colab_type": "code",
    "id": "SyiDLhi3s0_n"
   },
   "outputs": [],
   "source": [
    "np.save('../data/Adjacency_Matrix_5.npy', adjacency)"
   ]
  },
  {
   "cell_type": "markdown",
   "metadata": {},
   "source": [
    "### Adjacency Matrix No. 6\n",
    "Same as #5 but sparsified for vizualization and community detection purposes"
   ]
  },
  {
   "cell_type": "code",
   "execution_count": 29,
   "metadata": {},
   "outputs": [
    {
     "data": {
      "image/png": "[encoded data removed]",
      "text/plain": [
       "<Figure size 432x288 with 1 Axes>"
      ]
     },
     "metadata": {
      "needs_background": "light"
     },
     "output_type": "display_data"
    }
   ],
   "source": [
    "sigma_coeff = 0.4\n",
    "sigma = sigma_coeff*mean_dist\n",
    "adjacency = epsilon_similarity_graph(ingredient_nutrition_facts_normalized, sigma, epsilon=0.1)\n",
    "plt.spy(adjacency)\n",
    "plt.show()"
   ]
  },
  {
   "cell_type": "code",
   "execution_count": 30,
   "metadata": {},
   "outputs": [
    {
     "data": {
      "text/plain": [
       "(array([57503.,     0.,  3950.,  3142.,  3262.,  2466.,  2500.,  2216.,\n",
       "         1414.,  1138.,  1068.,   984.,  1406.,  1560.,  1196.,  1754.,\n",
       "         2150.,  2618.,  3338.,  4304.]),\n",
       " array([0.  , 0.05, 0.1 , 0.15, 0.2 , 0.25, 0.3 , 0.35, 0.4 , 0.45, 0.5 ,\n",
       "        0.55, 0.6 , 0.65, 0.7 , 0.75, 0.8 , 0.85, 0.9 , 0.95, 1.  ]),\n",
       " <a list of 20 Patch objects>)"
      ]
     },
     "execution_count": 30,
     "metadata": {},
     "output_type": "execute_result"
    },
    {
     "data": {
      "image/png": "[encoded data removed]",
      "text/plain": [
       "<Figure size 432x288 with 1 Axes>"
      ]
     },
     "metadata": {
      "needs_background": "light"
     },
     "output_type": "display_data"
    }
   ],
   "source": [
    "plt.hist(np.ravel(adjacency),bins=20)"
   ]
  },
  {
   "cell_type": "code",
   "execution_count": 31,
   "metadata": {},
   "outputs": [],
   "source": [
    "np.save('../data/Adjacency_Matrix_6.npy', adjacency)"
   ]
  },
  {
   "cell_type": "code",
   "execution_count": 32,
   "metadata": {
    "colab": {},
    "colab_type": "code",
    "id": "9Xk-pK-guCM8"
   },
   "outputs": [],
   "source": [
    "#Save nutrition facts matrix and nutrient labels for future reference\n",
    "np.save('../data/Nutrition_Facts_Per_Ingredient.npy', ingredient_nutrition_facts)\n",
    "nutrition_fact_column_labels = [\"Protein\", \"Total Fat\",\"Carbohydrate\",\"Energy\",\"Calcium\",\"Iron\",\"Sugars, total\",\"Sodium\",\"Vitamin B-12\",\"Fiber, total dietary\"]\n",
    "np.save('../data/Nutrition_Facts_Column_Labels.npy', nutrition_fact_column_labels)"
   ]
  },
  {
   "cell_type": "markdown",
   "metadata": {},
   "source": [
    "## Find vegan ingredients\n",
    "Vitamin B-12 is only found in animal products. Therefore, we find all vegan ingredients by thresholding the ingredient list by their B-12 quantity."
   ]
  },
  {
   "cell_type": "code",
   "execution_count": 33,
   "metadata": {
    "colab": {
     "base_uri": "https://localhost:8080/",
     "height": 952
    },
    "colab_type": "code",
    "id": "re8_tK99u191",
    "outputId": "76ce4016-53f3-4df6-c456-79a492a4d9c8"
   },
   "outputs": [
    {
     "name": "stdout",
     "output_type": "stream",
     "text": [
      "Some vegan ingredients:\n",
      "['beans, kidney, all types, mature seeds, raw' 'beans, snap, green, raw'\n",
      " 'beets, raw' 'beverages, carbonated, cola, regular'\n",
      " 'beverages, carbonated, ginger ale']\n"
     ]
    }
   ],
   "source": [
    "vegan_ingredient_mask = ingredient_nutrition_facts[:,8]  < 0.05\n",
    "vegan_ingredients = np.array(ingredients_matched)[vegan_ingredient_mask]\n",
    "problems = ['animal fat, bacon grease', 'fat, goose', 'lard', 'soup, chicken broth or bouillon, dry', 'soup, cream of chicken, canned, condensed','soup, swanson chicken broth 99% fat free','margarine-like, margarine-butter blend, soybean oil and butter']\n",
    "indices = []\n",
    "for problem in problems:\n",
    "    index = vegan_ingredients.tolist().index(problem)\n",
    "    indices.append(index)\n",
    "vegan_ingredients = np.delete(vegan_ingredients,indices)\n",
    "vegan_ingredient_mask[indices] = False\n",
    "print('Some vegan ingredients:')\n",
    "print(vegan_ingredients[20:25])"
   ]
  },
  {
   "cell_type": "code",
   "execution_count": 56,
   "metadata": {},
   "outputs": [
    {
     "name": "stdout",
     "output_type": "stream",
     "text": [
      "There are 226 vegan ingredients\n"
     ]
    }
   ],
   "source": [
    "print(\"There are {} vegan ingredients\".format(len(vegan_ingredients)))"
   ]
  },
  {
   "cell_type": "code",
   "execution_count": 34,
   "metadata": {
    "colab": {},
    "colab_type": "code",
    "id": "jfuXIVPAchZ0"
   },
   "outputs": [],
   "source": [
    "np.save('../data/Vegan_Ingredient_Mask_USDA_Nutrition_Info.npy', vegan_ingredient_mask)"
   ]
  },
  {
   "cell_type": "markdown",
   "metadata": {
    "colab_type": "text",
    "id": "9tcziOO36hG8"
   },
   "source": [
    "### Adjacency Matrix No. 7\n",
    "Concatenate recipe fetures and nutrition featues and then apply an RBF kernel. Normalize to the feature mean.\n",
    "Potential problem: There are more recipe features than nutrition features, so these may be weighted more heavily"
   ]
  },
  {
   "cell_type": "code",
   "execution_count": 35,
   "metadata": {
    "colab": {
     "base_uri": "https://localhost:8080/",
     "height": 51
    },
    "colab_type": "code",
    "id": "5Fd6YGj-dPCo",
    "outputId": "213e39ab-0c4a-4838-a844-a4d90e1c1360"
   },
   "outputs": [
    {
     "name": "stdout",
     "output_type": "stream",
     "text": [
      "(313, 10)\n",
      "(313, 51235)\n"
     ]
    }
   ],
   "source": [
    "print(ingredient_nutrition_facts.shape)\n",
    "feature_matched = feature[ingredients_matched_mask]\n",
    "print(feature_matched.shape)"
   ]
  },
  {
   "cell_type": "code",
   "execution_count": 36,
   "metadata": {
    "colab": {},
    "colab_type": "code",
    "id": "6sJPrdgp7boJ"
   },
   "outputs": [],
   "source": [
    "#Try concatenating both\n",
    "combined_feature_matrix = np.zeros([ingredient_nutrition_facts.shape[0], ingredient_nutrition_facts.shape[1] + feature_matched.shape[1]])\n",
    "combined_feature_matrix[:,0:(ingredient_nutrition_facts.shape[1])] = ingredient_nutrition_facts\n",
    "combined_feature_matrix[:,ingredient_nutrition_facts.shape[1]:(ingredient_nutrition_facts.shape[1]+ feature_matched.shape[1])] = feature_matched"
   ]
  },
  {
   "cell_type": "code",
   "execution_count": 37,
   "metadata": {
    "colab": {
     "base_uri": "https://localhost:8080/",
     "height": 34
    },
    "colab_type": "code",
    "id": "XE-lKtqL8PZe",
    "outputId": "80182e34-f77a-4bb2-ee83-a91b10edb604"
   },
   "outputs": [
    {
     "name": "stdout",
     "output_type": "stream",
     "text": [
      "(313, 51177)\n"
     ]
    }
   ],
   "source": [
    "#Normalize features based on mean value\n",
    "#Possible problem: there are many more recipe features than nutrition ones\n",
    "feature_means = np.mean(combined_feature_matrix,axis=0)\n",
    "combined_feature_matrix = combined_feature_matrix[:, feature_means != 0]\n",
    "feature_means = feature_means[feature_means != 0]\n",
    "combined_feature_matrix_normalized = combined_feature_matrix / feature_means;\n",
    "print(combined_feature_matrix_normalized.shape)"
   ]
  },
  {
   "cell_type": "code",
   "execution_count": 38,
   "metadata": {
    "colab": {
     "base_uri": "https://localhost:8080/",
     "height": 282
    },
    "colab_type": "code",
    "id": "J6CN9ZCh-IS8",
    "outputId": "73312a62-f025-4c9d-e1ba-a3664f91a270"
   },
   "outputs": [
    {
     "name": "stdout",
     "output_type": "stream",
     "text": [
      "1829.2480483951592\n"
     ]
    },
    {
     "data": {
      "image/png": "[encoded data removed]",
      "text/plain": [
       "<Figure size 432x288 with 1 Axes>"
      ]
     },
     "metadata": {
      "needs_background": "light"
     },
     "output_type": "display_data"
    }
   ],
   "source": [
    "distances = pdist(combined_feature_matrix_normalized, metric='euclidean')\n",
    "plt.hist(distances)\n",
    "mean_dist = np.median(distances)\n",
    "print(mean_dist)"
   ]
  },
  {
   "cell_type": "code",
   "execution_count": 39,
   "metadata": {
    "colab": {
     "base_uri": "https://localhost:8080/",
     "height": 269
    },
    "colab_type": "code",
    "id": "1R-6sa9g-W1n",
    "outputId": "870bad2e-1924-4929-98eb-70689c69d039"
   },
   "outputs": [
    {
     "data": {
      "image/png": "[encoded data removed]",
      "text/plain": [
       "<Figure size 432x288 with 1 Axes>"
      ]
     },
     "metadata": {
      "needs_background": "light"
     },
     "output_type": "display_data"
    }
   ],
   "source": [
    "sigma_coeff = 0.8\n",
    "sigma = sigma_coeff*mean_dist\n",
    "adjacency = epsilon_similarity_graph(combined_feature_matrix_normalized, sigma, epsilon=0.2)\n",
    "plt.spy(adjacency)\n",
    "plt.show()"
   ]
  },
  {
   "cell_type": "code",
   "execution_count": 40,
   "metadata": {
    "colab": {},
    "colab_type": "code",
    "id": "WXVwY33C_WmL"
   },
   "outputs": [],
   "source": [
    "np.save('../data/Adjacency_Matrix_7.npy', adjacency)"
   ]
  },
  {
   "cell_type": "markdown",
   "metadata": {
    "colab_type": "text",
    "id": "qCpbapQo_OUR"
   },
   "source": [
    "### Adjacency Matrix 8\n",
    "Same as 7 but without feature normalization (to try to weigh nutrition information more than recipe features)"
   ]
  },
  {
   "cell_type": "code",
   "execution_count": 41,
   "metadata": {
    "colab": {
     "base_uri": "https://localhost:8080/",
     "height": 282
    },
    "colab_type": "code",
    "id": "qAn6Pgv9_P8Z",
    "outputId": "86193c81-7f57-4a76-f052-cffd27eaafaf"
   },
   "outputs": [
    {
     "name": "stdout",
     "output_type": "stream",
     "text": [
      "558.9922892776581\n"
     ]
    },
    {
     "data": {
      "image/png": "[encoded data removed]",
      "text/plain": [
       "<Figure size 432x288 with 1 Axes>"
      ]
     },
     "metadata": {
      "needs_background": "light"
     },
     "output_type": "display_data"
    }
   ],
   "source": [
    "distances = pdist(combined_feature_matrix, metric='euclidean')\n",
    "plt.hist(distances)\n",
    "mean_dist = np.median(distances)\n",
    "print(mean_dist)"
   ]
  },
  {
   "cell_type": "code",
   "execution_count": 42,
   "metadata": {
    "colab": {
     "base_uri": "https://localhost:8080/",
     "height": 269
    },
    "colab_type": "code",
    "id": "Ut4-kEWi_wvM",
    "outputId": "a8914993-9564-4f63-f34b-ee065b007ed7"
   },
   "outputs": [
    {
     "data": {
      "image/png": "[encoded data removed]",
      "text/plain": [
       "<Figure size 432x288 with 1 Axes>"
      ]
     },
     "metadata": {
      "needs_background": "light"
     },
     "output_type": "display_data"
    }
   ],
   "source": [
    "sigma_coeff = 0.8\n",
    "sigma = sigma_coeff*mean_dist\n",
    "adjacency = epsilon_similarity_graph(combined_feature_matrix, sigma, epsilon=0.2)\n",
    "plt.spy(adjacency)\n",
    "plt.show()"
   ]
  },
  {
   "cell_type": "code",
   "execution_count": 43,
   "metadata": {
    "colab": {
     "base_uri": "https://localhost:8080/",
     "height": 34
    },
    "colab_type": "code",
    "id": "i6Z-6jGD_3zJ",
    "outputId": "02c73501-5772-45a4-d9b6-9f35809ba454"
   },
   "outputs": [
    {
     "data": {
      "text/plain": [
       "6"
      ]
     },
     "execution_count": 43,
     "metadata": {},
     "output_type": "execute_result"
    }
   ],
   "source": [
    "laplacian = compute_laplacian(adjacency,True)\n",
    "lamb_norm, U_norm = spectral_decomposition(laplacian)\n",
    "compute_number_connected_components(lamb_norm,threshold=1e-12)"
   ]
  },
  {
   "cell_type": "code",
   "execution_count": 44,
   "metadata": {
    "colab": {},
    "colab_type": "code",
    "id": "Wgxxm_Qt_-Ie"
   },
   "outputs": [],
   "source": [
    "np.save('../data/Adjacency_Matrix_8.npy', adjacency)"
   ]
  },
  {
   "cell_type": "markdown",
   "metadata": {
    "colab_type": "text",
    "id": "UvioreppC1eu"
   },
   "source": [
    "### Adjacency Matrix 9:\n",
    "Try to combine the ingredient coocurrence adjacency matrix (#1) with the nutrition adjacency matrix (#5) by adding them. Make sure that the coocurrence weights are not weighted more heavily than the nutrition weights by dividing the cooccurrence matrix by its maximum value."
   ]
  },
  {
   "cell_type": "code",
   "execution_count": 45,
   "metadata": {
    "colab": {
     "base_uri": "https://localhost:8080/",
     "height": 918
    },
    "colab_type": "code",
    "id": "5rIZOkfiD7fh",
    "outputId": "c3e7bd9f-8d6a-457f-f2dd-ec37501d0b3e"
   },
   "outputs": [],
   "source": [
    "distances = pdist(ingredient_nutrition_facts_normalized, metric='euclidean')\n",
    "mean_dist = np.median(distances)\n",
    "sigma_coeff = 0.8\n",
    "sigma = sigma_coeff*mean_dist\n",
    "adjacency = epsilon_similarity_graph(ingredient_nutrition_facts_normalized, sigma, epsilon=0.2)"
   ]
  },
  {
   "cell_type": "code",
   "execution_count": 46,
   "metadata": {
    "colab": {
     "base_uri": "https://localhost:8080/",
     "height": 232
    },
    "colab_type": "code",
    "id": "rzWCWng_EbCv",
    "outputId": "5e0bd207-1929-4537-bb5b-6e7471968a69"
   },
   "outputs": [
    {
     "data": {
      "image/png": "[encoded data removed]",
      "text/plain": [
       "<Figure size 432x288 with 1 Axes>"
      ]
     },
     "metadata": {
      "needs_background": "light"
     },
     "output_type": "display_data"
    }
   ],
   "source": [
    "normalized_recipe_adj_mat = Adj_mat_1/np.max(Adj_mat_1)\n",
    "normalized_recipe_adj_mat = normalized_recipe_adj_mat[ingredients_matched_mask,:]\n",
    "normalized_recipe_adj_mat = normalized_recipe_adj_mat[:,ingredients_matched_mask]\n",
    "combined_mat = normalized_recipe_adj_mat + adjacency\n",
    "plt.spy(combined_mat)\n",
    "plt.show()"
   ]
  },
  {
   "cell_type": "code",
   "execution_count": 47,
   "metadata": {
    "colab": {},
    "colab_type": "code",
    "id": "xDYrzEGbFgug"
   },
   "outputs": [],
   "source": [
    "np.save('../data/Adjacency_Matrix_9.npy', combined_mat)"
   ]
  },
  {
   "cell_type": "markdown",
   "metadata": {},
   "source": [
    "### Adjacency Matrix 10: \n",
    "Same as 9 but divide the recipes matrix by its mean value instead of the max to increase its weight"
   ]
  },
  {
   "cell_type": "code",
   "execution_count": 48,
   "metadata": {
    "colab": {},
    "colab_type": "code",
    "id": "UNF2tUuc-HLj"
   },
   "outputs": [
    {
     "data": {
      "image/png": "[encoded data removed]",
      "text/plain": [
       "<Figure size 432x288 with 1 Axes>"
      ]
     },
     "metadata": {
      "needs_background": "light"
     },
     "output_type": "display_data"
    }
   ],
   "source": [
    "normalized_recipe_adj_mat = Adj_mat_1/np.mean(Adj_mat_1)\n",
    "normalized_recipe_adj_mat = normalized_recipe_adj_mat[ingredients_matched_mask,:]\n",
    "normalized_recipe_adj_mat = normalized_recipe_adj_mat[:,ingredients_matched_mask]\n",
    "combined_mat = normalized_recipe_adj_mat + adjacency\n",
    "plt.spy(combined_mat)\n",
    "plt.show()"
   ]
  },
  {
   "cell_type": "code",
   "execution_count": 49,
   "metadata": {
    "colab": {},
    "colab_type": "code",
    "id": "ff5tWss2-JPd"
   },
   "outputs": [],
   "source": [
    "np.save('../data/Adjacency_Matrix_10.npy', combined_mat)"
   ]
  },
  {
   "cell_type": "markdown",
   "metadata": {},
   "source": [
    "### Adjacency Matrix 11\n",
    "Combine the two matrices by multiplyting them"
   ]
  },
  {
   "cell_type": "code",
   "execution_count": 50,
   "metadata": {},
   "outputs": [
    {
     "data": {
      "image/png": "[encoded data removed]",
      "text/plain": [
       "<Figure size 432x288 with 1 Axes>"
      ]
     },
     "metadata": {
      "needs_background": "light"
     },
     "output_type": "display_data"
    }
   ],
   "source": [
    "normalized_recipe_adj_mat = Adj_mat_1/np.max(Adj_mat_1)\n",
    "normalized_recipe_adj_mat = normalized_recipe_adj_mat[ingredients_matched_mask,:]\n",
    "normalized_recipe_adj_mat = normalized_recipe_adj_mat[:,ingredients_matched_mask]\n",
    "combined_mat = np.multiply(normalized_recipe_adj_mat, adjacency)\n",
    "plt.spy(combined_mat)\n",
    "plt.show()"
   ]
  },
  {
   "cell_type": "code",
   "execution_count": 51,
   "metadata": {},
   "outputs": [],
   "source": [
    "np.save('../data/Adjacency_Matrix_11.npy', combined_mat)"
   ]
  },
  {
   "cell_type": "markdown",
   "metadata": {},
   "source": [
    "### Adjacency Matrix No. 12\n",
    "Add the nutrition and recipe adjacency matrices made using RBF kernels (#3 and #5)"
   ]
  },
  {
   "cell_type": "code",
   "execution_count": 54,
   "metadata": {},
   "outputs": [
    {
     "data": {
      "image/png": "[encoded data removed]",
      "text/plain": [
       "<Figure size 432x288 with 1 Axes>"
      ]
     },
     "metadata": {
      "needs_background": "light"
     },
     "output_type": "display_data"
    }
   ],
   "source": [
    "mat_3 = np.load('../data/Adjacency_Matrix_3.npy')\n",
    "mat_3 = mat_3[ingredients_matched_mask,:]\n",
    "mat_3 = mat_3[:,ingredients_matched_mask]\n",
    "mat_5 = np.load('../data/Adjacency_Matrix_5.npy')\n",
    "combined_mat = mat_3 + mat_5\n",
    "plt.spy(combined_mat)\n",
    "plt.show()"
   ]
  },
  {
   "cell_type": "code",
   "execution_count": 55,
   "metadata": {},
   "outputs": [],
   "source": [
    "np.save('../data/Adjacency_Matrix_12.npy', combined_mat)"
   ]
  }
 ],
 "metadata": {
  "colab": {
   "collapsed_sections": [],
   "name": "CreateAdjacencyMatrix.ipynb",
   "provenance": []
  },
  "kernelspec": {
   "display_name": "Python 3",
   "language": "python",
   "name": "python3"
  },
  "language_info": {
   "codemirror_mode": {
    "name": "ipython",
    "version": 3
   },
   "file_extension": ".py",
   "mimetype": "text/x-python",
   "name": "python",
   "nbconvert_exporter": "python",
   "pygments_lexer": "ipython3",
   "version": "3.7.3"
  }
 },
 "nbformat": 4,
 "nbformat_minor": 1
}
