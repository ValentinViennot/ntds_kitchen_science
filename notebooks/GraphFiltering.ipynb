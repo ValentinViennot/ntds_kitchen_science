{
 "cells": [
  {
   "cell_type": "markdown",
   "metadata": {},
   "source": [
    "# Graph filtering\n",
    "Suggest new ingredients to add to a recipe by applying different filters to the graph and choosing the new ingredient with the highest weight after filtering.\n",
    "We implemented the follwing filters:\n",
    "* Ideal bandpass\n",
    "* Graph shift (see Sandryhaila et al.)\n",
    "* Minimizing graph total variance (see Sandryhaila et al.)"
   ]
  },
  {
   "cell_type": "code",
   "execution_count": 2,
   "metadata": {
    "colab": {},
    "colab_type": "code",
    "id": "ZU0wfxR3cWfE"
   },
   "outputs": [],
   "source": [
    "%matplotlib inline\n",
    "import pandas as pd\n",
    "import numpy as np\n",
    "import matplotlib.pyplot as plt\n",
    "import json\n",
    "from pandas.io.json import json_normalize\n",
    "from graphProcessingFunctions import *"
   ]
  },
  {
   "cell_type": "code",
   "execution_count": 3,
   "metadata": {
    "colab": {
     "base_uri": "https://localhost:8080/",
     "height": 34
    },
    "colab_type": "code",
    "id": "e8GOzpFUcZ5q",
    "outputId": "48f5ab8b-63e4-426c-83ad-fe88b187bf20"
   },
   "outputs": [],
   "source": [
    "adj_mat = np.load('../data/Adjacency_Matrix_3.npy') #Recipe feature CORA-style adjacency matrix\n",
    "ingredient_list = np.load('../data/Ingredient_List.npy')"
   ]
  },
  {
   "cell_type": "code",
   "execution_count": 4,
   "metadata": {
    "colab": {
     "base_uri": "https://localhost:8080/",
     "height": 340
    },
    "colab_type": "code",
    "id": "7Hz74VBjcz-L",
    "outputId": "f3976250-e713-4a6c-ad82-54a909d44eb9"
   },
   "outputs": [],
   "source": [
    "with open('../data/recipes_with_nutritional_info_fixed_qty.json') as json_file:\n",
    "    data = json.load(json_file)\n",
    "df = pd.DataFrame(data)"
   ]
  },
  {
   "cell_type": "code",
   "execution_count": 5,
   "metadata": {
    "colab": {},
    "colab_type": "code",
    "id": "PU8W6qWRdn_p"
   },
   "outputs": [],
   "source": [
    "def createIngredientSignal(df,recipe_number,ingredient_list):\n",
    "    \"\"\"Generate a boolean signal from a recipe with 1's in the positions of the ingredients it contains and zeros elsewhere.\n",
    "    Use the full ingredient name\"\"\"\n",
    "    entry = df.iloc[recipe_number]\n",
    "    recipe = entry['ingredients']\n",
    "    ingredients = []\n",
    "    for ingredient in recipe:\n",
    "        ingredients += [ingredient['text']]\n",
    "    indices = np.in1d(ingredient_list,ingredients)\n",
    "    output = np.zeros(ingredient_list.shape)\n",
    "    output[indices] = 1;\n",
    "    return output"
   ]
  },
  {
   "cell_type": "code",
   "execution_count": 6,
   "metadata": {
    "colab": {},
    "colab_type": "code",
    "id": "hkqt0bKYJppx"
   },
   "outputs": [],
   "source": [
    "def createIngredientSignalFirstWord(df,recipe_number,ingredient_list):\n",
    "    \"\"\"Generate a boolean signal from a recipe with 1's in the positions of the ingredients it contains and zeros elsewhere.\n",
    "    Use only the first word of the ingredient\"\"\"\n",
    "    entry = df.iloc[recipe_number]\n",
    "    recipe = entry['ingredients']\n",
    "    ingredients = []\n",
    "    for ingredient in recipe:\n",
    "        ingredients += [ingredient['text'].split(',')[0]]\n",
    "    indices = np.in1d(ingredient_list,ingredients)\n",
    "    output = np.zeros(ingredient_list.shape)\n",
    "    output[indices] = 1;\n",
    "    return output"
   ]
  },
  {
   "cell_type": "code",
   "execution_count": 7,
   "metadata": {
    "colab": {},
    "colab_type": "code",
    "id": "i0t9LoK0XI2f"
   },
   "outputs": [],
   "source": [
    "laplacian = compute_laplacian(adj_mat, normalize=True)\n",
    "lam, U = spectral_decomposition(laplacian)"
   ]
  },
  {
   "cell_type": "code",
   "execution_count": 8,
   "metadata": {
    "colab": {
     "base_uri": "https://localhost:8080/",
     "height": 338
    },
    "colab_type": "code",
    "id": "EUWL6CfYXNmr",
    "outputId": "a74f2ac1-6ff0-4ec6-f530-ead0c4278db6"
   },
   "outputs": [
    {
     "data": {
      "image/png": "[encoded data removed]",
      "text/plain": [
       "<Figure size 432x360 with 1 Axes>"
      ]
     },
     "metadata": {
      "needs_background": "light"
     },
     "output_type": "display_data"
    }
   ],
   "source": [
    "plt.figure(figsize=(6, 5))\n",
    "plt.plot(lam)\n",
    "plt.title('Eigenvalues $L_{norm}$')\n",
    "plt.show()"
   ]
  },
  {
   "cell_type": "code",
   "execution_count": 9,
   "metadata": {
    "colab": {},
    "colab_type": "code",
    "id": "QjOGQz-EXS4j"
   },
   "outputs": [],
   "source": [
    "def GFT(signal, U):\n",
    "    return U.T @ signal\n",
    "\n",
    "def iGFT(fourier_coefficients, U):\n",
    "    return U @ fourier_coefficients"
   ]
  },
  {
   "cell_type": "markdown",
   "metadata": {},
   "source": [
    "## Plot the spectrum of a recipe signal\n",
    "We can see that most signals have a few low frequency components, and then a lot of activity around the eigenvalue 1"
   ]
  },
  {
   "cell_type": "code",
   "execution_count": 12,
   "metadata": {
    "colab": {
     "base_uri": "https://localhost:8080/",
     "height": 394
    },
    "colab_type": "code",
    "id": "N5hei8wNXclR",
    "outputId": "7eb62052-19b5-41b0-8d7c-a329f7abe185"
   },
   "outputs": [
    {
     "data": {
      "text/plain": [
       "Text(0, 0.5, 'Magnitude')"
      ]
     },
     "execution_count": 12,
     "metadata": {},
     "output_type": "execute_result"
    },
    {
     "data": {
      "image/png": "[encoded data removed]",
      "text/plain": [
       "<Figure size 720x432 with 1 Axes>"
      ]
     },
     "metadata": {
      "needs_background": "light"
     },
     "output_type": "display_data"
    }
   ],
   "source": [
    "ingr_signal = createIngredientSignal(df,1,ingredient_list)\n",
    "plt.figure(figsize=(10, 6))\n",
    "plt.plot(lam, np.abs(GFT(ingr_signal,U)), 'r-') \n",
    "plt.xlabel('Frequency')\n",
    "plt.ylabel('Magnitude')"
   ]
  },
  {
   "cell_type": "code",
   "execution_count": 23,
   "metadata": {
    "colab": {},
    "colab_type": "code",
    "id": "_kt3UGXFYVkT"
   },
   "outputs": [],
   "source": [
    "def ideal_graph_filter(x: np.ndarray, spectral_response: np.ndarray, U):\n",
    "    \"\"\"Return a filtered signal.\"\"\"\n",
    "    x_gft = GFT(x,U)\n",
    "    filter_gft = x_gft * spectral_response\n",
    "    return iGFT(filter_gft,U)"
   ]
  },
  {
   "cell_type": "code",
   "execution_count": 28,
   "metadata": {
    "colab": {},
    "colab_type": "code",
    "id": "vczoHhlIfdZn"
   },
   "outputs": [],
   "source": [
    "def predictNewIngredient(df, test_recipe, ingredient_list, adj_mat):\n",
    "    '''Suggest a new ingredient using graph filtering with an ideal bandpass filter.\n",
    "    Ideally, the new ingredient should be the one that does not already exist in the recipe but has the highest weight after filtering\n",
    "    '''\n",
    "    ingr_signal = createIngredientSignal(df,test_recipe,ingredient_list)\n",
    "    laplacian = compute_laplacian(adj_mat, normalize=True)\n",
    "    lam, U = spectral_decomposition(laplacian)\n",
    "    ideal_bp = np.ones(lam.shape)\n",
    "    ideal_bp[lam >= 1] = 0 \n",
    "    ideal_bp[lam <= 0.8] = 0 \n",
    "    x_bp = ideal_graph_filter(ingr_signal,ideal_bp,U)\n",
    "    x_bp[ingr_signal > 0] = 0;\n",
    "    new_ingr_ndx = np.argmax(x_bp)\n",
    "    new_ingredient = ingredient_list[new_ingr_ndx]\n",
    "    recipe_name = df.iloc[test_recipe]['title']\n",
    "    original_ingredients = ingredient_list[ingr_signal > 0]\n",
    "    return new_ingredient, recipe_name, original_ingredients"
   ]
  },
  {
   "cell_type": "code",
   "execution_count": 35,
   "metadata": {
    "colab": {},
    "colab_type": "code",
    "id": "HpZLTD-rq2ve"
   },
   "outputs": [],
   "source": [
    "def predictNewIngredient_graphShift(df, test_recipe, ingredient_list, adj_mat):\n",
    "    \"\"\"Suggest a new ingredient by applying the graph shift filter described in the Carnegie Mellon paper\"\"\"\n",
    "    ingr_signal = createIngredientSignal(df,test_recipe,ingredient_list)\n",
    "    x_filtered = adj_mat @ ingr_signal\n",
    "    x_filtered[ingr_signal > 0] = 0;\n",
    "    new_ingr_ndx = np.argmax(x_filtered)\n",
    "    new_ingredient = ingredient_list[new_ingr_ndx]\n",
    "    recipe_name = df.iloc[test_recipe]['title']\n",
    "    original_ingredients = ingredient_list[ingr_signal > 0]\n",
    "    return new_ingredient, recipe_name, original_ingredients"
   ]
  },
  {
   "cell_type": "code",
   "execution_count": 32,
   "metadata": {
    "colab": {},
    "colab_type": "code",
    "id": "jK4Yby-QtNZW"
   },
   "outputs": [],
   "source": [
    "def predictNewIngredient_graphTotalVariance(df, test_recipe, ingredient_list, adj_mat):\n",
    "    \"\"\"Suggest a new ingredient by finding which ingredient addition minimizes the graph total variance, \n",
    "    as described by the Carnegie Mellon paper\"\"\"\n",
    "    ingr_signal = createIngredientSignal(df,test_recipe,ingredient_list)\n",
    "    gtvs = np.ones([len(ingr_signal),1])*10000\n",
    "    lap = compute_laplacian(adj_mat, True)\n",
    "    for i in range(len(ingr_signal)):\n",
    "        new_ingr_signal = np.reshape(ingr_signal,(len(ingr_signal),1))\n",
    "        if ingr_signal[i] == 0:\n",
    "            new_ingr_signal[i] = 1\n",
    "            gtv = new_ingr_signal.T @ lap @ new_ingr_signal\n",
    "            gtvs[i] = gtv\n",
    "            ingr_signal[i] = 0\n",
    "    new_ingr_ndx = np.argmin(gtvs)\n",
    "    new_ingredient = ingredient_list[new_ingr_ndx]\n",
    "    recipe_name = df.iloc[test_recipe]['title']\n",
    "    original_ingredients = ingredient_list[ingr_signal > 0]\n",
    "    return new_ingredient, recipe_name, original_ingredients"
   ]
  },
  {
   "cell_type": "markdown",
   "metadata": {},
   "source": [
    "## Prediction using graph shift\n",
    "Since this implementation is a simple matrix multiplication by the adjacency matrix, it tends to repeatedly suggest the same ingredients that have high weights"
   ]
  },
  {
   "cell_type": "code",
   "execution_count": 36,
   "metadata": {},
   "outputs": [
    {
     "name": "stdout",
     "output_type": "stream",
     "text": [
      "Recipe name: Broccoli Chicken Casserole Recipe\n",
      "Original Ingredients: ['broccoli, raw' 'cheese, cheddar'\n",
      " 'chicken, broiler or fryers, breast, skinless, boneless, meat only, raw'\n",
      " 'lemon juice, raw'\n",
      " 'rice, white, long-grain, regular, unenriched, cooked without salt'\n",
      " 'salad dressing, mayonnaise, regular'\n",
      " 'soup, cream of chicken, canned, condensed']\n",
      "Suggested Ingredient: peppers, ancho, dried\n",
      "\n",
      "Recipe name: Chocolate-Orange Angel Food Cake\n",
      "Original Ingredients: ['cocoa, dry powder, unsweetened' 'egg, white, raw, fresh'\n",
      " 'orange juice, raw' 'salt, table' 'sugars, granulated' 'sugars, powdered'\n",
      " 'wheat flour, white, cake, enriched']\n",
      "Suggested Ingredient: peppers, ancho, dried\n",
      "\n",
      "Recipe name: Mango Lassi\n",
      "Original Ingredients: ['mango nectar, canned' 'spices, saffron' 'sugars, granulated'\n",
      " 'water, bottled, generic' 'yogurt, greek, plain, nonfat']\n",
      "Suggested Ingredient: peppers, ancho, dried\n",
      "\n",
      "Recipe name: Creamy Curry Salad Dressing\n",
      "Original Ingredients: ['honey' 'lemon juice, raw' 'salad dressing, mayonnaise, regular'\n",
      " 'salt, table' 'spices, curry powder' 'spices, pepper, black'\n",
      " 'water, bottled, generic' 'yogurt, greek, plain, nonfat']\n",
      "Suggested Ingredient: peppers, ancho, dried\n",
      "\n",
      "Recipe name: Cheesy POPcorn\n",
      "Original Ingredients: ['butter, without salt' 'cheese, parmesan, hard' 'corn, sweet, white, raw'\n",
      " 'oil, olive, salad or cooking']\n",
      "Suggested Ingredient: peppers, ancho, dried\n",
      "\n",
      "Recipe name: Homemade Ice Magic\n",
      "Original Ingredients: ['butter, without salt'\n",
      " 'milk, fluid, 1% fat, without added vitamin a and vitamin d'\n",
      " 'oil, olive, salad or cooking']\n",
      "Suggested Ingredient: a cajun life, all purpose cajun seasoning, upc: 095225879272\n",
      "\n"
     ]
    }
   ],
   "source": [
    "test_recipes = [14, 8, 19, 39, 60, 73]\n",
    "for tr in test_recipes:\n",
    "    print(\"Recipe name: {1}\\nOriginal Ingredients: {2}\\nSuggested Ingredient: {0}\\n\".format(*predictNewIngredient_graphShift(df, tr, ingredient_list, adj_mat)))"
   ]
  },
  {
   "cell_type": "markdown",
   "metadata": {},
   "source": [
    "## Suggestion by minimizing graph total variance\n",
    "Since this implementation minimizes the variation on the graph, it tends to suggest the same \"obvious\" ingredients"
   ]
  },
  {
   "cell_type": "code",
   "execution_count": 33,
   "metadata": {},
   "outputs": [
    {
     "name": "stdout",
     "output_type": "stream",
     "text": [
      "Recipe name: Broccoli Chicken Casserole Recipe\n",
      "Original Ingredients: ['broccoli, raw' 'cheese, cheddar'\n",
      " 'chicken, broiler or fryers, breast, skinless, boneless, meat only, raw'\n",
      " 'lemon juice, raw'\n",
      " 'rice, white, long-grain, regular, unenriched, cooked without salt'\n",
      " 'salad dressing, mayonnaise, regular'\n",
      " 'soup, cream of chicken, canned, condensed']\n",
      "Suggested Ingredient: butter, without salt\n",
      "\n",
      "Recipe name: Chocolate-Orange Angel Food Cake\n",
      "Original Ingredients: ['cocoa, dry powder, unsweetened' 'egg, white, raw, fresh'\n",
      " 'orange juice, raw' 'salt, table' 'sugars, granulated' 'sugars, powdered'\n",
      " 'wheat flour, white, cake, enriched']\n",
      "Suggested Ingredient: butter, without salt\n",
      "\n",
      "Recipe name: Mango Lassi\n",
      "Original Ingredients: ['mango nectar, canned' 'spices, saffron' 'sugars, granulated'\n",
      " 'water, bottled, generic' 'yogurt, greek, plain, nonfat']\n",
      "Suggested Ingredient: butter, without salt\n",
      "\n",
      "Recipe name: Creamy Curry Salad Dressing\n",
      "Original Ingredients: ['honey' 'lemon juice, raw' 'salad dressing, mayonnaise, regular'\n",
      " 'salt, table' 'spices, curry powder' 'spices, pepper, black'\n",
      " 'water, bottled, generic' 'yogurt, greek, plain, nonfat']\n",
      "Suggested Ingredient: butter, without salt\n",
      "\n",
      "Recipe name: Cheesy POPcorn\n",
      "Original Ingredients: ['butter, without salt' 'cheese, parmesan, hard' 'corn, sweet, white, raw'\n",
      " 'oil, olive, salad or cooking']\n",
      "Suggested Ingredient: honey\n",
      "\n",
      "Recipe name: Homemade Ice Magic\n",
      "Original Ingredients: ['butter, without salt'\n",
      " 'milk, fluid, 1% fat, without added vitamin a and vitamin d'\n",
      " 'oil, olive, salad or cooking']\n",
      "Suggested Ingredient: cheese, parmesan, hard\n",
      "\n"
     ]
    }
   ],
   "source": [
    "test_recipes = [14, 8, 19, 39, 60, 73]\n",
    "for tr in test_recipes:\n",
    "    print(\"Recipe name: {1}\\nOriginal Ingredients: {2}\\nSuggested Ingredient: {0}\\n\".format(*predictNewIngredient_graphTotalVariance(df, tr, ingredient_list, adj_mat)))"
   ]
  },
  {
   "cell_type": "markdown",
   "metadata": {},
   "source": [
    "## Suggestion using ideal bandpass filter\n",
    "We want the filter to predict something non-obvious (ex. salt, pepper, olive oil), but not something completely unpalatable. Therefore, we apply a bandpass filter with cutoffs of 0.8 and 1.1 eigenvalues. The results are fairly promising, since salty ingredients are suggested for salty recipes and sweet ingredients for sweet recipes!"
   ]
  },
  {
   "cell_type": "code",
   "execution_count": 31,
   "metadata": {
    "colab": {
     "base_uri": "https://localhost:8080/",
     "height": 646
    },
    "colab_type": "code",
    "id": "jnHTGdGvgNwK",
    "outputId": "c0f00ed6-5571-4ba9-ff5d-d4c979482f6a"
   },
   "outputs": [
    {
     "name": "stdout",
     "output_type": "stream",
     "text": [
      "Recipe name: Broccoli Chicken Casserole Recipe\n",
      "Original Ingredients: ['broccoli, raw' 'cheese, cheddar'\n",
      " 'chicken, broiler or fryers, breast, skinless, boneless, meat only, raw'\n",
      " 'lemon juice, raw'\n",
      " 'rice, white, long-grain, regular, unenriched, cooked without salt'\n",
      " 'salad dressing, mayonnaise, regular'\n",
      " 'soup, cream of chicken, canned, condensed']\n",
      "Suggested Ingredient: onions, spring or scallions (includes tops and bulb), raw\n",
      "\n",
      "Recipe name: Chocolate-Orange Angel Food Cake\n",
      "Original Ingredients: ['cocoa, dry powder, unsweetened' 'egg, white, raw, fresh'\n",
      " 'orange juice, raw' 'salt, table' 'sugars, granulated' 'sugars, powdered'\n",
      " 'wheat flour, white, cake, enriched']\n",
      "Suggested Ingredient: candies, semisweet chocolate\n",
      "\n",
      "Recipe name: Mango Lassi\n",
      "Original Ingredients: ['mango nectar, canned' 'spices, saffron' 'sugars, granulated'\n",
      " 'water, bottled, generic' 'yogurt, greek, plain, nonfat']\n",
      "Suggested Ingredient: goji berries, dried\n",
      "\n",
      "Recipe name: Creamy Curry Salad Dressing\n",
      "Original Ingredients: ['honey' 'lemon juice, raw' 'salad dressing, mayonnaise, regular'\n",
      " 'salt, table' 'spices, curry powder' 'spices, pepper, black'\n",
      " 'water, bottled, generic' 'yogurt, greek, plain, nonfat']\n",
      "Suggested Ingredient: goji berries, dried\n",
      "\n",
      "Recipe name: Cheesy POPcorn\n",
      "Original Ingredients: ['butter, without salt' 'cheese, parmesan, hard' 'corn, sweet, white, raw'\n",
      " 'oil, olive, salad or cooking']\n",
      "Suggested Ingredient: chicken, broiler or fryers, breast, skinless, boneless, meat only, raw\n",
      "\n",
      "Recipe name: Homemade Ice Magic\n",
      "Original Ingredients: ['butter, without salt'\n",
      " 'milk, fluid, 1% fat, without added vitamin a and vitamin d'\n",
      " 'oil, olive, salad or cooking']\n",
      "Suggested Ingredient: sugars, powdered\n",
      "\n"
     ]
    }
   ],
   "source": [
    "test_recipes = [14, 8, 19, 39, 60, 73]\n",
    "for tr in test_recipes:\n",
    "    print(\"Recipe name: {1}\\nOriginal Ingredients: {2}\\nSuggested Ingredient: {0}\\n\".format(*predictNewIngredient(df, tr, ingredient_list, adj_mat)))"
   ]
  }
 ],
 "metadata": {
  "colab": {
   "collapsed_sections": [],
   "name": "graphFiltering.ipynb",
   "provenance": []
  },
  "kernelspec": {
   "display_name": "Python 3",
   "language": "python",
   "name": "python3"
  },
  "language_info": {
   "codemirror_mode": {
    "name": "ipython",
    "version": 3
   },
   "file_extension": ".py",
   "mimetype": "text/x-python",
   "name": "python",
   "nbconvert_exporter": "python",
   "pygments_lexer": "ipython3",
   "version": "3.7.3"
  }
 },
 "nbformat": 4,
 "nbformat_minor": 1
}
