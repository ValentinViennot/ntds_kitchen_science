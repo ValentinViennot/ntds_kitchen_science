{
  "nbformat": 4,
  "nbformat_minor": 0,
  "metadata": {
    "colab": {
      "name": "graphFiltering.ipynb",
      "provenance": [],
      "collapsed_sections": []
    },
    "kernelspec": {
      "name": "python3",
      "display_name": "Python 3"
    }
  },
  "cells": [
    {
      "cell_type": "code",
      "metadata": {
        "id": "5FqOvQWFaI_z",
        "colab_type": "code",
        "outputId": "bf6ee683-f86f-4c25-da66-d7d37f6e0fee",
        "colab": {
          "base_uri": "https://localhost:8080/",
          "height": 258
        }
      },
      "source": [
        "import os, sys\n",
        "\n",
        "class FileSystem:\n",
        "  def __init__(self, colab_dir=\"ntds_2019\", local_dir=\"./\", data_dir=\"data\"):\n",
        "    IN_COLAB = 'google.colab' in sys.modules\n",
        "    if (IN_COLAB):\n",
        "      from google.colab import drive\n",
        "      drive.mount('/gdrive')\n",
        "      self.root_dir = os.path.join(\"/gdrive/My Drive/\", colab_dir)\n",
        "    else:\n",
        "      self.root_dir = local_dir\n",
        "    self.data_dir = data_dir\n",
        "    self.change_directory = False\n",
        "\n",
        "  def data_path(self, name):\n",
        "    return os.path.join(self.data_dir, name) if self.change_directory else os.path.join(self.root_dir, self.data_dir, name)\n",
        "\n",
        "  def path(self, name):\n",
        "    return os.path.join(\"./\", name) if self.change_directory else os.path.join(\"./\", self.root_dir, name)\n",
        "\n",
        "  def cd(self):\n",
        "    %cd {self.root_dir}\n",
        "    %ls\n",
        "    self.change_directory = True\n",
        "\n",
        "fs = FileSystem()\n",
        "fs.cd()"
      ],
      "execution_count": 0,
      "outputs": [
        {
          "output_type": "stream",
          "text": [
            "Go to this URL in a browser: https://accounts.google.com/o/oauth2/auth?client_id=947318989803-6bn6qk8qdgf4n4g3pfee6491hc0brc4i.apps.googleusercontent.com&redirect_uri=urn%3aietf%3awg%3aoauth%3a2.0%3aoob&response_type=code&scope=email%20https%3a%2f%2fwww.googleapis.com%2fauth%2fdocs.test%20https%3a%2f%2fwww.googleapis.com%2fauth%2fdrive%20https%3a%2f%2fwww.googleapis.com%2fauth%2fdrive.photos.readonly%20https%3a%2f%2fwww.googleapis.com%2fauth%2fpeopleapi.readonly\n",
            "\n",
            "Enter your authorization code:\n",
            "··········\n",
            "Mounted at /gdrive\n",
            "/gdrive/My Drive/ntds_2019\n",
            "\u001b[0m\u001b[01;34marchives\u001b[0m/                     kNN_ingredient_replacement.ipynb\n",
            "CreateAdjacencyMatrix.ipynb   Network_Tour_Project_Summary.pdf\n",
            "\u001b[01;34mdata\u001b[0m/                         ntdsV2.ipynb\n",
            "GCNN.ipynb                    \u001b[01;34mpapers\u001b[0m/\n",
            "graph_communities_V2.0.ipynb  recipe-cleaner.py\n",
            "graphFiltering.ipynb          StudyingGraphProperties.ipynb\n",
            "\u001b[01;34mgraphics\u001b[0m/\n"
          ],
          "name": "stdout"
        }
      ]
    },
    {
      "cell_type": "code",
      "metadata": {
        "id": "ZU0wfxR3cWfE",
        "colab_type": "code",
        "colab": {}
      },
      "source": [
        "%matplotlib inline\n",
        "import pandas as pd\n",
        "import numpy as np\n",
        "import matplotlib.pyplot as plt\n",
        "import json\n",
        "from pandas.io.json import json_normalize\n",
        "import itertools\n",
        "import networkx as nx"
      ],
      "execution_count": 0,
      "outputs": []
    },
    {
      "cell_type": "code",
      "metadata": {
        "id": "e8GOzpFUcZ5q",
        "colab_type": "code",
        "outputId": "48f5ab8b-63e4-426c-83ad-fe88b187bf20",
        "colab": {
          "base_uri": "https://localhost:8080/",
          "height": 34
        }
      },
      "source": [
        "adj_mat = np.load(fs.data_path('Ingredient_Adjacency_Matrix_Combined_Addition_Mean.npy'))\n",
        "adj_mat.shape"
      ],
      "execution_count": 0,
      "outputs": [
        {
          "output_type": "execute_result",
          "data": {
            "text/plain": [
              "(313, 313)"
            ]
          },
          "metadata": {
            "tags": []
          },
          "execution_count": 3
        }
      ]
    },
    {
      "cell_type": "code",
      "metadata": {
        "id": "4BPY3ovMddHr",
        "colab_type": "code",
        "outputId": "66ab3b79-0121-4165-ce92-ecb5d5a13842",
        "colab": {
          "base_uri": "https://localhost:8080/",
          "height": 34
        }
      },
      "source": [
        "ingredient_list = np.load(fs.data_path('Ingredient_List_USDA_Nutrition_Info.npy'))\n",
        "print(ingredient_list.shape)"
      ],
      "execution_count": 0,
      "outputs": [
        {
          "output_type": "stream",
          "text": [
            "(313,)\n"
          ],
          "name": "stdout"
        }
      ]
    },
    {
      "cell_type": "code",
      "metadata": {
        "id": "7Hz74VBjcz-L",
        "colab_type": "code",
        "outputId": "f3976250-e713-4a6c-ad82-54a909d44eb9",
        "colab": {
          "base_uri": "https://localhost:8080/",
          "height": 340
        }
      },
      "source": [
        "with open(fs.data_path('recipes_with_nutritional_info_fixed_qty.json')) as json_file:\n",
        "    data = json.load(json_file)\n",
        "df = pd.DataFrame(data)\n",
        "df.head()"
      ],
      "execution_count": 0,
      "outputs": [
        {
          "output_type": "execute_result",
          "data": {
            "text/html": [
              "<div>\n",
              "<style scoped>\n",
              "    .dataframe tbody tr th:only-of-type {\n",
              "        vertical-align: middle;\n",
              "    }\n",
              "\n",
              "    .dataframe tbody tr th {\n",
              "        vertical-align: top;\n",
              "    }\n",
              "\n",
              "    .dataframe thead th {\n",
              "        text-align: right;\n",
              "    }\n",
              "</style>\n",
              "<table border=\"1\" class=\"dataframe\">\n",
              "  <thead>\n",
              "    <tr style=\"text-align: right;\">\n",
              "      <th></th>\n",
              "      <th>fsa_lights_per100g</th>\n",
              "      <th>id</th>\n",
              "      <th>ingredients</th>\n",
              "      <th>instructions</th>\n",
              "      <th>nutr_per_ingredient</th>\n",
              "      <th>nutr_values_per100g</th>\n",
              "      <th>partition</th>\n",
              "      <th>quantity</th>\n",
              "      <th>title</th>\n",
              "      <th>unit</th>\n",
              "      <th>url</th>\n",
              "      <th>weight_per_ingr</th>\n",
              "      <th>check</th>\n",
              "    </tr>\n",
              "  </thead>\n",
              "  <tbody>\n",
              "    <tr>\n",
              "      <th>0</th>\n",
              "      <td>{'fat': 'green', 'salt': 'green', 'saturates':...</td>\n",
              "      <td>000095fc1d</td>\n",
              "      <td>[{'text': 'yogurt, greek, plain, nonfat'}, {'t...</td>\n",
              "      <td>[{'text': 'Layer all ingredients in a serving ...</td>\n",
              "      <td>[{'fat': 0.8845044000000001, 'nrg': 133.80964,...</td>\n",
              "      <td>{'energy': 81.12946131894766, 'fat': 2.1401392...</td>\n",
              "      <td>train</td>\n",
              "      <td>[{'text': '8'}, {'text': '1'}, {'text': '1/4'}]</td>\n",
              "      <td>Yogurt Parfaits</td>\n",
              "      <td>[{'text': 'ounce'}, {'text': 'cup'}, {'text': ...</td>\n",
              "      <td>http://tastykitchen.com/recipes/breakfastbrunc...</td>\n",
              "      <td>[226.796, 152.0, 30.5]</td>\n",
              "      <td>NaN</td>\n",
              "    </tr>\n",
              "    <tr>\n",
              "      <th>1</th>\n",
              "      <td>{'fat': 'red', 'salt': 'orange', 'saturates': ...</td>\n",
              "      <td>00051d5b9d</td>\n",
              "      <td>[{'text': 'sugars, granulated'}, {'text': 'oil...</td>\n",
              "      <td>[{'text': 'Cream sugar and butter together til...</td>\n",
              "      <td>[{'fat': 0.0, 'nrg': 384.0, 'pro': 0.0, 'sat':...</td>\n",
              "      <td>{'energy': 477.09640393594606, 'fat': 23.41248...</td>\n",
              "      <td>val</td>\n",
              "      <td>[{'text': '1/2'}, {'text': '3/4'}, {'text': '1...</td>\n",
              "      <td>Salt Free, Low Cholesterol Sugar Cookies Recipe</td>\n",
              "      <td>[{'text': 'cup'}, {'text': 'cup'}, {'text': 'c...</td>\n",
              "      <td>http://cookeatshare.com/recipes/salt-free-low-...</td>\n",
              "      <td>[100.80000000000001, 168.0, 21.25, 5.166666666...</td>\n",
              "      <td>NaN</td>\n",
              "    </tr>\n",
              "    <tr>\n",
              "      <th>2</th>\n",
              "      <td>{'fat': 'orange', 'salt': 'orange', 'saturates...</td>\n",
              "      <td>00059b093b</td>\n",
              "      <td>[{'text': 'chicken, broilers or fryers, wing, ...</td>\n",
              "      <td>[{'text': 'Preheat oven to 400 degrees F.'}, {...</td>\n",
              "      <td>[{'fat': 174.859716, 'nrg': 2599.0821599999995...</td>\n",
              "      <td>{'energy': 208.05898280960727, 'fat': 14.29704...</td>\n",
              "      <td>train</td>\n",
              "      <td>[{'text': '3'}, {'text': '1'}, {'text': '1/2'}...</td>\n",
              "      <td>Honey Sriracha Chicken Wings</td>\n",
              "      <td>[{'text': 'pound'}, {'text': 'teaspoon'}, {'te...</td>\n",
              "      <td>http://tastykitchen.com/recipes/main-courses/h...</td>\n",
              "      <td>[1360.7759999999998, 6.0, 1.15, 13.5, 42.59999...</td>\n",
              "      <td>NaN</td>\n",
              "    </tr>\n",
              "    <tr>\n",
              "      <th>3</th>\n",
              "      <td>{'fat': 'orange', 'salt': 'orange', 'saturates...</td>\n",
              "      <td>0005fc89f7</td>\n",
              "      <td>[{'text': 'crustaceans, shrimp, raw (not previ...</td>\n",
              "      <td>[{'text': 'In a large bowl, toss the shrimp, g...</td>\n",
              "      <td>[{'fat': 4.6266384, 'nrg': 771.1064, 'pro': 18...</td>\n",
              "      <td>{'energy': 194.7525956849092, 'fat': 15.980767...</td>\n",
              "      <td>train</td>\n",
              "      <td>[{'text': '2'}, {'text': '3/4'}, {'text': '1 1...</td>\n",
              "      <td>Shrimp and Caper Salad</td>\n",
              "      <td>[{'text': 'pound'}, {'text': 'cup'}, {'text': ...</td>\n",
              "      <td>http://allrecipes.com/recipe/shrimp-and-caper-...</td>\n",
              "      <td>[907.184, 75.0, 151.5, 25.799999999999997, 134...</td>\n",
              "      <td>NaN</td>\n",
              "    </tr>\n",
              "    <tr>\n",
              "      <th>4</th>\n",
              "      <td>{'fat': 'red', 'salt': 'green', 'saturates': '...</td>\n",
              "      <td>0006ca31f4</td>\n",
              "      <td>[{'text': 'cocoa, dry powder, unsweetened'}, {...</td>\n",
              "      <td>[{'text': 'Measure out the cocoa powder into a...</td>\n",
              "      <td>[{'fat': 5.889999999999999, 'nrg': 98.0, 'pro'...</td>\n",
              "      <td>{'energy': 457.0971184631804, 'fat': 29.329775...</td>\n",
              "      <td>train</td>\n",
              "      <td>[{'text': '1/2'}, {'text': '1/2'}, {'text': '1'}]</td>\n",
              "      <td>Natural Peanut Butter Chocolate Bon Bons</td>\n",
              "      <td>[{'text': 'cup'}, {'text': 'cup'}, {'text': 'c...</td>\n",
              "      <td>http://www.food.com/recipe/natural-peanut-butt...</td>\n",
              "      <td>[43.0, 169.5, 256.0]</td>\n",
              "      <td>False</td>\n",
              "    </tr>\n",
              "  </tbody>\n",
              "</table>\n",
              "</div>"
            ],
            "text/plain": [
              "                                  fsa_lights_per100g  ...  check\n",
              "0  {'fat': 'green', 'salt': 'green', 'saturates':...  ...    NaN\n",
              "1  {'fat': 'red', 'salt': 'orange', 'saturates': ...  ...    NaN\n",
              "2  {'fat': 'orange', 'salt': 'orange', 'saturates...  ...    NaN\n",
              "3  {'fat': 'orange', 'salt': 'orange', 'saturates...  ...    NaN\n",
              "4  {'fat': 'red', 'salt': 'green', 'saturates': '...  ...  False\n",
              "\n",
              "[5 rows x 13 columns]"
            ]
          },
          "metadata": {
            "tags": []
          },
          "execution_count": 5
        }
      ]
    },
    {
      "cell_type": "code",
      "metadata": {
        "id": "PU8W6qWRdn_p",
        "colab_type": "code",
        "colab": {}
      },
      "source": [
        "def createIngredientSignal(df,recipe_number,ingredient_list):\n",
        "  entry = df.iloc[recipe_number]\n",
        "  recipe = entry['ingredients']\n",
        "  ingredients = []\n",
        "  for ingredient in recipe:\n",
        "    ingredients += [ingredient['text']]\n",
        "  indices = np.in1d(ingredient_list,ingredients)\n",
        "  output = np.zeros(ingredient_list.shape)\n",
        "  output[indices] = 1;\n",
        "  return output"
      ],
      "execution_count": 0,
      "outputs": []
    },
    {
      "cell_type": "code",
      "metadata": {
        "id": "hkqt0bKYJppx",
        "colab_type": "code",
        "colab": {}
      },
      "source": [
        "def createIngredientSignalFirstWord(df,recipe_number,ingredient_list):\n",
        "  entry = df.iloc[recipe_number]\n",
        "  recipe = entry['ingredients']\n",
        "  ingredients = []\n",
        "  for ingredient in recipe:\n",
        "    ingredients += [ingredient['text'].split(',')[0]]\n",
        "  indices = np.in1d(ingredient_list,ingredients)\n",
        "  output = np.zeros(ingredient_list.shape)\n",
        "  output[indices] = 1;\n",
        "  return output"
      ],
      "execution_count": 0,
      "outputs": []
    },
    {
      "cell_type": "code",
      "metadata": {
        "id": "DZl7Vs7FWHiw",
        "colab_type": "code",
        "outputId": "c0348510-e953-4b34-ca44-deaea0ddd0d3",
        "colab": {
          "base_uri": "https://localhost:8080/",
          "height": 255
        }
      },
      "source": [
        "test_recipe = 1\n",
        "ingr_signal = createIngredientSignal(df,test_recipe,ingredient_list)\n",
        "print(ingr_signal)"
      ],
      "execution_count": 0,
      "outputs": [
        {
          "output_type": "stream",
          "text": [
            "[0. 0. 0. 0. 0. 0. 0. 0. 0. 0. 0. 0. 0. 0. 0. 0. 0. 0. 0. 0. 0. 0. 0. 0.\n",
            " 0. 0. 0. 0. 0. 0. 0. 0. 0. 0. 0. 0. 0. 0. 0. 0. 0. 0. 0. 0. 0. 0. 0. 0.\n",
            " 0. 0. 0. 0. 0. 0. 0. 0. 0. 0. 0. 0. 0. 0. 0. 0. 0. 0. 0. 0. 0. 0. 0. 0.\n",
            " 0. 0. 0. 0. 0. 0. 0. 0. 0. 0. 0. 0. 0. 0. 0. 0. 0. 0. 0. 0. 0. 0. 0. 0.\n",
            " 0. 0. 0. 0. 0. 1. 0. 0. 0. 0. 0. 0. 0. 0. 0. 0. 0. 0. 0. 0. 0. 0. 0. 0.\n",
            " 0. 0. 0. 0. 0. 0. 0. 1. 0. 0. 0. 0. 0. 0. 0. 0. 0. 0. 0. 0. 0. 0. 0. 0.\n",
            " 0. 0. 0. 0. 0. 0. 0. 0. 0. 0. 0. 0. 0. 0. 0. 0. 0. 0. 0. 0. 0. 0. 0. 0.\n",
            " 1. 0. 0. 0. 0. 0. 0. 0. 1. 0. 0. 0. 0. 0. 0. 0. 0. 0. 0. 0. 0. 0. 0. 0.\n",
            " 0. 0. 0. 0. 0. 0. 0. 0. 0. 0. 0. 0. 0. 0. 0. 0. 0. 0. 0. 0. 0. 0. 0. 0.\n",
            " 0. 0. 0. 0. 0. 0. 0. 0. 0. 0. 0. 0. 0. 0. 0. 0. 0. 0. 0. 0. 0. 0. 0. 0.\n",
            " 0. 0. 0. 0. 0. 0. 0. 0. 0. 0. 0. 0. 0. 0. 0. 0. 0. 0. 0. 0. 0. 0. 0. 0.\n",
            " 0. 0. 0. 0. 0. 0. 0. 0. 0. 0. 0. 0. 0. 0. 0. 0. 0. 0. 0. 1. 0. 0. 0. 0.\n",
            " 0. 0. 0. 0. 0. 0. 0. 0. 0. 0. 0. 0. 0. 0. 0. 0. 0. 0. 0. 0. 1. 0. 0. 0.\n",
            " 0.]\n"
          ],
          "name": "stdout"
        }
      ]
    },
    {
      "cell_type": "code",
      "metadata": {
        "id": "iGyravG4XAdY",
        "colab_type": "code",
        "colab": {}
      },
      "source": [
        "def compute_laplacian(adjacency: np.ndarray, normalize: bool):\n",
        "    \"\"\" Return:\n",
        "        L (n x n ndarray): combinatorial or symmetric normalized Laplacian.\n",
        "    \"\"\"\n",
        "    D = np.diag(np.sum(adjacency, 1)) # Degree matrix\n",
        "    combinatorial = D - adjacency\n",
        "    if normalize:\n",
        "        D_norm = np.diag(np.clip(np.sum(adjacency, 1), 1, None)**(-1/2))\n",
        "        return D_norm @ combinatorial @ D_norm\n",
        "    else:\n",
        "        return combinatorial"
      ],
      "execution_count": 0,
      "outputs": []
    },
    {
      "cell_type": "code",
      "metadata": {
        "id": "aJc0BULtXBEW",
        "colab_type": "code",
        "colab": {}
      },
      "source": [
        "def spectral_decomposition(laplacian: np.ndarray):\n",
        "    \"\"\" Return:\n",
        "        lamb (np.array): eigenvalues of the Laplacian\n",
        "        U (np.ndarray): corresponding eigenvectors.\n",
        "    \"\"\"\n",
        "    return np.linalg.eigh(laplacian)"
      ],
      "execution_count": 0,
      "outputs": []
    },
    {
      "cell_type": "code",
      "metadata": {
        "id": "i0t9LoK0XI2f",
        "colab_type": "code",
        "colab": {}
      },
      "source": [
        "laplacian = compute_laplacian(adj_mat, normalize=True)\n",
        "lam, U = spectral_decomposition(laplacian)"
      ],
      "execution_count": 0,
      "outputs": []
    },
    {
      "cell_type": "code",
      "metadata": {
        "id": "EUWL6CfYXNmr",
        "colab_type": "code",
        "outputId": "a74f2ac1-6ff0-4ec6-f530-ead0c4278db6",
        "colab": {
          "base_uri": "https://localhost:8080/",
          "height": 338
        }
      },
      "source": [
        "plt.figure(figsize=(6, 5))\n",
        "plt.plot(lam)\n",
        "plt.title('Eigenvalues $L_{norm}$')\n",
        "plt.show()"
      ],
      "execution_count": 0,
      "outputs": [
        {
          "output_type": "display_data",
          "data": {
            "image/png": "[encoded data removed]",
            "text/plain": [
              "<Figure size 432x360 with 1 Axes>"
            ]
          },
          "metadata": {
            "tags": []
          }
        }
      ]
    },
    {
      "cell_type": "code",
      "metadata": {
        "id": "QjOGQz-EXS4j",
        "colab_type": "code",
        "colab": {}
      },
      "source": [
        "def GFT(signal, U):\n",
        "    return U.T @ signal\n",
        "\n",
        "def iGFT(fourier_coefficients, U):\n",
        "    return U @ fourier_coefficients"
      ],
      "execution_count": 0,
      "outputs": []
    },
    {
      "cell_type": "code",
      "metadata": {
        "id": "N5hei8wNXclR",
        "colab_type": "code",
        "outputId": "7eb62052-19b5-41b0-8d7c-a329f7abe185",
        "colab": {
          "base_uri": "https://localhost:8080/",
          "height": 394
        }
      },
      "source": [
        "plt.figure(figsize=(10, 6))\n",
        "plt.plot(lam, np.abs(GFT(ingr_signal,U)), 'r-') "
      ],
      "execution_count": 0,
      "outputs": [
        {
          "output_type": "execute_result",
          "data": {
            "text/plain": [
              "[<matplotlib.lines.Line2D at 0x7f5ebbdf8c50>]"
            ]
          },
          "metadata": {
            "tags": []
          },
          "execution_count": 14
        },
        {
          "output_type": "display_data",
          "data": {
            "image/png": "[encoded data removed]",
            "text/plain": [
              "<Figure size 720x432 with 1 Axes>"
            ]
          },
          "metadata": {
            "tags": []
          }
        }
      ]
    },
    {
      "cell_type": "code",
      "metadata": {
        "id": "_kt3UGXFYVkT",
        "colab_type": "code",
        "colab": {}
      },
      "source": [
        "def ideal_graph_filter(x: np.ndarray, spectral_response: np.ndarray, U):\n",
        "    \"\"\"Return a filtered signal.\"\"\"\n",
        "    x_gft = GFT(x,U)\n",
        "    filter_gft = x_gft * spectral_response\n",
        "    return iGFT(filter_gft,U)"
      ],
      "execution_count": 0,
      "outputs": []
    },
    {
      "cell_type": "code",
      "metadata": {
        "id": "WDRL9Uc6Yg9P",
        "colab_type": "code",
        "outputId": "b5371091-2eb7-4c23-b6d0-1a2a4abfccf5",
        "colab": {
          "base_uri": "https://localhost:8080/",
          "height": 1000
        }
      },
      "source": [
        "ideal_lp = np.ones(lam.shape)\n",
        "ideal_lp[lam >= 1.1] = 0  # Low-pass filter with cut-off at lambda=1\n",
        "ideal_lp[lam <= 0.8] = 0  # Low-pass filter with cut-off at lambda=1\n",
        "x_lp = ideal_graph_filter(ingr_signal,ideal_lp,U)\n",
        "print(x_lp)\n",
        "print(max(x_lp))"
      ],
      "execution_count": 0,
      "outputs": [
        {
          "output_type": "stream",
          "text": [
            "[ 9.64014183e-03  8.94066072e-03 -2.09449980e-02 -1.52401833e-03\n",
            "  2.20613823e-03  6.46753216e-03  6.97398746e-03 -1.82948940e-02\n",
            " -3.15487054e-02 -6.49805320e-02 -5.51394938e-02 -3.18547775e-02\n",
            "  9.47948717e-03  6.30499599e-03 -1.39631141e-02  5.01357885e-03\n",
            "  1.72259540e-02  3.21116514e-04 -2.99996832e-02 -1.00491760e-03\n",
            "  9.92695149e-03  1.45005933e-02 -2.21453816e-02  9.47086258e-03\n",
            "  1.87240034e-02  1.25417520e-02  1.46797513e-03 -1.78102426e-02\n",
            "  6.95713351e-03  4.42573505e-03  7.26467029e-03  1.00787220e-02\n",
            "  3.30119621e-03 -3.85050737e-02 -4.31938673e-03 -4.44989156e-02\n",
            "  3.28389362e-03 -3.62614028e-04 -9.91252194e-03  3.18248437e-03\n",
            "  9.62069740e-03  5.92926700e-02  7.26226233e-03 -9.25527052e-03\n",
            "  5.55294025e-03 -8.82701758e-02  5.71748169e-03 -4.12218296e-02\n",
            "  5.09789910e-03 -3.85882693e-03  8.27473698e-03 -1.28707462e-02\n",
            " -4.94519847e-02  2.66468741e-02  6.67435818e-03  8.80858625e-03\n",
            " -4.92524343e-03 -9.99717071e-03 -8.49875266e-02  2.76918190e-03\n",
            "  7.68533983e-03 -4.47846278e-02 -2.43587038e-03  5.71138506e-03\n",
            "  8.21002460e-03  3.64899351e-03  7.94249613e-03 -3.67424495e-04\n",
            "  7.47991313e-03  1.09854792e-02 -6.04468731e-02  6.13448782e-03\n",
            "  1.07408406e-02  4.71924438e-03  8.96562668e-03 -2.79090371e-02\n",
            " -7.57066499e-03  5.49996197e-03  5.14344869e-04  4.08382137e-03\n",
            " -7.95421117e-03 -9.67574561e-02  4.12668740e-03 -8.99587201e-04\n",
            " -2.91335486e-02 -6.20186357e-02 -5.45781069e-02 -6.56383197e-03\n",
            " -5.95573041e-02 -6.39520277e-03  4.46906256e-03 -8.56653682e-02\n",
            " -8.51530162e-03 -6.63090183e-02  8.47272417e-03  9.24164017e-03\n",
            " -1.00850927e-03 -7.03262589e-03 -5.69424316e-02  5.01250939e-03\n",
            "  5.64698767e-03  9.62031373e-01 -3.65157715e-03  5.81150950e-03\n",
            "  9.28607210e-03 -2.01029979e-02  8.58335578e-03  1.67530118e-04\n",
            "  9.08464201e-03  6.97925926e-03  8.00067399e-03 -6.39550830e-03\n",
            "  9.34657182e-03  1.05128024e-02  8.48670906e-03 -5.80299229e-03\n",
            "  1.40279507e-02 -2.42778431e-01  3.90749024e-03  4.17030051e-03\n",
            "  8.18708252e-03 -2.52236173e-02 -1.97286236e-02  5.27632849e-03\n",
            "  9.98897855e-03  1.08388215e-02 -3.41342571e-02  8.57578497e-01\n",
            " -1.55734305e-01 -1.25840526e-01  3.89599692e-03 -4.52792237e-02\n",
            "  1.06087130e-03  6.53039274e-03  1.04175365e-02  4.61093250e-03\n",
            " -2.83147189e-03 -2.00568038e-03 -8.36386518e-03 -3.27209058e-03\n",
            " -8.40381624e-03  1.20493312e-02  7.12897076e-03  7.76602862e-03\n",
            " -1.03327948e-01 -4.48378700e-02 -2.11843830e-01  8.28376520e-03\n",
            " -8.11690174e-02  6.20462422e-03  9.35057982e-03  8.38040975e-03\n",
            " -5.39826197e-03  1.55169738e-02  6.95493621e-03  1.27432248e-03\n",
            "  1.02174019e-02 -1.27437203e-01 -3.78391913e-02  8.50283645e-03\n",
            " -2.50639205e-02 -1.86039130e-02 -1.17563665e-01 -2.18178327e-02\n",
            " -2.08823375e-02 -1.22979356e-01 -1.77182419e-02 -4.63361726e-02\n",
            "  9.27777336e-01 -3.88288437e-02 -1.89285096e-02 -1.94513777e-02\n",
            "  6.22263679e-03  9.27265572e-03 -1.44770040e-02 -7.01026626e-03\n",
            "  9.38437385e-01 -2.03225943e-03  7.09263443e-03 -2.16930512e-02\n",
            "  2.19725678e-03  7.68536902e-03 -1.42920973e-02 -4.34743662e-02\n",
            " -1.02945809e-03  3.95809024e-03  6.31058897e-03  1.02411732e-02\n",
            "  7.45136132e-03  1.27434099e-02  3.96922425e-03  1.23261550e-02\n",
            "  7.15270163e-03 -7.92314161e-03 -1.36778643e-02  1.32702200e-02\n",
            "  7.74825313e-03  9.47454024e-03  1.56325998e-02  8.45708365e-03\n",
            " -6.74849464e-02 -2.09628454e-02  9.31123404e-03 -4.05503388e-02\n",
            " -7.84841378e-03  9.81051303e-03  8.91307448e-03 -1.09881917e-01\n",
            " -4.05229359e-03 -8.33341282e-03 -8.62621978e-02  2.04820242e-03\n",
            "  1.66859367e-02  4.87215665e-02  7.80119702e-03  4.33120300e-02\n",
            "  1.36196017e-02  4.24057067e-03  9.00472639e-03  1.59777917e-03\n",
            "  7.93555475e-03  1.13527227e-02  7.72660673e-03  6.49957490e-03\n",
            "  6.95034385e-03 -2.31333307e-03  1.41091454e-02  9.41895109e-03\n",
            " -1.00762881e-02  1.00334656e-02 -1.78349686e-02 -7.29967986e-02\n",
            " -2.26578938e-03 -5.13847146e-02 -7.50980388e-03 -2.79922611e-02\n",
            " -5.69496714e-02 -1.26666985e-03 -5.35706773e-02 -7.19787889e-02\n",
            "  9.35621626e-03  1.08108454e-02 -6.67751184e-03  8.24117285e-03\n",
            "  1.24703186e-02  6.07043454e-03  5.40482812e-02 -2.62035105e-02\n",
            " -1.02909939e-02  1.07148257e-02  1.02494644e-02 -2.70329650e-02\n",
            " -2.50410873e-02  1.95734086e-02 -1.55520641e-01 -7.54710425e-02\n",
            " -1.44729397e-02  1.28378351e-02 -2.39903635e-02  1.28380722e-03\n",
            "  5.54079936e-03  9.66254775e-03 -5.92951676e-02  4.91303458e-03\n",
            " -1.16918286e-01  3.81750706e-02  2.76436017e-02  4.48276522e-02\n",
            "  7.95438060e-03 -1.65935935e-01 -1.20407314e-02 -1.35428562e-02\n",
            "  8.16147787e-03 -1.65276419e-02 -8.64518859e-03 -7.29468066e-03\n",
            "  1.56621535e-02  4.44120468e-03 -9.99468171e-03 -3.94568275e-03\n",
            " -1.86898113e-03  2.74955283e-03 -3.52835959e-01  3.49862882e-01\n",
            " -2.33914616e-01 -4.26846931e-02 -2.28986479e-02 -7.82729043e-02\n",
            "  4.73834487e-03 -1.53557363e-01 -1.29312419e-01  2.13003931e-03\n",
            "  2.77158192e-04  9.64070746e-03  8.47043854e-03 -7.50702950e-03\n",
            "  1.01353106e-02  1.51656989e-02  7.54466216e-03  6.04655737e-03\n",
            " -2.00082327e-01 -4.02684445e-05 -3.62111417e-03 -1.43356015e-02\n",
            "  1.10456223e-02 -1.83702803e-04 -1.33650940e-01  9.51377565e-03\n",
            "  3.77061474e-01 -5.53586740e-02  6.51505320e-04 -4.98051070e-02\n",
            "  2.55116377e-03]\n",
            "0.9620313725087515\n"
          ],
          "name": "stdout"
        }
      ]
    },
    {
      "cell_type": "code",
      "metadata": {
        "id": "_xqtcXbTZWsh",
        "colab_type": "code",
        "outputId": "5ecc7395-804c-441c-f1a5-d3226b64b82c",
        "colab": {
          "base_uri": "https://localhost:8080/",
          "height": 102
        }
      },
      "source": [
        "original_ingredients = ingredient_list[ingr_signal > 0]\n",
        "print(df.iloc[test_recipe]['title'])\n",
        "print(original_ingredients)"
      ],
      "execution_count": 0,
      "outputs": [
        {
          "output_type": "stream",
          "text": [
            "Salt Free, Low Cholesterol Sugar Cookies Recipe\n",
            "['egg substitute, powder'\n",
            " 'leavening agents, baking powder, double-acting, sodium aluminum sulfate'\n",
            " 'oil, corn, peanut, and olive' 'orange juice, raw' 'sugars, granulated'\n",
            " 'wheat flour, white, all-purpose, unenriched']\n"
          ],
          "name": "stdout"
        }
      ]
    },
    {
      "cell_type": "code",
      "metadata": {
        "id": "wMSbQFiQZ594",
        "colab_type": "code",
        "outputId": "eb6f4335-f0da-4b0f-a366-cf7abe477ced",
        "colab": {
          "base_uri": "https://localhost:8080/",
          "height": 34
        }
      },
      "source": [
        "x_lp[ingr_signal > 0] = 0;\n",
        "new_ingr_ndx = np.argmax(x_lp)\n",
        "new_ingredient = ingredient_list[new_ingr_ndx]\n",
        "print(new_ingredient)"
      ],
      "execution_count": 0,
      "outputs": [
        {
          "output_type": "stream",
          "text": [
            "butter, without salt\n"
          ],
          "name": "stdout"
        }
      ]
    },
    {
      "cell_type": "code",
      "metadata": {
        "id": "vczoHhlIfdZn",
        "colab_type": "code",
        "colab": {}
      },
      "source": [
        "def predictNewIngredient(df, test_recipe, ingredient_list, adj_mat):\n",
        "  ingr_signal = createIngredientSignal(df,test_recipe,ingredient_list)\n",
        "  laplacian = compute_laplacian(adj_mat, normalize=True)\n",
        "  lam, U = spectral_decomposition(laplacian)\n",
        "  ideal_lp = np.ones(lam.shape)\n",
        "  ideal_lp[lam >= 1] = 0  #too lowpass suggests only base ingredients\n",
        "  ideal_lp[lam <= 0.8] = 0  # Low-pass filter with cut-off at lambda=1\n",
        "  x_lp = ideal_graph_filter(ingr_signal,ideal_lp,U)\n",
        "  x_lp[ingr_signal > 0] = 0;\n",
        "  new_ingr_ndx = np.argmax(x_lp)\n",
        "  new_ingredient = ingredient_list[new_ingr_ndx]\n",
        "  recipe_name = df.iloc[test_recipe]['title']\n",
        "  original_ingredients = ingredient_list[ingr_signal > 0]\n",
        "  return new_ingredient, recipe_name, original_ingredients"
      ],
      "execution_count": 0,
      "outputs": []
    },
    {
      "cell_type": "code",
      "metadata": {
        "id": "HpZLTD-rq2ve",
        "colab_type": "code",
        "colab": {}
      },
      "source": [
        "def predictNewIngredient_graphShift(df, test_recipe, ingredient_list, adj_mat):\n",
        "  ingr_signal = createIngredientSignal(df,test_recipe,ingredient_list)\n",
        "  x_filtered = adj_mat @ ingr_signal\n",
        "  x_filtered[ingr_signal > 0] = 0;\n",
        "  new_ingr_ndx = np.argmax(x_filtered)\n",
        "  new_ingr_ndx = np.argmax(x_lp)\n",
        "  new_ingredient = ingredient_list[new_ingr_ndx]\n",
        "  recipe_name = df.iloc[test_recipe]['title']\n",
        "  original_ingredients = ingredient_list[ingr_signal > 0]\n",
        "  return new_ingredient, recipe_name, original_ingredients"
      ],
      "execution_count": 0,
      "outputs": []
    },
    {
      "cell_type": "code",
      "metadata": {
        "id": "jK4Yby-QtNZW",
        "colab_type": "code",
        "colab": {}
      },
      "source": [
        "def predictNewIngredient_graphTotalVariance(df, test_recipe, ingredient_list, adj_mat):\n",
        "  ingr_signal = createIngredientSignal(df,test_recipe,ingredient_list)\n",
        "  gtvs = np.ones([len(ingr_signal),1])*10000\n",
        "  lap = compute_laplacian(adj_mat, True)\n",
        "  for i in range(len(ingr_signal)):\n",
        "    new_ingr_signal = np.reshape(ingr_signal,(len(ingr_signal),1))\n",
        "    if ingr_signal[i] == 0:\n",
        "        new_ingr_signal[i] = 1\n",
        "        gtv = new_ingr_signal.T @ lap @ new_ingr_signal\n",
        "        gtvs[i] = gtv\n",
        "        ingr_signal[i] = 0\n",
        "  new_ingr_ndx = np.argmin(gtvs)\n",
        "  new_ingredient = ingredient_list[new_ingr_ndx]\n",
        "  recipe_name = df.iloc[test_recipe]['title']\n",
        "  original_ingredients = ingredient_list[ingr_signal > 0]\n",
        "  return new_ingredient, recipe_name, original_ingredients"
      ],
      "execution_count": 0,
      "outputs": []
    },
    {
      "cell_type": "code",
      "metadata": {
        "id": "jnHTGdGvgNwK",
        "colab_type": "code",
        "outputId": "c0f00ed6-5571-4ba9-ff5d-d4c979482f6a",
        "colab": {
          "base_uri": "https://localhost:8080/",
          "height": 646
        }
      },
      "source": [
        "test_recipes = [14, 8, 19, 39, 60, 73]\n",
        "for tr in test_recipes:\n",
        "  print(\"Recipe name: {1}\\nOriginal Ingredients: {2}\\nSuggested Ingredient: {0}\\n\".format(*predictNewIngredient(df, tr, ingredient_list, adj_mat)))"
      ],
      "execution_count": 0,
      "outputs": [
        {
          "output_type": "stream",
          "text": [
            "Recipe name: Broccoli Chicken Casserole Recipe\n",
            "Original Ingredients: ['broccoli, raw' 'cheese, cheddar'\n",
            " 'chicken, broiler or fryers, breast, skinless, boneless, meat only, raw'\n",
            " 'lemon juice, raw'\n",
            " 'rice, white, long-grain, regular, unenriched, cooked without salt'\n",
            " 'salad dressing, mayonnaise, regular'\n",
            " 'soup, cream of chicken, canned, condensed']\n",
            "Suggested Ingredient: grapes, red or green (european type, such as thompson seedless), raw\n",
            "\n",
            "Recipe name: Chocolate-Orange Angel Food Cake\n",
            "Original Ingredients: ['cocoa, dry powder, unsweetened' 'egg, white, raw, fresh'\n",
            " 'orange juice, raw' 'salt, table' 'sugars, granulated' 'sugars, powdered'\n",
            " 'wheat flour, white, cake, enriched']\n",
            "Suggested Ingredient: cream, whipped, cream topping, pressurized\n",
            "\n",
            "Recipe name: Mango Lassi\n",
            "Original Ingredients: ['mango nectar, canned' 'spices, saffron' 'sugars, granulated'\n",
            " 'water, bottled, generic' 'yogurt, greek, plain, nonfat']\n",
            "Suggested Ingredient: strawberries, raw\n",
            "\n",
            "Recipe name: Creamy Curry Salad Dressing\n",
            "Original Ingredients: ['honey' 'lemon juice, raw' 'salad dressing, mayonnaise, regular'\n",
            " 'salt, table' 'spices, curry powder' 'spices, pepper, black'\n",
            " 'water, bottled, generic' 'yogurt, greek, plain, nonfat']\n",
            "Suggested Ingredient: leavening agents, yeast, baker's, active dry\n",
            "\n",
            "Recipe name: Cheesy POPcorn\n",
            "Original Ingredients: ['butter, without salt' 'cheese, parmesan, hard' 'corn, sweet, white, raw'\n",
            " 'oil, olive, salad or cooking']\n",
            "Suggested Ingredient: pretzels, soft, unsalted\n",
            "\n",
            "Recipe name: Homemade Ice Magic\n",
            "Original Ingredients: ['butter, without salt'\n",
            " 'milk, fluid, 1% fat, without added vitamin a and vitamin d'\n",
            " 'oil, olive, salad or cooking']\n",
            "Suggested Ingredient: potatoes, raw, skin\n",
            "\n"
          ],
          "name": "stdout"
        }
      ]
    },
    {
      "cell_type": "markdown",
      "metadata": {
        "id": "7JMW2bD2KWwz",
        "colab_type": "text"
      },
      "source": [
        "First word of recipe only"
      ]
    },
    {
      "cell_type": "code",
      "metadata": {
        "id": "Wcva-LxVJ7ZF",
        "colab_type": "code",
        "colab": {}
      },
      "source": [
        "def predictNewIngredientFirstWord(df, test_recipe, ingredient_list, adj_mat):\n",
        "  ingr_signal = createIngredientSignalFirstWord(df,test_recipe,ingredient_list)\n",
        "  laplacian = compute_laplacian(adj_mat, normalize=True)\n",
        "  lam, U = spectral_decomposition(laplacian)\n",
        "  ideal_lp = np.ones(lam.shape)\n",
        "  ideal_lp[lam >= 1] = 0  #too lowpass suggests only base ingredients\n",
        "  ideal_lp[lam <= 0.8] = 0  # Low-pass filter with cut-off at lambda=1\n",
        "  x_lp = ideal_graph_filter(ingr_signal,ideal_lp,U)\n",
        "  x_lp[ingr_signal > 0] = 0;\n",
        "  new_ingr_ndx = np.argmax(x_lp)\n",
        "  new_ingredient = ingredient_list[new_ingr_ndx]\n",
        "  recipe_name = df.iloc[test_recipe]['title']\n",
        "  original_ingredients = ingredient_list[ingr_signal > 0]\n",
        "  return new_ingredient, recipe_name, original_ingredients"
      ],
      "execution_count": 0,
      "outputs": []
    },
    {
      "cell_type": "code",
      "metadata": {
        "id": "nS0ZOwYrJ_5M",
        "colab_type": "code",
        "outputId": "abcce795-f9da-49d6-9355-dbd09ec514c7",
        "colab": {
          "base_uri": "https://localhost:8080/",
          "height": 68
        }
      },
      "source": [
        "test_recipe = 2\n",
        "new_ingredient, recipe_name, original_ingredients = predictNewIngredientFirstWord(df, test_recipe, ingredient_list, adj_mat)\n",
        "print(\"Recipe name: {0}\".format(recipe_name))\n",
        "print(\"Original Ingredients: {0}\".format(original_ingredients))\n",
        "print(\"Suggested Ingredient: {0}\".format(new_ingredient))"
      ],
      "execution_count": 0,
      "outputs": [
        {
          "output_type": "stream",
          "text": [
            "Recipe name: Honey Sriracha Chicken Wings\n",
            "Original Ingredients: ['honey' 'soy sauce made from soy (tamari)']\n",
            "Suggested Ingredient: oil, sesame, salad or cooking\n"
          ],
          "name": "stdout"
        }
      ]
    }
  ]
}