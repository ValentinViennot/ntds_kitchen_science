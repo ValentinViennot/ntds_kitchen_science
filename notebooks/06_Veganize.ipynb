{
 "cells": [
  {
   "cell_type": "markdown",
   "metadata": {},
   "source": [
    "# kNN \"Veganization\"\n",
    "Replace an ingredient with its k nearest _vegan_ neighbors in the USDA ingreident nutrition adjacency matrix. In theory, ingredients should be replaced by ones that have similar nutritional values. Furthermore, all nonvegan ingredients are removed from suggestions and only vegan replacements are suggested."
   ]
  },
  {
   "cell_type": "code",
   "execution_count": 1,
   "metadata": {},
   "outputs": [],
   "source": [
    "%matplotlib inline\n",
    "import pandas as pd\n",
    "import numpy as np\n",
    "import matplotlib.pyplot as plt"
   ]
  },
  {
   "cell_type": "code",
   "execution_count": 6,
   "metadata": {},
   "outputs": [],
   "source": [
    "nutrition_adj_mat = np.load('../data/Adjacency_Matrix_5.npy')\n",
    "combined_adj_mat = np.load('../data/Adjacency_Matrix_9.npy')\n",
    "ingredient_list = np.load(('../data/Ingredient_List_USDA_Nutrition_Info.npy'))\n",
    "vegan_ingredient_mask = np.load(('../data/Vegan_Ingredient_Mask_USDA_Nutrition_Info.npy'))"
   ]
  },
  {
   "cell_type": "code",
   "execution_count": 7,
   "metadata": {},
   "outputs": [],
   "source": [
    "def suggestKBestVeganReplacements(nutrition_adj_mat,ingr_number,k, nonvegan_mask):\n",
    "     \"\"\" Find the indices of the k nearest vegan neighbors of a given ingredient using the adjacency matrix weights\"\"\"\n",
    "    adj_values_2 = nutrition_adj_mat[ingr_number,:]\n",
    "    adj_values_2[nonvegan_mask] = 0\n",
    "    maxvals = idx = (-adj_values_2).argsort()[:k]\n",
    "    if (np.all(adj_values_2 == 0)):\n",
    "        maxvals = []\n",
    "    return maxvals"
   ]
  },
  {
   "cell_type": "code",
   "execution_count": 8,
   "metadata": {},
   "outputs": [],
   "source": [
    "nonvegan_mask = [not i for i in vegan_ingredient_mask]"
   ]
  },
  {
   "cell_type": "code",
   "execution_count": 9,
   "metadata": {},
   "outputs": [
    {
     "name": "stdout",
     "output_type": "stream",
     "text": [
      "Original Ingredient: beef, rib eye steak, boneless, lip off, separable lean and fat, trimmed to 0\" fat, all grades, cooked, grilled\n",
      "5 best replacements: ['edamame, frozen, prepared'\n",
      " 'tofu, raw, regular, prepared with calcium sulfate'\n",
      " 'beans, kidney, all types, mature seeds, raw'\n",
      " \"leavening agents, yeast, baker's, active dry\" 'mushrooms, white, raw']\n"
     ]
    }
   ],
   "source": [
    "#25 is beef\n",
    "ingr_number = 25\n",
    "k = 5\n",
    "maxvals2 = suggestKBestVeganReplacements(nutrition_adj_mat,ingr_number,k, nonvegan_mask)\n",
    "print(\"Original Ingredient: {0}\".format(ingredient_list[ingr_number]))\n",
    "if (len(maxvals2)==0):\n",
    "    print(\"No replacements found!\")\n",
    "else: \n",
    "    print(\"{0} best replacements: {1}\".format(k,ingredient_list[maxvals2]))"
   ]
  },
  {
   "cell_type": "markdown",
   "metadata": {},
   "source": [
    "Try with the combined recipe/nutrition matrix"
   ]
  },
  {
   "cell_type": "code",
   "execution_count": 31,
   "metadata": {},
   "outputs": [
    {
     "name": "stdout",
     "output_type": "stream",
     "text": [
      "Original Ingredient: cheese, goat, soft type\n",
      "5 best replacements: ['seeds, sesame seeds, whole, dried'\n",
      " 'seeds, sesame butter, tahini, from roasted and toasted kernels (most common type)'\n",
      " 'nuts, almonds' 'seeds, hemp seed, hulled'\n",
      " 'seeds, pumpkin and squash seeds, whole, roasted, without salt']\n"
     ]
    }
   ],
   "source": [
    "ingr_number = 65\n",
    "k = 5\n",
    "maxvals2 = suggestKBestVeganReplacements(combined_adj_mat,ingr_number,k, nonvegan_mask)\n",
    "print(\"Original Ingredient: {0}\".format(ingredient_list[ingr_number]))\n",
    "if (len(maxvals2)==0):\n",
    "    print(\"No replacements found!\")\n",
    "else: \n",
    "    print(\"{0} best replacements: {1}\".format(k,ingredient_list[maxvals2]))"
   ]
  }
 ],
 "metadata": {
  "kernelspec": {
   "display_name": "Python 3",
   "language": "python",
   "name": "python3"
  },
  "language_info": {
   "codemirror_mode": {
    "name": "ipython",
    "version": 3
   },
   "file_extension": ".py",
   "mimetype": "text/x-python",
   "name": "python",
   "nbconvert_exporter": "python",
   "pygments_lexer": "ipython3",
   "version": "3.7.3"
  }
 },
 "nbformat": 4,
 "nbformat_minor": 2
}
