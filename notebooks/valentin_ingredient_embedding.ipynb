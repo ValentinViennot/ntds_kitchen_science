{
 "cells": [
  {
   "cell_type": "code",
   "execution_count": 37,
   "metadata": {},
   "outputs": [
    {
     "name": "stdout",
     "output_type": "stream",
     "text": [
      "Requirement already satisfied: jellyfish in /opt/anaconda3/lib/python3.7/site-packages (0.7.2)\r\n"
     ]
    }
   ],
   "source": [
    "import pandas as pd\n",
    "import numpy as np\n",
    "import matplotlib.pyplot as plt\n",
    "%matplotlib inline\n",
    "import os\n",
    "import json\n",
    "from pandas.io.json import json_normalize\n",
    "import sys\n",
    "!{sys.executable} -m pip install jellyfish\n",
    "import jellyfish"
   ]
  },
  {
   "cell_type": "code",
   "execution_count": 24,
   "metadata": {},
   "outputs": [],
   "source": [
    "DATA_PATH='../data'\n",
    "RECIPES1M_SMALL_FILE='recipes1M_small'\n",
    "# options are recipe_pineapple.json and recipe_salmon.json"
   ]
  },
  {
   "cell_type": "code",
   "execution_count": 21,
   "metadata": {},
   "outputs": [],
   "source": [
    "dataset_path = os.path.join(DATA_PATH, RECIPES1M_SMALL_FILE, 'recipe_pineapple.json')\n",
    "df = pd.read_json(dataset_path, orient='index')"
   ]
  },
  {
   "cell_type": "code",
   "execution_count": 22,
   "metadata": {},
   "outputs": [
    {
     "data": {
      "text/html": [
       "<div>\n",
       "<style scoped>\n",
       "    .dataframe tbody tr th:only-of-type {\n",
       "        vertical-align: middle;\n",
       "    }\n",
       "\n",
       "    .dataframe tbody tr th {\n",
       "        vertical-align: top;\n",
       "    }\n",
       "\n",
       "    .dataframe thead th {\n",
       "        text-align: right;\n",
       "    }\n",
       "</style>\n",
       "<table border=\"1\" class=\"dataframe\">\n",
       "  <thead>\n",
       "    <tr style=\"text-align: right;\">\n",
       "      <th></th>\n",
       "      <th>id</th>\n",
       "      <th>ingredients</th>\n",
       "      <th>instructions</th>\n",
       "      <th>partition</th>\n",
       "      <th>title</th>\n",
       "      <th>url</th>\n",
       "    </tr>\n",
       "  </thead>\n",
       "  <tbody>\n",
       "    <tr>\n",
       "      <td>0000631d90</td>\n",
       "      <td>0000631d90</td>\n",
       "      <td>[{'text': '1/2 cup shredded coconut'}, {'text'...</td>\n",
       "      <td>[{'text': 'In a large skillet, toast the cocon...</td>\n",
       "      <td>train</td>\n",
       "      <td>Easy Tropical Beef Skillet</td>\n",
       "      <td>http://www.food.com/recipe/easy-tropical-beef-...</td>\n",
       "    </tr>\n",
       "    <tr>\n",
       "      <td>0000ed95f8</td>\n",
       "      <td>0000ed95f8</td>\n",
       "      <td>[{'text': '1/4 cup butter'}, {'text': '3/4 cup...</td>\n",
       "      <td>[{'text': 'Cream butter, sugar and egg.'}, {'t...</td>\n",
       "      <td>train</td>\n",
       "      <td>Pineapple Loaf</td>\n",
       "      <td>http://www.food.com/recipe/pineapple-loaf-88070</td>\n",
       "    </tr>\n",
       "    <tr>\n",
       "      <td>0007cacb2d</td>\n",
       "      <td>0007cacb2d</td>\n",
       "      <td>[{'text': '1 (3 ounce) package lemon Jell-O ge...</td>\n",
       "      <td>[{'text': 'Use 3/4 cup boiling water to dissol...</td>\n",
       "      <td>train</td>\n",
       "      <td>Lemon Gelatin N Fruit Salad</td>\n",
       "      <td>http://www.food.com/recipe/lemon-gelatin-n-fru...</td>\n",
       "    </tr>\n",
       "    <tr>\n",
       "      <td>0009dae0d8</td>\n",
       "      <td>0009dae0d8</td>\n",
       "      <td>[{'text': '2 cups sugar'}, {'text': '3 eggs'},...</td>\n",
       "      <td>[{'text': 'Preheat oven to 350*.'}, {'text': '...</td>\n",
       "      <td>test</td>\n",
       "      <td>Zucchini Carrot Spice Muffins</td>\n",
       "      <td>http://www.food.com/recipe/zucchini-carrot-spi...</td>\n",
       "    </tr>\n",
       "    <tr>\n",
       "      <td>000c364a4a</td>\n",
       "      <td>000c364a4a</td>\n",
       "      <td>[{'text': '8 ounces cream cheese'}, {'text': '...</td>\n",
       "      <td>[{'text': 'Mix the butter and the cream cheese...</td>\n",
       "      <td>train</td>\n",
       "      <td>Aunt Julie's Pineapple Cookies</td>\n",
       "      <td>http://www.food.com/recipe/aunt-julies-pineapp...</td>\n",
       "    </tr>\n",
       "  </tbody>\n",
       "</table>\n",
       "</div>"
      ],
      "text/plain": [
       "                    id                                        ingredients  \\\n",
       "0000631d90  0000631d90  [{'text': '1/2 cup shredded coconut'}, {'text'...   \n",
       "0000ed95f8  0000ed95f8  [{'text': '1/4 cup butter'}, {'text': '3/4 cup...   \n",
       "0007cacb2d  0007cacb2d  [{'text': '1 (3 ounce) package lemon Jell-O ge...   \n",
       "0009dae0d8  0009dae0d8  [{'text': '2 cups sugar'}, {'text': '3 eggs'},...   \n",
       "000c364a4a  000c364a4a  [{'text': '8 ounces cream cheese'}, {'text': '...   \n",
       "\n",
       "                                                 instructions partition  \\\n",
       "0000631d90  [{'text': 'In a large skillet, toast the cocon...     train   \n",
       "0000ed95f8  [{'text': 'Cream butter, sugar and egg.'}, {'t...     train   \n",
       "0007cacb2d  [{'text': 'Use 3/4 cup boiling water to dissol...     train   \n",
       "0009dae0d8  [{'text': 'Preheat oven to 350*.'}, {'text': '...      test   \n",
       "000c364a4a  [{'text': 'Mix the butter and the cream cheese...     train   \n",
       "\n",
       "                                     title  \\\n",
       "0000631d90      Easy Tropical Beef Skillet   \n",
       "0000ed95f8                  Pineapple Loaf   \n",
       "0007cacb2d     Lemon Gelatin N Fruit Salad   \n",
       "0009dae0d8   Zucchini Carrot Spice Muffins   \n",
       "000c364a4a  Aunt Julie's Pineapple Cookies   \n",
       "\n",
       "                                                          url  \n",
       "0000631d90  http://www.food.com/recipe/easy-tropical-beef-...  \n",
       "0000ed95f8    http://www.food.com/recipe/pineapple-loaf-88070  \n",
       "0007cacb2d  http://www.food.com/recipe/lemon-gelatin-n-fru...  \n",
       "0009dae0d8  http://www.food.com/recipe/zucchini-carrot-spi...  \n",
       "000c364a4a  http://www.food.com/recipe/aunt-julies-pineapp...  "
      ]
     },
     "execution_count": 22,
     "metadata": {},
     "output_type": "execute_result"
    }
   ],
   "source": [
    "df.head()"
   ]
  },
  {
   "cell_type": "code",
   "execution_count": 54,
   "metadata": {},
   "outputs": [],
   "source": [
    "all_ingredients_lines = []\n",
    "raw_ingredients = df[['ingredients']].values\n",
    "for ri in raw_ingredients:\n",
    "    for i in ri[0]:\n",
    "        all_ingredients_lines += [i['text']]"
   ]
  },
  {
   "cell_type": "code",
   "execution_count": 102,
   "metadata": {},
   "outputs": [],
   "source": [
    "import re\n",
    "\n",
    "def append_lines_to_words(lines, words):\n",
    "    for line in lines:\n",
    "        words += re.sub('[^a-z ]', '', line.lower()).split(' ')\n",
    "\n",
    "all_ingredients_words = []\n",
    "append_lines_to_words(all_ingredients_lines, all_ingredients_words)\n",
    "all_ingredients_words, all_ingredients_words_count = np.unique(all_ingredients_words, return_counts=True)\n",
    "count_sort_ind = all_ingredients_words_count.argsort()\n",
    "all_ingredients_words = all_ingredients_words[count_sort_ind[::-1]]\n",
    "all_ingredients_words_count = all_ingredients_words_count[count_sort_ind[::-1]]\n",
    "#print(all_ingredients_words[:500])\n",
    "#print(all_ingredients_words_count[:10])"
   ]
  },
  {
   "cell_type": "code",
   "execution_count": 103,
   "metadata": {},
   "outputs": [
    {
     "name": "stdout",
     "output_type": "stream",
     "text": [
      "['almond' 'almonds' 'apple' 'apples' 'applesauce' 'apricot' 'apricots'\n",
      " 'avocado' 'bacon' 'banana' 'bananas' 'basil' 'bean' 'beans' 'beef'\n",
      " 'berry' 'blueberries' 'bread' 'breadcrumbs' 'buns' 'butter' 'buttermilk'\n",
      " 'canola' 'cantaloupe' 'carrot' 'carrots' 'cayenne' 'celery' 'cheddar'\n",
      " 'cheese' 'cherries' 'cherry' 'chestnuts' 'chicken' 'chile' 'chiles'\n",
      " 'chili' 'chipotle' 'chocolate' 'cider' 'cinnamon' 'coconut' 'coriander'\n",
      " 'corn' 'cornstarch' 'crackers' 'cranberries' 'cranberry' 'cream'\n",
      " 'cucumber' 'cumin' 'curacao' 'curry' 'dates' 'egg' 'eggs' 'fish' 'flakes'\n",
      " 'flour' 'garlic' 'ginger' 'gingerroot' 'grape' 'grapefruit' 'grapes'\n",
      " 'grenadine' 'honey' 'ice' 'jalapeno' 'ketchup' 'kiwi' 'lemon' 'lemonade'\n",
      " 'lemonlime' 'lemons' 'lettuce' 'lime' 'limes' 'macadamia' 'malibu'\n",
      " 'mandarin' 'mango' 'mangoes' 'maple' 'maraschino' 'margarine'\n",
      " 'marshmallow' 'marshmallows' 'mayonnaise' 'melon' 'milk' 'molasses'\n",
      " 'mozzarella' 'mushrooms' 'mustard' 'noodles' 'nuts' 'oats' 'oil' 'olive'\n",
      " 'onion' 'onions' 'orange' 'oranges' 'oregano' 'papaya' 'paprika' 'pasta'\n",
      " 'peach' 'peaches' 'peanut' 'peanuts' 'pears' 'peas' 'pecan' 'pecans'\n",
      " 'pepper' 'peppers' 'philadelphia' 'pineapple' 'pork' 'potatoes' 'raisins'\n",
      " 'raspberries' 'raspberry' 'rice' 'rum' 'salad' 'salt' 'scallions'\n",
      " 'schnapps' 'sesame' 'sherry' 'shrimp' 'skewers' 'soda' 'soy' 'spinach'\n",
      " 'steak' 'strawberries' 'strawberry' 'sugar' 'tea' 'tequila' 'teriyaki'\n",
      " 'thyme' 'tomato' 'tomatoes' 'tortillas' 'turkey' 'vanilla' 'vinegar'\n",
      " 'vodka' 'walnuts' 'water' 'wine' 'yogurt' 'zucchini']\n",
      "158\n"
     ]
    }
   ],
   "source": [
    "exclusion_list = ['', 'cup', 'ounce', 'cups', 'teaspoon', 'juice', 'tablespoons', 'chopped', 'can', 'or', 'ounces', 'fresh', 'and', 'crushed', 'tablespoon', 'drained', 'teaspoons', 'sauce', 'sliced', 'cut', 'ground', 'into', 'brown', 'chunks', 'red', 'c', 'in', 'peeled', 'diced', 'large', 'to', 'inch', 'minced', 'green', 'powder', 'white', 'of', 'oz', 'whole', 'for', 'baking', 'tbsp', 'optional', 'lb', 'package', 'frozen', 'finely', 'mix', 'tsp', 'slices', 'extract', 'small', 'grated', 'medium', 'canned', 'shredded', 'ml', 'softened', 'pieces', 'vegetable', 'light', 'black', 'cloves', 'unsweetened', 'cooked', 'packed', 'bell', 'taste', 'with', 'allpurpose', 'whip', 'whipped', 'dried', 'syrup', 'thawed', 'cake',  'jello', 'about', 'garnish', 'cilantro', 'gelatin', 'cubes', 'g', 'each', 'boneless', 'pound', 'cans', 'toasted', 'the', 'cool', 'topping', 'leaves', 'pudding', 'sweet', 'dark', 'cored', 'fluid', 'lbs', 'sour', 'seeded', 'undrained', 'instant', 'melted', 'ripe', 'tidbits', 'dry', 'as', 'use', 'chilled', 'thinly', 'a', 'cubed', 'divided', 'box', 'beaten', 'x', 'pkg', 'yellow', 'removed', 'fruit', 'halved', 'sweetened', 'well', 'freshly', 'cold', 'hot', 'powdered', 'flaked', 'skinless', 'liquid', 'granulated', 'container', 'nutmeg', 'i', 'concentrate', 'pie', 'boiling', 'unsalted', 'mint', 'breasts', 'packages', 'plus', 'pinch', 'seeds', 'zest', 'reserved', 'candied', 'ham', 'lowfat', 'if', 'from', 'clove', 'dash', 'size', 'coarsely', 'heavy', 'strips', 'slice', 'not', 'more', 'liqueur', 'chunk', 'room', 'thick', 'miniature', 'seedless', 'bottle', 'half', 'halves', 'pounds', 'pint', 'rings', 'temperature', 'jar', 'breast', 'plain', 'graham', 'thin', 'your', 'whipping', 'kosher', 'wedges', 'possibly', 'quart', 'ale', 'prepared', 'flavor', 'fat', 'wheat', 'cracker', 'filling', 'kraft', 'dressing', 'cooking', 'pitted', 'weight', 'golden', 'quartered', 'reserve', 'you', 'up', 'recipe', 'such', 'stick', 'confectioners', 'crumbs', 'free', 'thru', 'one', 'allspice', 'peel', 'fine', 'broth', 'mashed', 'condensed', 'food', 'mixed', 'liter', 'worcestershire', 'serving', 'substitute', 'preserves', 'at', 'on', 'seasoning', 'whites', 'flavored', 'paste', 'extra', 'lightly', 'parsley', 'barbecue', 'crust', 'firmly', 'sticks', 'spray', 'lengthwise', 'baby', 'quarts', 'cabbage', 'dijon', 'is', 'sifted', 'cottage', 'squeezed', 'needed', 'low', 'qt', 'brandy', 'like', 'fatfree', 'nectar', 'juiced', 'used', 'nonfat', 'rind', 'roasted', 'drink', 'sea', 'grams', 'carton', 'leaf', 'drain', 'angel', 'very', 'yolks', 'slivered', 'any', 'uncooked', 'pure', 'sugarfree', 'trimmed', 'sherbet', 'cocktail', 'raw', 'deveined', 'original', 'bag', 'dice', 'desired', 'other', 'fillets', 'sodium', 'mini', 'chops', 'follows', 'chips', 'splenda', 'brand', 'stock', 'seed', 'rinsed', 'bunch', 'lean', 'grm', 'firm', 'soft', 'carbonated', 'by', 'split', 'shortening', 'sprigs', 'roughly', 'see', 'cube', 'sm', 'do', 'all', 'beverage', 'pizza', 'italian', 'evaporated', 'triple', 'sec', 'spice', 'blue', 'bottles', 'tenderloin', 'slightly', 'safeway', 'salsa', 'head', 'steaks', 'preferably', 'ribs', 'separated', 'it', 'smoked', 'grnd', 'loin', 'piece', 'dole', 'warm', 'recommended', 'but', 'jelly', 'called', 'no', 'unflavored', 'fruits', 'unpeeled', 'frying']\n",
    "ingredients_500 = np.setdiff1d(all_ingredients_words[:500], exclusion_list)\n",
    "print(ingredients_500)\n",
    "print(len(ingredients_500))"
   ]
  },
  {
   "cell_type": "code",
   "execution_count": 104,
   "metadata": {},
   "outputs": [
    {
     "name": "stdout",
     "output_type": "stream",
     "text": [
      "removing almonds keeping almond\n",
      "removing apples keeping apple\n",
      "removing apricots keeping apricot\n",
      "removing bananas keeping banana\n",
      "removing beans keeping bean\n",
      "removing carrots keeping carrot\n",
      "removing chiles keeping chile\n",
      "removing eggs keeping egg\n",
      "removing grapes keeping grape\n",
      "removing rice keeping ice\n",
      "removing lemons keeping lemon\n",
      "removing limes keeping lime\n",
      "removing mangoes keeping mango\n",
      "removing marshmallows keeping marshmallow\n",
      "removing onions keeping onion\n",
      "removing oranges keeping orange\n",
      "removing peaches keeping peach\n",
      "removing peanuts keeping peanut\n",
      "removing peas keeping pears\n",
      "removing pecans keeping pecan\n",
      "removing peppers keeping pepper\n",
      "removing tomatoes keeping tomato\n",
      "136\n"
     ]
    }
   ],
   "source": [
    "ingredients_double = []\n",
    "threshold=0.9\n",
    "for indx, i in enumerate(ingredients_500):\n",
    "    for j in ingredients_500[(indx+1):]:\n",
    "        if jellyfish.jaro_distance(i,j) > threshold:\n",
    "            print('removing', j, 'keeping', i)\n",
    "            ingredients_double += [j]\n",
    "ingredients_filtered = np.setdiff1d(ingredients_500, ingredients_double)\n",
    "print(len(ingredients_filtered))"
   ]
  },
  {
   "cell_type": "code",
   "execution_count": 115,
   "metadata": {},
   "outputs": [
    {
     "data": {
      "text/plain": [
       "Index(['0000631d90', '0000ed95f8', '0007cacb2d', '0009dae0d8', '000c364a4a',\n",
       "       '000d5e4996', '000f31efed', '00111b70f6', '0013894a19', '00141df42c',\n",
       "       ...\n",
       "       'ffdb3f64f2', 'ffdeb48607', 'ffe16dbe80', 'ffe2f5b61e', 'ffe5b4b038',\n",
       "       'ffe69a4b42', 'ffecc4f6c8', 'fff3cf4fd0', 'fff787905b', 'fffcb1da87'],\n",
       "      dtype='object', length=23052)"
      ]
     },
     "execution_count": 115,
     "metadata": {},
     "output_type": "execute_result"
    }
   ],
   "source": [
    "def parse_ingredients_words(data):\n",
    "    lines = []\n",
    "    for insert in data:\n",
    "        lines += [insert['text']]\n",
    "    words = []\n",
    "    append_lines_to_words(lines, words)\n",
    "    return np.setdiff1d(words, exclusion_list)\n",
    "\n",
    "transformed_df = df['ingredients'].apply(parse_ingredients_words)\n",
    "#transformed_df.index\n",
    "#transformed_df.values"
   ]
  },
  {
   "cell_type": "code",
   "execution_count": 127,
   "metadata": {},
   "outputs": [],
   "source": [
    "ingredients_matrix = np.zeros((len(transformed_df.values), len(ingredients_filtered)))\n",
    "for i, composition in enumerate(transformed_df.values):\n",
    "    for j, ingredient in enumerate(ingredients_filtered):\n",
    "        for content in composition:\n",
    "            if jellyfish.jaro_distance(content, ingredient) > threshold:\n",
    "                ingredients_matrix[i,j] = 1\n"
   ]
  },
  {
   "cell_type": "code",
   "execution_count": 144,
   "metadata": {},
   "outputs": [
    {
     "name": "stdout",
     "output_type": "stream",
     "text": [
      "checksum\n",
      "*** Easy Tropical Beef Skillet ***\n",
      "['beef' 'coconut' 'cornstarch']\n",
      "*** Pineapple Loaf ***\n",
      "['butter' 'egg']\n",
      "*** Lemon Gelatin N Fruit Salad ***\n",
      "['cheese']\n",
      "*** Zucchini Carrot Spice Muffins ***\n",
      "['apple' 'carrot' 'cinnamon' 'egg']\n",
      "*** Aunt Julie's Pineapple Cookies ***\n",
      "['butter' 'cheese' 'cream']\n"
     ]
    }
   ],
   "source": [
    "print('checksum')\n",
    "nb_recipes_to_show=5\n",
    "nb_ingredients_to_show=50\n",
    "ingredients_demo = ingredients_filtered[:nb_ingredients_to_show]\n",
    "demo = zip(\n",
    "    df.loc[transformed_df.index[:nb_recipes_to_show],:][['title']].values,\n",
    "    ingredients_matrix[:nb_recipes_to_show, :nb_ingredients_to_show]\n",
    ")\n",
    "for title, ingredients in demo:\n",
    "    print('***', title[0], '***')\n",
    "    print(ingredients_demo[ingredients == 1])\n"
   ]
  },
  {
   "cell_type": "code",
   "execution_count": 148,
   "metadata": {},
   "outputs": [
    {
     "ename": "NameError",
     "evalue": "name 'y_mnist' is not defined",
     "output_type": "error",
     "traceback": [
      "\u001b[0;31m---------------------------------------------------------------------------\u001b[0m",
      "\u001b[0;31mNameError\u001b[0m                                 Traceback (most recent call last)",
      "\u001b[0;32m<ipython-input-148-0c479e369e1e>\u001b[0m in \u001b[0;36m<module>\u001b[0;34m\u001b[0m\n\u001b[1;32m      9\u001b[0m \u001b[0mclasses\u001b[0m\u001b[0;34m=\u001b[0m\u001b[0;34m[\u001b[0m\u001b[0;36m0\u001b[0m\u001b[0;34m]\u001b[0m\u001b[0;34m\u001b[0m\u001b[0;34m\u001b[0m\u001b[0m\n\u001b[1;32m     10\u001b[0m \u001b[0;32mfor\u001b[0m \u001b[0mi\u001b[0m \u001b[0;32min\u001b[0m \u001b[0mclasses\u001b[0m\u001b[0;34m:\u001b[0m\u001b[0;34m\u001b[0m\u001b[0;34m\u001b[0m\u001b[0m\n\u001b[0;32m---> 11\u001b[0;31m     \u001b[0mmask\u001b[0m \u001b[0;34m=\u001b[0m \u001b[0my_mnist\u001b[0m \u001b[0;34m==\u001b[0m \u001b[0mi\u001b[0m\u001b[0;34m\u001b[0m\u001b[0;34m\u001b[0m\u001b[0m\n\u001b[0m\u001b[1;32m     12\u001b[0m     \u001b[0mplt\u001b[0m\u001b[0;34m.\u001b[0m\u001b[0mscatter\u001b[0m\u001b[0;34m(\u001b[0m\u001b[0mX_embedded\u001b[0m\u001b[0;34m[\u001b[0m\u001b[0mmask\u001b[0m\u001b[0;34m,\u001b[0m \u001b[0;36m0\u001b[0m\u001b[0;34m]\u001b[0m\u001b[0;34m,\u001b[0m \u001b[0mX_embedded\u001b[0m\u001b[0;34m[\u001b[0m\u001b[0mmask\u001b[0m\u001b[0;34m,\u001b[0m \u001b[0;36m1\u001b[0m\u001b[0;34m]\u001b[0m\u001b[0;34m,\u001b[0m \u001b[0mlabel\u001b[0m\u001b[0;34m=\u001b[0m\u001b[0mi\u001b[0m\u001b[0;34m)\u001b[0m\u001b[0;34m\u001b[0m\u001b[0;34m\u001b[0m\u001b[0m\n\u001b[1;32m     13\u001b[0m \u001b[0mplt\u001b[0m\u001b[0;34m.\u001b[0m\u001b[0mlegend\u001b[0m\u001b[0;34m(\u001b[0m\u001b[0;34m)\u001b[0m\u001b[0;34m\u001b[0m\u001b[0;34m\u001b[0m\u001b[0m\n",
      "\u001b[0;31mNameError\u001b[0m: name 'y_mnist' is not defined"
     ]
    },
    {
     "data": {
      "text/plain": [
       "<Figure size 432x288 with 0 Axes>"
      ]
     },
     "metadata": {},
     "output_type": "display_data"
    }
   ],
   "source": [
    "#from sklearn.decomposition import PCA\n",
    "#from sklearn.manifold import TSNE, Isomap\n",
    "from sklearn.manifold import TSNE\n",
    "\n",
    "#embeddings = [PCA(n_components=2, copy=True, whiten=True, tol=1e-5), Isomap(n_components=2, n_neighbors=5), TSNE(n_components=2)]\n",
    "embedding = TSNE(n_components=2)\n",
    "\n",
    "X_embedded = embedding.fit_transform(ingredients_matrix)"
   ]
  },
  {
   "cell_type": "code",
   "execution_count": 150,
   "metadata": {},
   "outputs": [
    {
     "data": {
      "image/png": "[encoded data removed]",
      "text/plain": [
       "<Figure size 432x288 with 1 Axes>"
      ]
     },
     "metadata": {
      "needs_background": "light"
     },
     "output_type": "display_data"
    }
   ],
   "source": [
    "fig = plt.figure()\n",
    "plt.scatter(X_embedded[:, 0], X_embedded[:, 1])\n",
    "#plt.legend()\n",
    "plt.title('Embedding method: '+ type(embedding).__name__)\n",
    "plt.show()"
   ]
  },
  {
   "cell_type": "markdown",
   "metadata": {},
   "source": [
    "> Note: The following is just for visualization. As the class salty/desert is computed from the list of ingredients, showing the relation between ingredients information and salty/desert class will obviously have good results. A snake biting its own tail."
   ]
  },
  {
   "cell_type": "code",
   "execution_count": 158,
   "metadata": {},
   "outputs": [],
   "source": [
    "# -1: desert/sugar, 0: neutral, 1: meal/salted\n",
    "ingredients_class = np.array([\n",
    "    0,0,0,-1,1,1,0,1,1,1,-1,-1,0,-1,1,0,0,0,0,1,1,1,1,1,-1,-1,0,1,1,1,1,-1,0,-1,0,1,\n",
    "    0,0,0,-1,-1,0,1,0,0,1,0,0,1,0,0,1,0,0,0,0,-1,0,0,0,1,-1,0,0,0,1,0,-1,0,-1,0,-1,\n",
    "    0,0,-1,1,0,0,0,1,1,1,1,0,0,0,1,1,-1,1,-1,0,1,-1,0,-1,0,1,1,0,1,1,0,-1,-1,0,1,0,\n",
    "    0,0,0,-1,1,0,0,0,1,1,-1,-1,-1,0,0,1,0,0,1,1,0,0,0,0,0,0,0,0\n",
    "])\n",
    "recipes_class = np.empty((ingredients_matrix.shape[0],))\n",
    "for i, recipe in enumerate(ingredients_matrix):\n",
    "    recipes_class[i] = np.mean(ingredients_class[recipe == 1])"
   ]
  },
  {
   "cell_type": "code",
   "execution_count": 160,
   "metadata": {},
   "outputs": [
    {
     "name": "stdout",
     "output_type": "stream",
     "text": [
      "checksum\n",
      "['Easy Tropical Beef Skillet'] 0.0\n",
      "['Pineapple Loaf'] -0.2222222222222222\n",
      "['Lemon Gelatin N Fruit Salad'] 0.2857142857142857\n",
      "['Zucchini Carrot Spice Muffins'] -0.07692307692307693\n",
      "[\"Aunt Julie's Pineapple Cookies\"] 0.0\n",
      "[\"Rob and Lisa's Island-Escape Salad\"] 0.0\n",
      "['Stuffed Papaya Boats'] -0.16666666666666666\n",
      "['Pineapple Marinade'] 0.3333333333333333\n",
      "[\"Bride's Pink Punch Recipe\"] -0.5\n",
      "['Pineapple Chicken'] 0.2\n"
     ]
    }
   ],
   "source": [
    "print('checksum')\n",
    "nb_recipes_to_show=10\n",
    "demo = zip(\n",
    "    df.loc[transformed_df.index[:nb_recipes_to_show],:][['title']].values,\n",
    "    recipes_class[:nb_recipes_to_show]\n",
    ")\n",
    "for title, c in demo:\n",
    "    print(title, c)"
   ]
  },
  {
   "cell_type": "code",
   "execution_count": 164,
   "metadata": {},
   "outputs": [
    {
     "name": "stderr",
     "output_type": "stream",
     "text": [
      "/opt/anaconda3/lib/python3.7/site-packages/ipykernel_launcher.py:3: RuntimeWarning: invalid value encountered in less_equal\n",
      "  This is separate from the ipykernel package so we can avoid doing imports until\n",
      "/opt/anaconda3/lib/python3.7/site-packages/ipykernel_launcher.py:4: RuntimeWarning: invalid value encountered in greater\n",
      "  after removing the cwd from sys.path.\n"
     ]
    },
    {
     "data": {
      "image/png": "[encoded data removed]",
      "text/plain": [
       "<Figure size 432x288 with 1 Axes>"
      ]
     },
     "metadata": {
      "needs_background": "light"
     },
     "output_type": "display_data"
    }
   ],
   "source": [
    "fig = plt.figure()\n",
    "classes = [\n",
    "    ('desert', recipes_class<=0),\n",
    "    ('salty', recipes_class>0)\n",
    "]\n",
    "for name, mask in classes:\n",
    "    plt.scatter(X_embedded[mask, 0], X_embedded[mask, 1], label=name)\n",
    "plt.legend()\n",
    "plt.title('Embedding method: '+ type(embedding).__name__)\n",
    "plt.show()"
   ]
  }
 ],
 "metadata": {
  "kernelspec": {
   "display_name": "Python 3",
   "language": "python",
   "name": "python3"
  },
  "language_info": {
   "codemirror_mode": {
    "name": "ipython",
    "version": 3
   },
   "file_extension": ".py",
   "mimetype": "text/x-python",
   "name": "python",
   "nbconvert_exporter": "python",
   "pygments_lexer": "ipython3",
   "version": "3.7.4"
  }
 },
 "nbformat": 4,
 "nbformat_minor": 2
}
