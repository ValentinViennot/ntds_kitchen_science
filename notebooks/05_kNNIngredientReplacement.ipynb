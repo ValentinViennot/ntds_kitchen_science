{
 "cells": [
  {
   "cell_type": "markdown",
   "metadata": {},
   "source": [
    "# kNN Ingredient Replacement\n",
    "Replace an ingredient with its k nearest neighbors in the USDA ingreident nutrition adjacency matrix. In theory, ingredients should be replaced by ones that have similar nutritional values."
   ]
  },
  {
   "cell_type": "code",
   "execution_count": 1,
   "metadata": {
    "colab": {},
    "colab_type": "code",
    "id": "1N0vv2UcpPad"
   },
   "outputs": [],
   "source": [
    "%matplotlib inline\n",
    "import pandas as pd\n",
    "import numpy as np\n",
    "import matplotlib.pyplot as plt"
   ]
  },
  {
   "cell_type": "code",
   "execution_count": 2,
   "metadata": {
    "colab": {},
    "colab_type": "code",
    "id": "30TMAnXjqHpf"
   },
   "outputs": [],
   "source": [
    "nutrition_adj_mat = np.load('../data/Adjacency_Matrix_5.npy')\n",
    "combined_adj_mat = np.load('../data/Adjacency_Matrix_11.npy')\n",
    "ingredient_list = np.load('../data/Ingredient_List_USDA_Nutrition_Info.npy')"
   ]
  },
  {
   "cell_type": "code",
   "execution_count": 3,
   "metadata": {
    "colab": {},
    "colab_type": "code",
    "id": "StIjsMUarVlO"
   },
   "outputs": [],
   "source": [
    "def suggestKBestReplacements(nutrition_adj_mat,ingr_number,k):\n",
    "    \"\"\" Find the indices of the k nearest neighbors of a given ingredient using the adjacency matrix weights\"\"\"\n",
    "    adj_values = nutrition_adj_mat[ingr_number,:]\n",
    "    maxvals = idx = (-adj_values).argsort()[:k]\n",
    "    if (np.all(adj_values == 0)):\n",
    "        maxvals = []\n",
    "    return maxvals"
   ]
  },
  {
   "cell_type": "code",
   "execution_count": 4,
   "metadata": {
    "colab": {
     "base_uri": "https://localhost:8080/",
     "height": 69
    },
    "colab_type": "code",
    "id": "l4RtqM4eqS2m",
    "outputId": "36f84ddd-3be2-412b-96b5-3d59cc429faf"
   },
   "outputs": [
    {
     "name": "stdout",
     "output_type": "stream",
     "text": [
      "Original Ingredient: beef, rib eye steak, boneless, lip off, separable lean and fat, trimmed to 0\" fat, all grades, cooked, grilled\n",
      "5 best replacements: ['fish, catfish, channel, wild, raw' 'fish, tilapia, raw'\n",
      " 'cheese, mozzarella, low sodium' 'meatballs, meatless' 'cheese, brie']\n"
     ]
    }
   ],
   "source": [
    "ingr_number = 25 #Change this number to try different ingredients! \n",
    "k = 5\n",
    "maxvals = suggestKBestReplacements(nutrition_adj_mat,ingr_number,k)\n",
    "print(\"Original Ingredient: {0}\".format(ingredient_list[ingr_number]))\n",
    "if (len(maxvals)==0):\n",
    "    print(\"No replacements found!\")\n",
    "else: \n",
    "    print(\"{0} best replacements: {1}\".format(k,ingredient_list[maxvals]))"
   ]
  },
  {
   "cell_type": "markdown",
   "metadata": {
    "colab_type": "text",
    "id": "tgYw2ptVA1Qi"
   },
   "source": [
    "Try with the combined recipe/nutrition matrix"
   ]
  },
  {
   "cell_type": "code",
   "execution_count": 5,
   "metadata": {
    "colab": {
     "base_uri": "https://localhost:8080/",
     "height": 121
    },
    "colab_type": "code",
    "id": "6v0yLjQRA6rG",
    "outputId": "5d5c936a-7c4b-4805-e240-ce089057164e"
   },
   "outputs": [
    {
     "name": "stdout",
     "output_type": "stream",
     "text": [
      "Original Ingredient: beef, rib eye steak, boneless, lip off, separable lean and fat, trimmed to 0\" fat, all grades, cooked, grilled\n",
      "5 best replacements: ['cheese, feta' 'spices, garlic powder' 'mustard, prepared, yellow'\n",
      " 'alcoholic beverage, beer, regular, all' 'onions, raw']\n"
     ]
    }
   ],
   "source": [
    "ingr_number = 25 #Change this number to try different ingredients! \n",
    "k = 5\n",
    "maxvals = suggestKBestReplacements(combined_adj_mat,ingr_number,k)\n",
    "print(\"Original Ingredient: {0}\".format(ingredient_list[ingr_number]))\n",
    "if (len(maxvals)==0):\n",
    "    print(\"No replacements found!\")\n",
    "else: \n",
    "    print(\"{0} best replacements: {1}\".format(k,ingredient_list[maxvals]))"
   ]
  },
  {
   "cell_type": "markdown",
   "metadata": {},
   "source": [
    "## Conclusion\n",
    "\n",
    "Replacement with kNN on the nutritional graph makes sense as it suggests ingredients that play the same role in the recipe.\n",
    "However it might not fit well in the context of the recipe, which is what we wanted to be innovative in our solution: using those network links to predict consistent ingredients. For this purpose, we created a combined adjacency matrix using both nutritional and \"common participation in recipes\" information. Unfortunately, applying kNN on this graph doesn't seem to properly keep the nutritional distance as it suggest to, for example, replace meat with some spice.... even though the latter suggestion might fit well in the recipe, it won't play the same role."
   ]
  }
 ],
 "metadata": {
  "colab": {
   "collapsed_sections": [],
   "name": "kNN_ingredient_replacement.ipynb",
   "provenance": []
  },
  "kernelspec": {
   "display_name": "Python 3",
   "language": "python",
   "name": "python3"
  },
  "language_info": {
   "codemirror_mode": {
    "name": "ipython",
    "version": 3
   },
   "file_extension": ".py",
   "mimetype": "text/x-python",
   "name": "python",
   "nbconvert_exporter": "python",
   "pygments_lexer": "ipython3",
   "version": "3.7.4"
  }
 },
 "nbformat": 4,
 "nbformat_minor": 1
}
